{
 "cells": [
  {
   "cell_type": "markdown",
   "metadata": {},
   "source": [
    "# Creating a Sentiment Analysis Web App\n",
    "## Using PyTorch and SageMaker\n",
    "\n",
    "_Deep Learning Nanodegree Program | Deployment_\n",
    "\n",
    "---\n",
    "\n",
    "Now that we have a basic understanding of how SageMaker works we will try to use it to construct a complete project from end to end. Our goal will be to have a simple web page which a user can use to enter a movie review. The web page will then send the review off to our deployed model which will predict the sentiment of the entered review.\n",
    "\n",
    "## Instructions\n",
    "\n",
    "Some template code has already been provided for you, and you will need to implement additional functionality to successfully complete this notebook. You will not need to modify the included code beyond what is requested. Sections that begin with '**TODO**' in the header indicate that you need to complete or implement some portion within them. Instructions will be provided for each section and the specifics of the implementation are marked in the code block with a `# TODO: ...` comment. Please be sure to read the instructions carefully!\n",
    "\n",
    "In addition to implementing code, there will be questions for you to answer which relate to the task and your implementation. Each section where you will answer a question is preceded by a '**Question:**' header. Carefully read each question and provide your answer below the '**Answer:**' header by editing the Markdown cell.\n",
    "\n",
    "> **Note**: Code and Markdown cells can be executed using the **Shift+Enter** keyboard shortcut. In addition, a cell can be edited by typically clicking it (double-click for Markdown cells) or by pressing **Enter** while it is highlighted.\n",
    "\n",
    "## General Outline\n",
    "\n",
    "Recall the general outline for SageMaker projects using a notebook instance.\n",
    "\n",
    "1. Download or otherwise retrieve the data.\n",
    "2. Process / Prepare the data.\n",
    "3. Upload the processed data to S3.\n",
    "4. Train a chosen model.\n",
    "5. Test the trained model (typically using a batch transform job).\n",
    "6. Deploy the trained model.\n",
    "7. Use the deployed model.\n",
    "\n",
    "For this project, you will be following the steps in the general outline with some modifications. \n",
    "\n",
    "First, you will not be testing the model in its own step. You will still be testing the model, however, you will do it by deploying your model and then using the deployed model by sending the test data to it. One of the reasons for doing this is so that you can make sure that your deployed model is working correctly before moving forward.\n",
    "\n",
    "In addition, you will deploy and use your trained model a second time. In the second iteration you will customize the way that your trained model is deployed by including some of your own code. In addition, your newly deployed model will be used in the sentiment analysis web app."
   ]
  },
  {
   "cell_type": "markdown",
   "metadata": {},
   "source": [
    "## Step 1: Downloading the data\n",
    "\n",
    "As in the XGBoost in SageMaker notebook, we will be using the [IMDb dataset](http://ai.stanford.edu/~amaas/data/sentiment/)\n",
    "\n",
    "> Maas, Andrew L., et al. [Learning Word Vectors for Sentiment Analysis](http://ai.stanford.edu/~amaas/data/sentiment/). In _Proceedings of the 49th Annual Meeting of the Association for Computational Linguistics: Human Language Technologies_. Association for Computational Linguistics, 2011."
   ]
  },
  {
   "cell_type": "code",
   "execution_count": 1,
   "metadata": {},
   "outputs": [
    {
     "name": "stdout",
     "output_type": "stream",
     "text": [
      "mkdir: cannot create directory ‘../data’: File exists\n",
      "--2019-12-04 15:49:46--  http://ai.stanford.edu/~amaas/data/sentiment/aclImdb_v1.tar.gz\n",
      "Resolving ai.stanford.edu (ai.stanford.edu)... 171.64.68.10\n",
      "Connecting to ai.stanford.edu (ai.stanford.edu)|171.64.68.10|:80... connected.\n",
      "HTTP request sent, awaiting response... 200 OK\n",
      "Length: 84125825 (80M) [application/x-gzip]\n",
      "Saving to: ‘../data/aclImdb_v1.tar.gz’\n",
      "\n",
      "../data/aclImdb_v1. 100%[===================>]  80.23M  23.7MB/s    in 4.7s    \n",
      "\n",
      "2019-12-04 15:49:51 (16.9 MB/s) - ‘../data/aclImdb_v1.tar.gz’ saved [84125825/84125825]\n",
      "\n"
     ]
    }
   ],
   "source": [
    "%mkdir ../data\n",
    "!wget -O ../data/aclImdb_v1.tar.gz http://ai.stanford.edu/~amaas/data/sentiment/aclImdb_v1.tar.gz\n",
    "!tar -zxf ../data/aclImdb_v1.tar.gz -C ../data"
   ]
  },
  {
   "cell_type": "markdown",
   "metadata": {},
   "source": [
    "## Step 2: Preparing and Processing the data\n",
    "\n",
    "Also, as in the XGBoost notebook, we will be doing some initial data processing. The first few steps are the same as in the XGBoost example. To begin with, we will read in each of the reviews and combine them into a single input structure. Then, we will split the dataset into a training set and a testing set."
   ]
  },
  {
   "cell_type": "code",
   "execution_count": 2,
   "metadata": {},
   "outputs": [],
   "source": [
    "import os\n",
    "import glob\n",
    "\n",
    "def read_imdb_data(data_dir='../data/aclImdb'):\n",
    "    data = {}\n",
    "    labels = {}\n",
    "    \n",
    "    for data_type in ['train', 'test']:\n",
    "        data[data_type] = {}\n",
    "        labels[data_type] = {}\n",
    "        \n",
    "        for sentiment in ['pos', 'neg']:\n",
    "            data[data_type][sentiment] = []\n",
    "            labels[data_type][sentiment] = []\n",
    "            \n",
    "            path = os.path.join(data_dir, data_type, sentiment, '*.txt')\n",
    "            files = glob.glob(path)\n",
    "            \n",
    "            for f in files:\n",
    "                with open(f) as review:\n",
    "                    data[data_type][sentiment].append(review.read())\n",
    "                    # Here we represent a positive review by '1' and a negative review by '0'\n",
    "                    labels[data_type][sentiment].append(1 if sentiment == 'pos' else 0)\n",
    "                    \n",
    "            assert len(data[data_type][sentiment]) == len(labels[data_type][sentiment]), \\\n",
    "                    \"{}/{} data size does not match labels size\".format(data_type, sentiment)\n",
    "                \n",
    "    return data, labels"
   ]
  },
  {
   "cell_type": "code",
   "execution_count": 3,
   "metadata": {},
   "outputs": [
    {
     "name": "stdout",
     "output_type": "stream",
     "text": [
      "IMDB reviews: train = 12500 pos / 12500 neg, test = 12500 pos / 12500 neg\n"
     ]
    }
   ],
   "source": [
    "data, labels = read_imdb_data()\n",
    "print(\"IMDB reviews: train = {} pos / {} neg, test = {} pos / {} neg\".format(\n",
    "            len(data['train']['pos']), len(data['train']['neg']),\n",
    "            len(data['test']['pos']), len(data['test']['neg'])))"
   ]
  },
  {
   "cell_type": "markdown",
   "metadata": {},
   "source": [
    "Now that we've read the raw training and testing data from the downloaded dataset, we will combine the positive and negative reviews and shuffle the resulting records."
   ]
  },
  {
   "cell_type": "code",
   "execution_count": 4,
   "metadata": {},
   "outputs": [],
   "source": [
    "from sklearn.utils import shuffle\n",
    "\n",
    "def prepare_imdb_data(data, labels):\n",
    "    \"\"\"Prepare training and test sets from IMDb movie reviews.\"\"\"\n",
    "    \n",
    "    #Combine positive and negative reviews and labels\n",
    "    data_train = data['train']['pos'] + data['train']['neg']\n",
    "    data_test = data['test']['pos'] + data['test']['neg']\n",
    "    labels_train = labels['train']['pos'] + labels['train']['neg']\n",
    "    labels_test = labels['test']['pos'] + labels['test']['neg']\n",
    "    \n",
    "    #Shuffle reviews and corresponding labels within training and test sets\n",
    "    data_train, labels_train = shuffle(data_train, labels_train)\n",
    "    data_test, labels_test = shuffle(data_test, labels_test)\n",
    "    \n",
    "    # Return a unified training data, test data, training labels, test labets\n",
    "    return data_train, data_test, labels_train, labels_test"
   ]
  },
  {
   "cell_type": "code",
   "execution_count": 5,
   "metadata": {},
   "outputs": [
    {
     "name": "stdout",
     "output_type": "stream",
     "text": [
      "IMDb reviews (combined): train = 25000, test = 25000\n"
     ]
    }
   ],
   "source": [
    "train_X, test_X, train_y, test_y = prepare_imdb_data(data, labels)\n",
    "print(\"IMDb reviews (combined): train = {}, test = {}\".format(len(train_X), len(test_X)))"
   ]
  },
  {
   "cell_type": "markdown",
   "metadata": {},
   "source": [
    "Now that we have our training and testing sets unified and prepared, we should do a quick check and see an example of the data our model will be trained on. This is generally a good idea as it allows you to see how each of the further processing steps affects the reviews and it also ensures that the data has been loaded correctly."
   ]
  },
  {
   "cell_type": "code",
   "execution_count": 6,
   "metadata": {},
   "outputs": [
    {
     "name": "stdout",
     "output_type": "stream",
     "text": [
      "I rented this one to see Vanesa Talor one more time. She can act, but doesn't get a chance in this clunker. The opening sequence is an elaborate crane shot of mountain landscapes. Must have come from a stock archive, because the movie is shot direct to videotape. The production values make _Blair Witch_ look professional. There's a really cheesy animated statue, but no other effects worth noting. This movie is bad, but not amusingly so. The players would do well not to mention it on their resumes.\n",
      "0\n"
     ]
    }
   ],
   "source": [
    "print(train_X[100])\n",
    "print(train_y[100])"
   ]
  },
  {
   "cell_type": "markdown",
   "metadata": {},
   "source": [
    "The first step in processing the reviews is to make sure that any html tags that appear should be removed. In addition we wish to tokenize our input, that way words such as *entertained* and *entertaining* are considered the same with regard to sentiment analysis."
   ]
  },
  {
   "cell_type": "code",
   "execution_count": 7,
   "metadata": {},
   "outputs": [],
   "source": [
    "import nltk\n",
    "from nltk.corpus import stopwords\n",
    "from nltk.stem.porter import *\n",
    "\n",
    "import re\n",
    "from bs4 import BeautifulSoup\n",
    "\n",
    "def review_to_words(review):\n",
    "    nltk.download(\"stopwords\", quiet=True)\n",
    "    stemmer = PorterStemmer()\n",
    "    \n",
    "    text = BeautifulSoup(review, \"html.parser\").get_text() # Remove HTML tags\n",
    "    text = re.sub(r\"[^a-zA-Z0-9]\", \" \", text.lower()) # Convert to lower case\n",
    "    words = text.split() # Split string into words\n",
    "    words = [w for w in words if w not in stopwords.words(\"english\")] # Remove stopwords\n",
    "    words = [PorterStemmer().stem(w) for w in words] # stem\n",
    "    \n",
    "    return words"
   ]
  },
  {
   "cell_type": "markdown",
   "metadata": {},
   "source": [
    "The `review_to_words` method defined above uses `BeautifulSoup` to remove any html tags that appear and uses the `nltk` package to tokenize the reviews. As a check to ensure we know how everything is working, try applying `review_to_words` to one of the reviews in the training set."
   ]
  },
  {
   "cell_type": "code",
   "execution_count": 8,
   "metadata": {},
   "outputs": [
    {
     "data": {
      "text/plain": [
       "['rent',\n",
       " 'one',\n",
       " 'see',\n",
       " 'vanesa',\n",
       " 'talor',\n",
       " 'one',\n",
       " 'time',\n",
       " 'act',\n",
       " 'get',\n",
       " 'chanc',\n",
       " 'clunker',\n",
       " 'open',\n",
       " 'sequenc',\n",
       " 'elabor',\n",
       " 'crane',\n",
       " 'shot',\n",
       " 'mountain',\n",
       " 'landscap',\n",
       " 'must',\n",
       " 'come',\n",
       " 'stock',\n",
       " 'archiv',\n",
       " 'movi',\n",
       " 'shot',\n",
       " 'direct',\n",
       " 'videotap',\n",
       " 'product',\n",
       " 'valu',\n",
       " 'make',\n",
       " 'blair',\n",
       " 'witch',\n",
       " 'look',\n",
       " 'profession',\n",
       " 'realli',\n",
       " 'cheesi',\n",
       " 'anim',\n",
       " 'statu',\n",
       " 'effect',\n",
       " 'worth',\n",
       " 'note',\n",
       " 'movi',\n",
       " 'bad',\n",
       " 'amusingli',\n",
       " 'player',\n",
       " 'would',\n",
       " 'well',\n",
       " 'mention',\n",
       " 'resum']"
      ]
     },
     "execution_count": 8,
     "metadata": {},
     "output_type": "execute_result"
    }
   ],
   "source": [
    "# TODO: Apply review_to_words to a review (train_X[100] or any other review)\n",
    "review_to_words(train_X[100])"
   ]
  },
  {
   "cell_type": "markdown",
   "metadata": {},
   "source": [
    "**Question:** Above we mentioned that `review_to_words` method removes html formatting and allows us to tokenize the words found in a review, for example, converting *entertained* and *entertaining* into *entertain* so that they are treated as though they are the same word. What else, if anything, does this method do to the input?"
   ]
  },
  {
   "cell_type": "markdown",
   "metadata": {},
   "source": [
    "**Answer:**\n",
    "\n",
    "除了问题中提到的，这个方法将entertaining和entertain视为同一单词以外，review_to_words这个方法还把所有的字母变成了小写，并且把原来的大段话拆分成了单词，并且把处理后的单词以list的形式储存，并且删除了原来的段落中的stopwords（指的是NLP中一些无用的单词，是一种预处理的方法，让电脑更方便的理解输入），其中英文的stopwords的完整列表可以在https://gist.github.com/sebleier/554280 这里看到。"
   ]
  },
  {
   "cell_type": "markdown",
   "metadata": {},
   "source": [
    "The method below applies the `review_to_words` method to each of the reviews in the training and testing datasets. In addition it caches the results. This is because performing this processing step can take a long time. This way if you are unable to complete the notebook in the current session, you can come back without needing to process the data a second time."
   ]
  },
  {
   "cell_type": "code",
   "execution_count": 9,
   "metadata": {},
   "outputs": [],
   "source": [
    "import pickle\n",
    "\n",
    "cache_dir = os.path.join(\"../cache\", \"sentiment_analysis\")  # where to store cache files\n",
    "os.makedirs(cache_dir, exist_ok=True)  # ensure cache directory exists\n",
    "\n",
    "def preprocess_data(data_train, data_test, labels_train, labels_test,\n",
    "                    cache_dir=cache_dir, cache_file=\"preprocessed_data.pkl\"):\n",
    "    \"\"\"Convert each review to words; read from cache if available.\"\"\"\n",
    "\n",
    "    # If cache_file is not None, try to read from it first\n",
    "    cache_data = None\n",
    "    if cache_file is not None:\n",
    "        try:\n",
    "            with open(os.path.join(cache_dir, cache_file), \"rb\") as f:\n",
    "                cache_data = pickle.load(f)\n",
    "            print(\"Read preprocessed data from cache file:\", cache_file)\n",
    "        except:\n",
    "            pass  # unable to read from cache, but that's okay\n",
    "    \n",
    "    # If cache is missing, then do the heavy lifting\n",
    "    if cache_data is None:\n",
    "        # Preprocess training and test data to obtain words for each review\n",
    "        #words_train = list(map(review_to_words, data_train))\n",
    "        #words_test = list(map(review_to_words, data_test))\n",
    "        words_train = [review_to_words(review) for review in data_train]\n",
    "        words_test = [review_to_words(review) for review in data_test]\n",
    "        \n",
    "        # Write to cache file for future runs\n",
    "        if cache_file is not None:\n",
    "            cache_data = dict(words_train=words_train, words_test=words_test,\n",
    "                              labels_train=labels_train, labels_test=labels_test)\n",
    "            with open(os.path.join(cache_dir, cache_file), \"wb\") as f:\n",
    "                pickle.dump(cache_data, f)\n",
    "            print(\"Wrote preprocessed data to cache file:\", cache_file)\n",
    "    else:\n",
    "        # Unpack data loaded from cache file\n",
    "        words_train, words_test, labels_train, labels_test = (cache_data['words_train'],\n",
    "                cache_data['words_test'], cache_data['labels_train'], cache_data['labels_test'])\n",
    "    \n",
    "    return words_train, words_test, labels_train, labels_test"
   ]
  },
  {
   "cell_type": "code",
   "execution_count": 10,
   "metadata": {},
   "outputs": [
    {
     "name": "stdout",
     "output_type": "stream",
     "text": [
      "Read preprocessed data from cache file: preprocessed_data.pkl\n"
     ]
    }
   ],
   "source": [
    "# Preprocess data\n",
    "train_X, test_X, train_y, test_y = preprocess_data(train_X, test_X, train_y, test_y)"
   ]
  },
  {
   "cell_type": "markdown",
   "metadata": {},
   "source": [
    "## Transform the data\n",
    "\n",
    "In the XGBoost notebook we transformed the data from its word representation to a bag-of-words feature representation. For the model we are going to construct in this notebook we will construct a feature representation which is very similar. To start, we will represent each word as an integer. Of course, some of the words that appear in the reviews occur very infrequently and so likely don't contain much information for the purposes of sentiment analysis. The way we will deal with this problem is that we will fix the size of our working vocabulary and we will only include the words that appear most frequently. We will then combine all of the infrequent words into a single category and, in our case, we will label it as `1`.\n",
    "\n",
    "Since we will be using a recurrent neural network, it will be convenient if the length of each review is the same. To do this, we will fix a size for our reviews and then pad short reviews with the category 'no word' (which we will label `0`) and truncate long reviews."
   ]
  },
  {
   "cell_type": "markdown",
   "metadata": {},
   "source": [
    "### (TODO) Create a word dictionary\n",
    "\n",
    "To begin with, we need to construct a way to map words that appear in the reviews to integers. Here we fix the size of our vocabulary (including the 'no word' and 'infrequent' categories) to be `5000` but you may wish to change this to see how it affects the model.\n",
    "\n",
    "> **TODO:** Complete the implementation for the `build_dict()` method below. Note that even though the vocab_size is set to `5000`, we only want to construct a mapping for the most frequently appearing `4998` words. This is because we want to reserve the special labels `0` for 'no word' and `1` for 'infrequent word'."
   ]
  },
  {
   "cell_type": "code",
   "execution_count": 11,
   "metadata": {},
   "outputs": [],
   "source": [
    "import numpy as np\n",
    "from collections import Counter\n",
    "\n",
    "def build_dict(data, vocab_size = 5000):\n",
    "    \"\"\"Construct and return a dictionary mapping each of the most frequently appearing words to a unique integer.\"\"\"\n",
    "    \n",
    "    # TODO: Determine how often each word appears in `data`. Note that `data` is a list of sentences and that a\n",
    "    #       sentence is a list of words.\n",
    "    \n",
    "    word_count = Counter(np.concatenate(data, axis=0)) # A dict storing the words that appear in the reviews along with how often they occur\n",
    "    \n",
    "    # TODO: Sort the words found in `data` so that sorted_words[0] is the most frequently appearing word and\n",
    "    #       sorted_words[-1] is the least frequently appearing word.\n",
    "    \n",
    "    sorted_words = [values[0] for values in sorted(word_count.items(), key=lambda x: x[1], reverse=True)]\n",
    "    \n",
    "    word_dict = {} # This is what we are building, a dictionary that translates words into integers\n",
    "    for idx, word in enumerate(sorted_words[:vocab_size - 2]): # The -2 is so that we save room for the 'no word'\n",
    "        word_dict[word] = idx + 2                              # 'infrequent' labels\n",
    "        \n",
    "    return word_dict"
   ]
  },
  {
   "cell_type": "code",
   "execution_count": 12,
   "metadata": {},
   "outputs": [],
   "source": [
    "word_dict = build_dict(train_X)"
   ]
  },
  {
   "cell_type": "markdown",
   "metadata": {},
   "source": [
    "**Question:** What are the five most frequently appearing (tokenized) words in the training set? Does it makes sense that these words appear frequently in the training set?"
   ]
  },
  {
   "cell_type": "markdown",
   "metadata": {},
   "source": [
    "**Answer:**\n",
    "\n",
    "在训练集中出现频率最高的五个单词是：['movi', 'film', 'one', 'like', 'time']\n",
    "\n",
    "这个结果是很合理的，因为这段话的来源是电影评论，这五个单词的出现很频繁。"
   ]
  },
  {
   "cell_type": "code",
   "execution_count": 13,
   "metadata": {},
   "outputs": [
    {
     "name": "stdout",
     "output_type": "stream",
     "text": [
      "['movi', 'film', 'one', 'like', 'time']\n",
      "{'movi': 2, 'film': 3, 'one': 4, 'like': 5, 'time': 6, 'good': 7, 'make': 8, 'charact': 9, 'get': 10, 'see': 11, 'watch': 12, 'stori': 13, 'even': 14, 'would': 15, 'realli': 16, 'well': 17, 'scene': 18, 'look': 19, 'show': 20, 'much': 21, 'end': 22, 'peopl': 23, 'bad': 24, 'go': 25, 'great': 26, 'also': 27, 'first': 28, 'love': 29, 'think': 30, 'way': 31, 'act': 32, 'play': 33, 'made': 34, 'thing': 35, 'could': 36, 'know': 37, 'say': 38, 'seem': 39, 'work': 40, 'plot': 41, 'two': 42, 'actor': 43, 'year': 44, 'come': 45, 'mani': 46, 'seen': 47, 'take': 48, 'life': 49, 'want': 50, 'never': 51, 'littl': 52, 'best': 53, 'tri': 54, 'man': 55, 'ever': 56, 'give': 57, 'better': 58, 'still': 59, 'perform': 60, 'find': 61, 'feel': 62, 'part': 63, 'back': 64, 'use': 65, 'someth': 66, 'director': 67, 'actual': 68, 'interest': 69, 'lot': 70, 'real': 71, 'old': 72, 'cast': 73, 'though': 74, 'live': 75, 'star': 76, 'enjoy': 77, 'guy': 78, 'anoth': 79, 'new': 80, 'role': 81, 'noth': 82, '10': 83, 'funni': 84, 'music': 85, 'point': 86, 'start': 87, 'set': 88, 'girl': 89, 'origin': 90, 'day': 91, 'world': 92, 'everi': 93, 'believ': 94, 'turn': 95, 'quit': 96, 'us': 97, 'direct': 98, 'thought': 99, 'fact': 100, 'minut': 101, 'horror': 102, 'kill': 103, 'action': 104, 'comedi': 105, 'pretti': 106, 'young': 107, 'wonder': 108, 'happen': 109, 'around': 110, 'got': 111, 'effect': 112, 'right': 113, 'long': 114, 'howev': 115, 'big': 116, 'line': 117, 'famili': 118, 'enough': 119, 'seri': 120, 'may': 121, 'need': 122, 'fan': 123, 'bit': 124, 'script': 125, 'beauti': 126, 'person': 127, 'becom': 128, 'without': 129, 'must': 130, 'alway': 131, 'friend': 132, 'tell': 133, 'reason': 134, 'saw': 135, 'last': 136, 'final': 137, 'kid': 138, 'almost': 139, 'put': 140, 'least': 141, 'sure': 142, 'done': 143, 'whole': 144, 'place': 145, 'complet': 146, 'kind': 147, 'differ': 148, 'expect': 149, 'shot': 150, 'far': 151, 'mean': 152, 'anyth': 153, 'book': 154, 'laugh': 155, 'might': 156, 'name': 157, 'sinc': 158, 'begin': 159, '2': 160, 'probabl': 161, 'woman': 162, 'help': 163, 'entertain': 164, 'let': 165, 'screen': 166, 'call': 167, 'tv': 168, 'moment': 169, 'away': 170, 'read': 171, 'yet': 172, 'rather': 173, 'worst': 174, 'run': 175, 'fun': 176, 'lead': 177, 'hard': 178, 'audienc': 179, 'idea': 180, 'anyon': 181, 'episod': 182, 'american': 183, 'found': 184, 'appear': 185, 'bore': 186, 'especi': 187, 'although': 188, 'hope': 189, 'cours': 190, 'keep': 191, 'anim': 192, 'job': 193, 'goe': 194, 'move': 195, 'sens': 196, 'version': 197, 'dvd': 198, 'war': 199, 'money': 200, 'someon': 201, 'mind': 202, 'mayb': 203, 'problem': 204, 'true': 205, 'hous': 206, 'everyth': 207, 'nice': 208, 'second': 209, 'rate': 210, 'three': 211, 'night': 212, 'follow': 213, 'face': 214, 'recommend': 215, 'product': 216, 'main': 217, 'worth': 218, 'leav': 219, 'human': 220, 'special': 221, 'excel': 222, 'togeth': 223, 'wast': 224, 'everyon': 225, 'sound': 226, 'john': 227, 'hand': 228, '1': 229, 'father': 230, 'later': 231, 'eye': 232, 'said': 233, 'view': 234, 'instead': 235, 'review': 236, 'boy': 237, 'high': 238, 'hour': 239, 'miss': 240, 'talk': 241, 'classic': 242, 'wife': 243, 'understand': 244, 'left': 245, 'care': 246, 'black': 247, 'death': 248, 'open': 249, 'murder': 250, 'write': 251, 'half': 252, 'head': 253, 'rememb': 254, 'chang': 255, 'viewer': 256, 'fight': 257, 'gener': 258, 'surpris': 259, 'short': 260, 'includ': 261, 'die': 262, 'fall': 263, 'less': 264, 'els': 265, 'entir': 266, 'piec': 267, 'involv': 268, 'pictur': 269, 'simpli': 270, 'home': 271, 'power': 272, 'top': 273, 'total': 274, 'usual': 275, 'budget': 276, 'attempt': 277, 'suppos': 278, 'releas': 279, 'hollywood': 280, 'terribl': 281, 'song': 282, 'men': 283, 'possibl': 284, 'featur': 285, 'portray': 286, 'disappoint': 287, 'poor': 288, '3': 289, 'coupl': 290, 'camera': 291, 'stupid': 292, 'dead': 293, 'wrong': 294, 'produc': 295, 'low': 296, 'either': 297, 'video': 298, 'aw': 299, 'definit': 300, 'except': 301, 'rest': 302, 'given': 303, 'absolut': 304, 'women': 305, 'lack': 306, 'word': 307, 'writer': 308, 'titl': 309, 'talent': 310, 'decid': 311, 'full': 312, 'perfect': 313, 'along': 314, 'style': 315, 'close': 316, 'truli': 317, 'school': 318, 'save': 319, 'emot': 320, 'age': 321, 'sex': 322, 'next': 323, 'bring': 324, 'mr': 325, 'case': 326, 'killer': 327, 'heart': 328, 'comment': 329, 'sort': 330, 'creat': 331, 'perhap': 332, 'came': 333, 'brother': 334, 'sever': 335, 'joke': 336, 'art': 337, 'dialogu': 338, 'game': 339, 'small': 340, 'base': 341, 'flick': 342, 'written': 343, 'sequenc': 344, 'meet': 345, 'earli': 346, 'often': 347, 'other': 348, 'mother': 349, 'develop': 350, 'humor': 351, 'actress': 352, 'consid': 353, 'dark': 354, 'guess': 355, 'amaz': 356, 'unfortun': 357, 'lost': 358, 'light': 359, 'exampl': 360, 'cinema': 361, 'drama': 362, 'white': 363, 'ye': 364, 'experi': 365, 'imagin': 366, 'mention': 367, 'stop': 368, 'natur': 369, 'forc': 370, 'manag': 371, 'felt': 372, 'cut': 373, 'present': 374, 'children': 375, 'fail': 376, 'son': 377, 'support': 378, 'car': 379, 'qualiti': 380, 'ask': 381, 'hit': 382, 'side': 383, 'voic': 384, 'extrem': 385, 'impress': 386, 'evil': 387, 'wors': 388, 'stand': 389, 'went': 390, 'certainli': 391, 'basic': 392, 'oh': 393, 'overal': 394, 'favorit': 395, 'horribl': 396, 'mysteri': 397, 'number': 398, 'type': 399, 'danc': 400, 'wait': 401, 'hero': 402, '5': 403, 'alreadi': 404, 'learn': 405, 'matter': 406, '4': 407, 'michael': 408, 'genr': 409, 'fine': 410, 'despit': 411, 'throughout': 412, 'walk': 413, 'success': 414, 'histori': 415, 'question': 416, 'zombi': 417, 'town': 418, 'relationship': 419, 'realiz': 420, 'child': 421, 'past': 422, 'daughter': 423, 'late': 424, 'b': 425, 'wish': 426, 'credit': 427, 'hate': 428, 'event': 429, 'theme': 430, 'touch': 431, 'citi': 432, 'today': 433, 'sometim': 434, 'behind': 435, 'god': 436, 'twist': 437, 'sit': 438, 'stay': 439, 'deal': 440, 'annoy': 441, 'abl': 442, 'rent': 443, 'pleas': 444, 'edit': 445, 'blood': 446, 'deserv': 447, 'anyway': 448, 'comic': 449, 'appar': 450, 'soon': 451, 'gave': 452, 'etc': 453, 'level': 454, 'slow': 455, 'chanc': 456, 'score': 457, 'bodi': 458, 'brilliant': 459, 'incred': 460, 'figur': 461, 'situat': 462, 'self': 463, 'major': 464, 'stuff': 465, 'decent': 466, 'element': 467, 'return': 468, 'dream': 469, 'obvious': 470, 'continu': 471, 'order': 472, 'pace': 473, 'ridicul': 474, 'happi': 475, 'add': 476, 'group': 477, 'highli': 478, 'thank': 479, 'ladi': 480, 'novel': 481, 'speak': 482, 'pain': 483, 'career': 484, 'shoot': 485, 'strang': 486, 'heard': 487, 'sad': 488, 'husband': 489, 'polic': 490, 'import': 491, 'break': 492, 'took': 493, 'cannot': 494, 'strong': 495, 'robert': 496, 'predict': 497, 'violenc': 498, 'hilari': 499, 'recent': 500, 'countri': 501, 'known': 502, 'particularli': 503, 'pick': 504, 'documentari': 505, 'season': 506, 'critic': 507, 'jame': 508, 'compar': 509, 'alon': 510, 'obviou': 511, 'told': 512, 'state': 513, 'visual': 514, 'rock': 515, 'offer': 516, 'exist': 517, 'theater': 518, 'opinion': 519, 'gore': 520, 'hold': 521, 'crap': 522, 'result': 523, 'hear': 524, 'realiti': 525, 'room': 526, 'effort': 527, 'clich': 528, 'thriller': 529, 'caus': 530, 'sequel': 531, 'serious': 532, 'explain': 533, 'king': 534, 'local': 535, 'ago': 536, 'none': 537, 'hell': 538, 'note': 539, 'allow': 540, 'david': 541, 'sister': 542, 'simpl': 543, 'femal': 544, 'deliv': 545, 'ok': 546, 'convinc': 547, 'class': 548, 'check': 549, 'suspens': 550, 'win': 551, 'buy': 552, 'oscar': 553, 'huge': 554, 'valu': 555, 'sexual': 556, 'cool': 557, 'scari': 558, 'excit': 559, 'similar': 560, 'apart': 561, 'provid': 562, 'exactli': 563, 'avoid': 564, 'shown': 565, 'seriou': 566, 'english': 567, 'taken': 568, 'whose': 569, 'cinematographi': 570, 'shock': 571, 'polit': 572, 'spoiler': 573, 'offic': 574, 'across': 575, 'middl': 576, 'street': 577, 'pass': 578, 'messag': 579, 'charm': 580, 'somewhat': 581, 'silli': 582, 'modern': 583, 'filmmak': 584, 'confus': 585, 'form': 586, 'tale': 587, 'singl': 588, 'jack': 589, 'mostli': 590, 'attent': 591, 'carri': 592, 'william': 593, 'sing': 594, 'five': 595, 'subject': 596, 'prove': 597, 'richard': 598, 'stage': 599, 'team': 600, 'unlik': 601, 'cop': 602, 'georg': 603, 'monster': 604, 'televis': 605, 'earth': 606, 'cover': 607, 'villain': 608, 'pay': 609, 'marri': 610, 'toward': 611, 'build': 612, 'pull': 613, 'parent': 614, 'due': 615, 'fill': 616, 'respect': 617, 'four': 618, 'dialog': 619, 'remind': 620, 'futur': 621, 'typic': 622, 'weak': 623, '7': 624, 'cheap': 625, 'intellig': 626, 'british': 627, 'atmospher': 628, '80': 629, 'clearli': 630, 'dog': 631, 'paul': 632, 'non': 633, 'fast': 634, 'knew': 635, 'artist': 636, '8': 637, 'crime': 638, 'easili': 639, 'escap': 640, 'doubt': 641, 'adult': 642, 'detail': 643, 'date': 644, 'fire': 645, 'member': 646, 'romant': 647, 'gun': 648, 'drive': 649, 'straight': 650, 'fit': 651, 'beyond': 652, 'attack': 653, 'imag': 654, 'upon': 655, 'posit': 656, 'whether': 657, 'fantast': 658, 'peter': 659, 'appreci': 660, 'captur': 661, 'aspect': 662, 'ten': 663, 'plan': 664, 'discov': 665, 'remain': 666, 'near': 667, 'period': 668, 'air': 669, 'realist': 670, 'mark': 671, 'red': 672, 'dull': 673, 'adapt': 674, 'within': 675, 'lose': 676, 'spend': 677, 'color': 678, 'materi': 679, 'chase': 680, 'mari': 681, 'storylin': 682, 'forget': 683, 'bunch': 684, 'clear': 685, 'lee': 686, 'victim': 687, 'nearli': 688, 'box': 689, 'york': 690, 'inspir': 691, 'match': 692, 'mess': 693, 'finish': 694, 'standard': 695, 'easi': 696, 'truth': 697, 'busi': 698, 'suffer': 699, 'dramat': 700, 'bill': 701, 'space': 702, 'western': 703, 'e': 704, 'list': 705, 'battl': 706, 'notic': 707, 'de': 708, 'french': 709, 'ad': 710, '9': 711, 'tom': 712, 'larg': 713, 'among': 714, 'eventu': 715, 'accept': 716, 'train': 717, 'agre': 718, 'spirit': 719, 'soundtrack': 720, 'third': 721, 'teenag': 722, 'soldier': 723, 'adventur': 724, 'famou': 725, 'suggest': 726, 'sorri': 727, 'drug': 728, 'babi': 729, 'normal': 730, 'cri': 731, 'ultim': 732, 'troubl': 733, 'contain': 734, 'certain': 735, 'cultur': 736, 'romanc': 737, 'rare': 738, 'lame': 739, 'somehow': 740, 'mix': 741, 'disney': 742, 'gone': 743, 'cartoon': 744, 'student': 745, 'reveal': 746, 'fear': 747, 'suck': 748, 'kept': 749, 'attract': 750, 'appeal': 751, 'premis': 752, 'secret': 753, 'design': 754, 'greatest': 755, 'shame': 756, 'throw': 757, 'copi': 758, 'scare': 759, 'wit': 760, 'admit': 761, 'america': 762, 'relat': 763, 'particular': 764, 'brought': 765, 'screenplay': 766, 'whatev': 767, 'pure': 768, '70': 769, 'harri': 770, 'averag': 771, 'master': 772, 'describ': 773, 'treat': 774, 'male': 775, '20': 776, 'issu': 777, 'fantasi': 778, 'warn': 779, 'inde': 780, 'forward': 781, 'background': 782, 'free': 783, 'project': 784, 'memor': 785, 'japanes': 786, 'poorli': 787, 'award': 788, 'locat': 789, 'potenti': 790, 'amus': 791, 'struggl': 792, 'magic': 793, 'weird': 794, 'societi': 795, 'okay': 796, 'accent': 797, 'doctor': 798, 'imdb': 799, 'hot': 800, 'water': 801, '30': 802, 'dr': 803, 'express': 804, 'alien': 805, 'odd': 806, 'choic': 807, 'crazi': 808, 'studio': 809, 'fiction': 810, 'control': 811, 'becam': 812, 'masterpiec': 813, 'fli': 814, 'difficult': 815, 'joe': 816, 'scream': 817, 'costum': 818, 'lover': 819, 'uniqu': 820, 'refer': 821, 'remak': 822, 'vampir': 823, 'girlfriend': 824, 'prison': 825, 'execut': 826, 'wear': 827, 'jump': 828, 'wood': 829, 'unless': 830, 'creepi': 831, 'cheesi': 832, 'superb': 833, 'otherwis': 834, 'parti': 835, 'roll': 836, 'ghost': 837, 'public': 838, 'mad': 839, 'depict': 840, 'badli': 841, 'earlier': 842, 'moral': 843, 'week': 844, 'jane': 845, 'fi': 846, 'dumb': 847, 'flaw': 848, 'grow': 849, 'deep': 850, 'sci': 851, 'cat': 852, 'maker': 853, 'connect': 854, 'footag': 855, 'older': 856, 'plenti': 857, 'bother': 858, 'outsid': 859, 'stick': 860, 'gay': 861, 'catch': 862, 'plu': 863, 'co': 864, 'popular': 865, 'equal': 866, 'social': 867, 'quickli': 868, 'disturb': 869, 'perfectli': 870, 'dress': 871, '90': 872, 'era': 873, 'mistak': 874, 'lie': 875, 'ride': 876, 'previou': 877, 'combin': 878, 'concept': 879, 'band': 880, 'surviv': 881, 'rich': 882, 'answer': 883, 'front': 884, 'sweet': 885, 'christma': 886, 'insid': 887, 'eat': 888, 'concern': 889, 'bare': 890, 'ben': 891, 'beat': 892, 'listen': 893, 'c': 894, 'serv': 895, 'term': 896, 'meant': 897, 'la': 898, 'german': 899, 'stereotyp': 900, 'hardli': 901, 'law': 902, 'innoc': 903, 'desper': 904, 'memori': 905, 'promis': 906, 'intent': 907, 'cute': 908, 'inform': 909, 'variou': 910, 'steal': 911, 'brain': 912, 'post': 913, 'tone': 914, 'island': 915, 'amount': 916, 'compani': 917, 'nuditi': 918, 'track': 919, 'claim': 920, 'store': 921, 'flat': 922, '50': 923, 'hair': 924, 'land': 925, 'univers': 926, 'fairli': 927, 'danger': 928, 'kick': 929, 'scott': 930, 'player': 931, 'crew': 932, 'step': 933, 'plain': 934, 'toni': 935, 'share': 936, 'tast': 937, 'centuri': 938, 'achiev': 939, 'engag': 940, 'travel': 941, 'cold': 942, 'suit': 943, 'rip': 944, 'record': 945, 'manner': 946, 'sadli': 947, 'tension': 948, 'spot': 949, 'wrote': 950, 'fascin': 951, 'intens': 952, 'familiar': 953, 'remark': 954, 'burn': 955, 'depth': 956, 'destroy': 957, 'histor': 958, 'sleep': 959, 'purpos': 960, 'languag': 961, 'ruin': 962, 'ignor': 963, 'delight': 964, 'unbeliev': 965, 'italian': 966, 'soul': 967, 'collect': 968, 'abil': 969, 'clever': 970, 'detect': 971, 'violent': 972, 'rape': 973, 'reach': 974, 'door': 975, 'trash': 976, 'liter': 977, 'scienc': 978, 'commun': 979, 'reveng': 980, 'caught': 981, 'creatur': 982, 'approach': 983, 'trip': 984, 'intrigu': 985, 'fashion': 986, 'skill': 987, 'introduc': 988, 'paint': 989, 'complex': 990, 'channel': 991, 'camp': 992, 'christian': 993, 'extra': 994, 'hole': 995, 'ann': 996, 'mental': 997, 'immedi': 998, 'limit': 999, 'mere': 1000, 'comput': 1001, 'slightli': 1002, '6': 1003, 'million': 1004, 'conclus': 1005, 'slasher': 1006, 'suddenli': 1007, 'imposs': 1008, 'neither': 1009, 'teen': 1010, 'crimin': 1011, 'spent': 1012, 'nation': 1013, 'physic': 1014, 'respons': 1015, 'planet': 1016, 'receiv': 1017, 'fake': 1018, 'sick': 1019, 'blue': 1020, 'bizarr': 1021, 'embarrass': 1022, 'indian': 1023, '15': 1024, 'ring': 1025, 'pop': 1026, 'drop': 1027, 'drag': 1028, 'haunt': 1029, 'suspect': 1030, 'pointless': 1031, 'edg': 1032, 'search': 1033, 'handl': 1034, 'common': 1035, 'biggest': 1036, 'hurt': 1037, 'arriv': 1038, 'faith': 1039, 'technic': 1040, 'angel': 1041, 'genuin': 1042, 'dad': 1043, 'awesom': 1044, 'f': 1045, 'solid': 1046, 'colleg': 1047, 'focu': 1048, 'van': 1049, 'former': 1050, 'count': 1051, 'heavi': 1052, 'tear': 1053, 'wall': 1054, 'rais': 1055, 'laughabl': 1056, 'younger': 1057, 'visit': 1058, 'sign': 1059, 'excus': 1060, 'fair': 1061, 'cult': 1062, 'key': 1063, 'tough': 1064, 'motion': 1065, 'super': 1066, 'desir': 1067, 'addit': 1068, 'stun': 1069, 'cloth': 1070, 'exploit': 1071, 'smith': 1072, 'tortur': 1073, 'race': 1074, 'davi': 1075, 'cross': 1076, 'author': 1077, 'jim': 1078, 'minor': 1079, 'focus': 1080, 'consist': 1081, 'compel': 1082, 'commit': 1083, 'chemistri': 1084, 'pathet': 1085, 'park': 1086, 'tradit': 1087, 'frank': 1088, 'obsess': 1089, 'grade': 1090, '60': 1091, 'asid': 1092, 'brutal': 1093, 'somewher': 1094, 'steve': 1095, 'rule': 1096, 'grant': 1097, 'depress': 1098, 'u': 1099, 'opportun': 1100, 'explor': 1101, 'honest': 1102, 'besid': 1103, 'anti': 1104, 'dub': 1105, 'trailer': 1106, 'intend': 1107, 'bar': 1108, 'longer': 1109, 'regard': 1110, 'scientist': 1111, 'west': 1112, 'decad': 1113, 'judg': 1114, 'silent': 1115, 'armi': 1116, 'creativ': 1117, 'wild': 1118, 'g': 1119, 'south': 1120, 'stewart': 1121, 'draw': 1122, 'road': 1123, 'govern': 1124, 'ex': 1125, 'boss': 1126, 'practic': 1127, 'surprisingli': 1128, 'gang': 1129, 'festiv': 1130, 'motiv': 1131, 'club': 1132, 'redeem': 1133, 'green': 1134, 'london': 1135, 'page': 1136, 'militari': 1137, 'display': 1138, 'idiot': 1139, 'aliv': 1140, 'machin': 1141, 'repeat': 1142, 'thrill': 1143, 'yeah': 1144, 'nobodi': 1145, 'folk': 1146, '100': 1147, '40': 1148, 'garbag': 1149, 'journey': 1150, 'tire': 1151, 'smile': 1152, 'ground': 1153, 'bought': 1154, 'mood': 1155, 'cost': 1156, 'stone': 1157, 'sam': 1158, 'mouth': 1159, 'noir': 1160, 'agent': 1161, 'terrif': 1162, 'requir': 1163, 'utterli': 1164, 'area': 1165, 'honestli': 1166, 'sexi': 1167, 'geniu': 1168, 'report': 1169, 'humour': 1170, 'enter': 1171, 'glad': 1172, 'investig': 1173, 'serial': 1174, 'occasion': 1175, 'narr': 1176, 'passion': 1177, 'climax': 1178, 'marriag': 1179, 'studi': 1180, 'industri': 1181, 'ship': 1182, 'center': 1183, 'nowher': 1184, 'charli': 1185, 'demon': 1186, 'bear': 1187, 'hors': 1188, 'loos': 1189, 'hang': 1190, 'wow': 1191, 'graphic': 1192, 'giant': 1193, 'admir': 1194, 'send': 1195, 'damn': 1196, 'loud': 1197, 'rel': 1198, 'nake': 1199, 'subtl': 1200, 'profession': 1201, 'blow': 1202, 'bottom': 1203, 'insult': 1204, 'batman': 1205, 'boyfriend': 1206, 'r': 1207, 'doubl': 1208, 'kelli': 1209, 'initi': 1210, 'frame': 1211, 'opera': 1212, 'gem': 1213, 'affect': 1214, 'drawn': 1215, 'cinemat': 1216, 'challeng': 1217, 'church': 1218, 'l': 1219, 'seek': 1220, 'j': 1221, 'evid': 1222, 'fulli': 1223, 'nightmar': 1224, 'arm': 1225, 'essenti': 1226, 'conflict': 1227, 'henri': 1228, 'grace': 1229, 'wind': 1230, 'christoph': 1231, 'narrat': 1232, 'assum': 1233, 'witch': 1234, 'push': 1235, 'hunt': 1236, 'wise': 1237, 'chri': 1238, 'repres': 1239, 'nomin': 1240, 'month': 1241, 'affair': 1242, 'hide': 1243, 'sceneri': 1244, 'avail': 1245, 'bond': 1246, 'thu': 1247, 'smart': 1248, 'justic': 1249, 'interview': 1250, 'flashback': 1251, 'outstand': 1252, 'satisfi': 1253, 'presenc': 1254, 'constantli': 1255, 'central': 1256, 'bed': 1257, 'iron': 1258, 'content': 1259, 'sell': 1260, 'gag': 1261, 'everybodi': 1262, 'slowli': 1263, 'hotel': 1264, 'hire': 1265, 'system': 1266, 'thrown': 1267, 'individu': 1268, 'charl': 1269, 'hey': 1270, 'adam': 1271, 'allen': 1272, 'jone': 1273, 'mediocr': 1274, 'lesson': 1275, 'billi': 1276, 'ray': 1277, 'cameo': 1278, 'photographi': 1279, 'fellow': 1280, 'pari': 1281, 'strike': 1282, 'rise': 1283, 'brief': 1284, 'independ': 1285, 'absurd': 1286, 'neg': 1287, 'phone': 1288, 'impact': 1289, 'ill': 1290, 'model': 1291, 'born': 1292, 'fresh': 1293, 'spoil': 1294, 'angl': 1295, 'likabl': 1296, 'abus': 1297, 'hill': 1298, 'discuss': 1299, 'sight': 1300, 'ahead': 1301, 'photograph': 1302, 'sent': 1303, 'shine': 1304, 'logic': 1305, 'occur': 1306, 'blame': 1307, 'mainli': 1308, 'bruce': 1309, 'skip': 1310, 'forev': 1311, 'commerci': 1312, 'surround': 1313, 'teacher': 1314, 'held': 1315, 'segment': 1316, 'blond': 1317, 'zero': 1318, 'summer': 1319, 'resembl': 1320, 'satir': 1321, 'trap': 1322, 'fool': 1323, 'queen': 1324, 'ball': 1325, 'six': 1326, 'twice': 1327, 'sub': 1328, 'tragedi': 1329, 'reaction': 1330, 'pack': 1331, 'bomb': 1332, 'hospit': 1333, 'protagonist': 1334, 'will': 1335, 'mile': 1336, 'sport': 1337, 'vote': 1338, 'trust': 1339, 'drink': 1340, 'mom': 1341, 'jerri': 1342, 'encount': 1343, 'plane': 1344, 'station': 1345, 'program': 1346, 'al': 1347, 'current': 1348, 'choos': 1349, 'martin': 1350, 'celebr': 1351, 'join': 1352, 'field': 1353, 'favourit': 1354, 'tragic': 1355, 'lord': 1356, 'round': 1357, 'jean': 1358, 'vision': 1359, 'robot': 1360, 'arthur': 1361, 'tie': 1362, 'fortun': 1363, 'roger': 1364, 'random': 1365, 'intern': 1366, 'dread': 1367, 'psycholog': 1368, 'prefer': 1369, 'improv': 1370, 'nonsens': 1371, 'epic': 1372, 'formula': 1373, 'legend': 1374, 'pleasur': 1375, 'highlight': 1376, 'tape': 1377, '11': 1378, 'dollar': 1379, 'fox': 1380, 'object': 1381, 'wide': 1382, 'thin': 1383, 'gorgeou': 1384, 'porn': 1385, 'buddi': 1386, 'ugli': 1387, 'influenc': 1388, 'nasti': 1389, 'prepar': 1390, 'ii': 1391, 'warm': 1392, 'supposedli': 1393, 'reflect': 1394, 'progress': 1395, 'worthi': 1396, 'youth': 1397, 'length': 1398, 'unusu': 1399, 'latter': 1400, 'crash': 1401, 'superior': 1402, 'childhood': 1403, 'seven': 1404, 'shop': 1405, 'remot': 1406, 'theatr': 1407, 'funniest': 1408, 'paid': 1409, 'disgust': 1410, 'pilot': 1411, 'convers': 1412, 'trick': 1413, 'castl': 1414, 'fell': 1415, 'establish': 1416, 'rob': 1417, 'gangster': 1418, 'disast': 1419, 'suicid': 1420, 'mine': 1421, 'disappear': 1422, 'heaven': 1423, 'ident': 1424, 'forgotten': 1425, 'singer': 1426, 'mask': 1427, 'decis': 1428, 'tend': 1429, 'heroin': 1430, 'brian': 1431, 'partner': 1432, 'recogn': 1433, 'alan': 1434, 'desert': 1435, 'thoroughli': 1436, 'stuck': 1437, 'ms': 1438, 'sky': 1439, 'p': 1440, 'replac': 1441, 'accur': 1442, 'market': 1443, 'andi': 1444, 'seemingli': 1445, 'danni': 1446, 'clue': 1447, 'uncl': 1448, 'commentari': 1449, 'eddi': 1450, 'devil': 1451, 'jackson': 1452, 'refus': 1453, 'that': 1454, 'therefor': 1455, 'pair': 1456, 'unit': 1457, 'fate': 1458, 'accid': 1459, 'fault': 1460, 'ed': 1461, 'river': 1462, 'afraid': 1463, 'tune': 1464, 'russian': 1465, 'hidden': 1466, 'stephen': 1467, 'clean': 1468, 'quick': 1469, 'irrit': 1470, 'test': 1471, 'convey': 1472, 'instanc': 1473, 'readi': 1474, 'captain': 1475, 'european': 1476, 'frustrat': 1477, 'daniel': 1478, 'insan': 1479, 'wed': 1480, '1950': 1481, 'food': 1482, 'rescu': 1483, 'chines': 1484, 'angri': 1485, 'dirti': 1486, 'lock': 1487, 'joy': 1488, 'price': 1489, 'steven': 1490, 'cage': 1491, 'bland': 1492, 'anymor': 1493, 'rang': 1494, 'wooden': 1495, 'news': 1496, 'jason': 1497, 'n': 1498, 'rush': 1499, 'worri': 1500, 'board': 1501, 'led': 1502, '12': 1503, 'martial': 1504, 'twenti': 1505, 'cgi': 1506, 'symbol': 1507, 'transform': 1508, 'hunter': 1509, 'sentiment': 1510, 'piti': 1511, 'onto': 1512, 'johnni': 1513, 'invent': 1514, 'x': 1515, 'process': 1516, 'attitud': 1517, 'explan': 1518, 'owner': 1519, 'awar': 1520, 'aim': 1521, 'necessari': 1522, 'floor': 1523, 'energi': 1524, 'favor': 1525, 'target': 1526, 'opposit': 1527, 'religi': 1528, 'blind': 1529, 'insight': 1530, 'chick': 1531, 'window': 1532, 'movement': 1533, 'comparison': 1534, 'possess': 1535, 'deepli': 1536, 'mountain': 1537, 'research': 1538, 'grand': 1539, 'whatsoev': 1540, 'rain': 1541, 'comed': 1542, 'bank': 1543, 'mid': 1544, 'began': 1545, 'shadow': 1546, 'princ': 1547, 'parodi': 1548, 'weapon': 1549, 'friendship': 1550, 'pre': 1551, 'credibl': 1552, 'taylor': 1553, 'dougla': 1554, 'teach': 1555, 'flesh': 1556, 'hint': 1557, 'protect': 1558, 'terror': 1559, 'bloodi': 1560, 'marvel': 1561, 'accord': 1562, 'anybodi': 1563, 'drunk': 1564, 'watchabl': 1565, 'superman': 1566, 'load': 1567, 'leader': 1568, 'brown': 1569, 'freddi': 1570, 'jeff': 1571, 'seat': 1572, 'hitler': 1573, 'appropri': 1574, 'tim': 1575, 'knock': 1576, 'charg': 1577, 'keaton': 1578, 'villag': 1579, 'unknown': 1580, 'empti': 1581, 'media': 1582, 'england': 1583, 'enemi': 1584, 'unnecessari': 1585, 'dare': 1586, 'utter': 1587, 'strength': 1588, 'buck': 1589, 'perspect': 1590, 'craft': 1591, 'wave': 1592, 'kiss': 1593, 'correct': 1594, 'ford': 1595, 'nativ': 1596, 'contrast': 1597, 'knowledg': 1598, 'distract': 1599, 'nazi': 1600, 'soap': 1601, 'magnific': 1602, 'chill': 1603, 'anywher': 1604, 'speed': 1605, 'fred': 1606, 'ice': 1607, '1980': 1608, 'mission': 1609, 'breath': 1610, 'crowd': 1611, 'jr': 1612, 'moon': 1613, 'joan': 1614, 'soft': 1615, 'kate': 1616, 'frighten': 1617, '000': 1618, 'dick': 1619, 'hundr': 1620, 'dan': 1621, 'nick': 1622, 'somebodi': 1623, 'radio': 1624, 'simon': 1625, 'dozen': 1626, 'academi': 1627, 'shakespear': 1628, 'thousand': 1629, 'loss': 1630, 'andrew': 1631, 'sum': 1632, 'vehicl': 1633, 'quot': 1634, 'account': 1635, 'root': 1636, 'convent': 1637, 'leg': 1638, '1970': 1639, 'behavior': 1640, 'gold': 1641, 'regular': 1642, 'worker': 1643, 'demand': 1644, 'compet': 1645, 'pretenti': 1646, 'privat': 1647, 'interpret': 1648, 'explos': 1649, 'lynch': 1650, 'japan': 1651, 'candi': 1652, 'stretch': 1653, 'notabl': 1654, 'constant': 1655, 'debut': 1656, 'tarzan': 1657, 'sea': 1658, 'revolv': 1659, 'translat': 1660, 'prais': 1661, 'spi': 1662, 'threaten': 1663, 'sat': 1664, 'quiet': 1665, 'technolog': 1666, 'ass': 1667, 'failur': 1668, 'franc': 1669, 'jesu': 1670, 'kevin': 1671, 'higher': 1672, 'toy': 1673, 'met': 1674, 'punch': 1675, 'aid': 1676, 'abandon': 1677, 'mike': 1678, 'vh': 1679, 'interact': 1680, 'separ': 1681, 'confront': 1682, 'command': 1683, 'bet': 1684, 'recal': 1685, 'site': 1686, 'belong': 1687, 'techniqu': 1688, 'gotten': 1689, 'stunt': 1690, 'servic': 1691, 'cabl': 1692, 'freak': 1693, 'foot': 1694, 'bug': 1695, 'african': 1696, 'bright': 1697, 'jimmi': 1698, 'capabl': 1699, 'fu': 1700, 'succeed': 1701, 'clark': 1702, 'presid': 1703, 'fat': 1704, 'stock': 1705, 'boat': 1706, 'spanish': 1707, 'structur': 1708, 'gene': 1709, 'paper': 1710, 'kidnap': 1711, 'whilst': 1712, 'factor': 1713, 'belief': 1714, 'educ': 1715, 'complic': 1716, 'realis': 1717, 'bob': 1718, 'tree': 1719, 'attend': 1720, 'realism': 1721, 'witti': 1722, 'finest': 1723, 'santa': 1724, 'broken': 1725, 'assist': 1726, 'smoke': 1727, 'depart': 1728, 'determin': 1729, 'observ': 1730, 'up': 1731, 'v': 1732, 'hat': 1733, 'domin': 1734, 'lewi': 1735, 'oper': 1736, 'fame': 1737, 'rubbish': 1738, 'routin': 1739, 'safe': 1740, 'hook': 1741, 'kinda': 1742, 'morgan': 1743, 'lone': 1744, 'foreign': 1745, 'advanc': 1746, 'numer': 1747, 'rank': 1748, 'shallow': 1749, 'rose': 1750, 'civil': 1751, 'vs': 1752, 'shape': 1753, 'werewolf': 1754, 'washington': 1755, 'morn': 1756, 'gari': 1757, 'ordinari': 1758, 'accomplish': 1759, 'kong': 1760, 'winner': 1761, 'peac': 1762, 'grab': 1763, 'virtual': 1764, 'whenev': 1765, 'luck': 1766, 'h': 1767, 'offens': 1768, 'complain': 1769, 'activ': 1770, 'bigger': 1771, 'patient': 1772, 'contriv': 1773, 'unfunni': 1774, 'welcom': 1775, 'dimension': 1776, 'con': 1777, 'trek': 1778, 'pretend': 1779, 'code': 1780, 'lesbian': 1781, 'wake': 1782, 'cain': 1783, 'eric': 1784, 'dri': 1785, 'flash': 1786, 'manipul': 1787, 'guard': 1788, 'corrupt': 1789, 'albert': 1790, 'statu': 1791, 'dancer': 1792, 'awkward': 1793, 'speech': 1794, 'gain': 1795, 'sourc': 1796, 'signific': 1797, 'context': 1798, 'sean': 1799, 'clip': 1800, '13': 1801, 'corni': 1802, 'anthoni': 1803, 'psycho': 1804, 'theatric': 1805, 'w': 1806, 'reli': 1807, 'religion': 1808, 'curiou': 1809, 'advic': 1810, 'priest': 1811, 'flow': 1812, 'addict': 1813, 'specif': 1814, 'skin': 1815, 'howard': 1816, 'asian': 1817, 'secur': 1818, 'jennif': 1819, 'organ': 1820, 'core': 1821, 'comfort': 1822, 'luke': 1823, 'golden': 1824, 'promot': 1825, 'cheat': 1826, 'lucki': 1827, 'cash': 1828, 'lower': 1829, 'dislik': 1830, 'associ': 1831, 'wing': 1832, 'frequent': 1833, 'spell': 1834, 'devic': 1835, 'contribut': 1836, 'degre': 1837, 'regret': 1838, 'balanc': 1839, 'frankli': 1840, 'sake': 1841, 'lake': 1842, 'print': 1843, 'forgiv': 1844, 'mass': 1845, 'thoma': 1846, 'betti': 1847, 'gordon': 1848, 'unexpect': 1849, 'crack': 1850, 'unfold': 1851, 'categori': 1852, 'depend': 1853, 'amateur': 1854, 'invit': 1855, 'construct': 1856, 'grown': 1857, 'intellectu': 1858, 'walter': 1859, 'condit': 1860, 'matur': 1861, 'anna': 1862, 'grew': 1863, 'honor': 1864, 'sudden': 1865, 'mirror': 1866, 'sole': 1867, 'veteran': 1868, 'spectacular': 1869, 'grip': 1870, 'liner': 1871, 'overli': 1872, 'meanwhil': 1873, 'gift': 1874, 'card': 1875, 'demonstr': 1876, 'freedom': 1877, 'experienc': 1878, 'robin': 1879, 'section': 1880, 'theori': 1881, 'oliv': 1882, 'sheriff': 1883, 'brilliantli': 1884, 'unabl': 1885, 'circumst': 1886, 'subtitl': 1887, 'crappi': 1888, 'colour': 1889, 'drew': 1890, 'laughter': 1891, 'parker': 1892, 'sheer': 1893, 'cook': 1894, 'matt': 1895, 'pile': 1896, 'path': 1897, 'altern': 1898, 'treatment': 1899, 'defin': 1900, 'lawyer': 1901, 'accident': 1902, 'hall': 1903, 'wander': 1904, 'relief': 1905, 'sinatra': 1906, 'dragon': 1907, 'captiv': 1908, 'hank': 1909, 'gratuit': 1910, 'halloween': 1911, 'moor': 1912, 'unintent': 1913, 'wound': 1914, 'wayn': 1915, 'k': 1916, 'cowboy': 1917, 'jacki': 1918, 'kung': 1919, 'broadway': 1920, 'barbara': 1921, 'spoof': 1922, 'canadian': 1923, 'surreal': 1924, 'winter': 1925, 'statement': 1926, 'gonna': 1927, 'fare': 1928, 'compos': 1929, 'cheer': 1930, 'treasur': 1931, 'fish': 1932, 'sensit': 1933, 'emerg': 1934, 'victor': 1935, 'woodi': 1936, 'unrealist': 1937, 'driven': 1938, 'sympathet': 1939, 'ran': 1940, 'neighbor': 1941, 'glass': 1942, 'expos': 1943, 'topic': 1944, 'overlook': 1945, 'authent': 1946, 'menac': 1947, 'handsom': 1948, 'chief': 1949, 'ancient': 1950, 'michel': 1951, 'gross': 1952, 'network': 1953, 'cinderella': 1954, 'pleasant': 1955, 'comedian': 1956, 'built': 1957, 'stranger': 1958, 'nevertheless': 1959, 'russel': 1960, 'feet': 1961, 'contemporari': 1962, 'letter': 1963, 'underr': 1964, 'consider': 1965, 'blockbust': 1966, 'gori': 1967, 'endless': 1968, 'earn': 1969, 'miser': 1970, 'switch': 1971, 'solv': 1972, 'brook': 1973, 'bullet': 1974, 'edward': 1975, 'joseph': 1976, 'convict': 1977, 'victoria': 1978, 'virgin': 1979, 'cynic': 1980, 'chosen': 1981, 'scale': 1982, 'scenario': 1983, 'alex': 1984, '0': 1985, 'outrag': 1986, 'gut': 1987, 'sword': 1988, 'com': 1989, 'curs': 1990, 'proper': 1991, 'uk': 1992, 'driver': 1993, 'substanc': 1994, 'wrap': 1995, 'monkey': 1996, 'screenwrit': 1997, 'juli': 1998, 'indic': 1999, 'bird': 2000, 'remov': 2001, 'court': 2002, 'par': 2003, 'inevit': 2004, 'naiv': 2005, 'rental': 2006, 'loser': 2007, 'grave': 2008, 'consequ': 2009, 'roy': 2010, 'advertis': 2011, 'nanci': 2012, 'bridg': 2013, 'brave': 2014, 'slap': 2015, 'fatal': 2016, 'le': 2017, 'invis': 2018, 'germani': 2019, 'provok': 2020, 'loui': 2021, 'anger': 2022, 'footbal': 2023, 'ador': 2024, 'anderson': 2025, 'chan': 2026, 'alcohol': 2027, 'stumbl': 2028, 'willi': 2029, 'ryan': 2030, 'professor': 2031, 'patrick': 2032, 'bat': 2033, 'assassin': 2034, 'sharp': 2035, 'australian': 2036, '1930': 2037, 'amateurish': 2038, 'cell': 2039, 'strongli': 2040, 'deni': 2041, 'lousi': 2042, 'refresh': 2043, 'liber': 2044, 'eight': 2045, 'saturday': 2046, 'heck': 2047, 'ape': 2048, 'trilog': 2049, 'sin': 2050, 'resid': 2051, 'vagu': 2052, 'san': 2053, 'justifi': 2054, 'defeat': 2055, 'creator': 2056, 'mini': 2057, 'reput': 2058, 'sympathi': 2059, 'indi': 2060, 'terrifi': 2061, 'tediou': 2062, 'prevent': 2063, 'expert': 2064, 'task': 2065, 'tabl': 2066, 'endur': 2067, 'basebal': 2068, 'employ': 2069, 'trial': 2070, 'imit': 2071, 'che': 2072, 'offend': 2073, 'rival': 2074, 'beach': 2075, 'europ': 2076, 'fairi': 2077, 'complaint': 2078, 'pitch': 2079, 'weekend': 2080, 'dig': 2081, 'max': 2082, 'risk': 2083, 'murphi': 2084, 'format': 2085, 'purchas': 2086, 'harsh': 2087, 'bite': 2088, 'tini': 2089, 'glimps': 2090, 'reminisc': 2091, 'hype': 2092, 'nois': 2093, 'powel': 2094, 'titan': 2095, '14': 2096, 'fals': 2097, 'strip': 2098, 'asleep': 2099, 'prime': 2100, 'north': 2101, 'till': 2102, 'destruct': 2103, 'descript': 2104, 'texa': 2105, 'revel': 2106, 'africa': 2107, 'arrest': 2108, 'sitcom': 2109, 'surfac': 2110, 'semi': 2111, 'inner': 2112, 'uninterest': 2113, 'excess': 2114, 'spin': 2115, 'controversi': 2116, 'makeup': 2117, 'argu': 2118, 'twin': 2119, 'hitchcock': 2120, 'maintain': 2121, 'massiv': 2122, 'dinosaur': 2123, 'kim': 2124, 'ludicr': 2125, 'expens': 2126, 'stare': 2127, 'reject': 2128, 'ideal': 2129, 'melodrama': 2130, 'insist': 2131, 'nail': 2132, 'subplot': 2133, 'host': 2134, 'erot': 2135, 'ala': 2136, 'press': 2137, 'atroci': 2138, 'supernatur': 2139, 'ga': 2140, 'forest': 2141, 'columbo': 2142, 'identifi': 2143, 'cant': 2144, 'dude': 2145, 'presum': 2146, 'notch': 2147, 'character': 2148, 'closer': 2149, 'guest': 2150, 'crude': 2151, 'method': 2152, 'forgett': 2153, 'plagu': 2154, 'landscap': 2155, 'beast': 2156, 'foster': 2157, 'border': 2158, 'ear': 2159, 'princess': 2160, 'lion': 2161, 'previous': 2162, 'birth': 2163, 'pacino': 2164, 'urban': 2165, 'damag': 2166, 'aunt': 2167, 'bound': 2168, 'storytel': 2169, 'accus': 2170, 'jungl': 2171, 'propaganda': 2172, 'guid': 2173, 'thirti': 2174, 'emma': 2175, 'jess': 2176, 'chose': 2177, 'nude': 2178, 'doll': 2179, 'whoever': 2180, '25': 2181, 'warrior': 2182, 'pet': 2183, 'mate': 2184, 'mainstream': 2185, 'poster': 2186, 'latest': 2187, 'cooper': 2188, 'friday': 2189, 'exact': 2190, 'deadli': 2191, 'gritti': 2192, 'upset': 2193, 'size': 2194, 'merit': 2195, 'popul': 2196, 'wilson': 2197, 'ton': 2198, 'corps': 2199, 'contact': 2200, 'warner': 2201, 'rough': 2202, '1990': 2203, 'citizen': 2204, 'contest': 2205, 'buff': 2206, 'blend': 2207, 'sun': 2208, 'settl': 2209, 'pitt': 2210, 'metal': 2211, 'environ': 2212, 'alic': 2213, 'widow': 2214, 'overcom': 2215, 'bu': 2216, 'mgm': 2217, 'select': 2218, 'rat': 2219, 'link': 2220, 'guilti': 2221, 'particip': 2222, 'lift': 2223, 'revolut': 2224, 'ted': 2225, 'corpor': 2226, 'moron': 2227, 'prostitut': 2228, 'exagger': 2229, 'afternoon': 2230, 'corner': 2231, '1960': 2232, 'accompani': 2233, 'johnson': 2234, 'matrix': 2235, 'doom': 2236, 'friendli': 2237, 'sincer': 2238, 'leagu': 2239, 'clair': 2240, 'hood': 2241, 'multipl': 2242, 'instal': 2243, 'holm': 2244, 'irish': 2245, 'hip': 2246, 'aka': 2247, 'sunday': 2248, 'string': 2249, 'examin': 2250, 'advis': 2251, 'campi': 2252, 'grim': 2253, 'lugosi': 2254, 'junk': 2255, 'defend': 2256, 'blah': 2257, 'shut': 2258, 'confid': 2259, 'tight': 2260, 'varieti': 2261, 'icon': 2262, 'pro': 2263, 'rachel': 2264, 'shake': 2265, 'mexican': 2266, 'jaw': 2267, 'medic': 2268, 'denni': 2269, 'directli': 2270, 'attach': 2271, 'goal': 2272, 'sullivan': 2273, 'courag': 2274, 'breast': 2275, 'dean': 2276, 'sarah': 2277, 'truck': 2278, 'duke': 2279, 'prior': 2280, 'legendari': 2281, 'terrorist': 2282, 'sentenc': 2283, 'vietnam': 2284, 'bourn': 2285, 'un': 2286, 'hong': 2287, 'donald': 2288, 'behav': 2289, 'nose': 2290, 'entri': 2291, 'yell': 2292, 'proceed': 2293, 'split': 2294, 'gather': 2295, 'everywher': 2296, 'crush': 2297, 'stolen': 2298, 'buri': 2299, 'concentr': 2300, 'jerk': 2301, 'lifetim': 2302, 'forth': 2303, 'borrow': 2304, 'confess': 2305, 'swim': 2306, 'unconvinc': 2307, 'deliveri': 2308, 'julia': 2309, 'california': 2310, 'pan': 2311, 'turkey': 2312, 'spite': 2313, 'lip': 2314, 'proud': 2315, 'reward': 2316, 'downright': 2317, 'hoffman': 2318, 'china': 2319, 'flight': 2320, 'offici': 2321, 'quest': 2322, 'freeman': 2323, 'sir': 2324, 'betray': 2325, 'inept': 2326, 'encourag': 2327, 'jail': 2328, 'jon': 2329, 'fade': 2330, 'sink': 2331, 'lazi': 2332, 'worthwhil': 2333, 'fabul': 2334, 'notori': 2335, 'storm': 2336, 'shower': 2337, 'lisa': 2338, 'retard': 2339, 'cousin': 2340, 'teeth': 2341, 'bag': 2342, 'relev': 2343, 'survivor': 2344, 'branagh': 2345, 'susan': 2346, 'bell': 2347, 'imageri': 2348, 'quirki': 2349, 'toler': 2350, 'finger': 2351, 'facial': 2352, 'tremend': 2353, 'bride': 2354, 'hugh': 2355, 'shark': 2356, 'summari': 2357, 'mexico': 2358, 'stab': 2359, 'trade': 2360, 'alright': 2361, 'bitter': 2362, 'hyster': 2363, 'blown': 2364, 'pose': 2365, 'ha': 2366, 'von': 2367, 'address': 2368, 'scheme': 2369, 'bone': 2370, 'christ': 2371, 'ron': 2372, 'larri': 2373, 'cruel': 2374, 'afterward': 2375, 'ned': 2376, 'pursu': 2377, 'snake': 2378, 'swear': 2379, 'traci': 2380, 'screw': 2381, 'tour': 2382, 'distinct': 2383, 'feed': 2384, 'beg': 2385, 'thumb': 2386, 'occas': 2387, 'raw': 2388, 'stomach': 2389, 'mechan': 2390, 'chair': 2391, 'photo': 2392, 'obscur': 2393, 'heavili': 2394, 'argument': 2395, 'cabin': 2396, 'sidney': 2397, 'necessarili': 2398, 'southern': 2399, 'chain': 2400, 'render': 2401, 'resist': 2402, 'hardi': 2403, 'holiday': 2404, 'gruesom': 2405, 'indulg': 2406, 'india': 2407, 'understood': 2408, 'racist': 2409, 'philip': 2410, 'satan': 2411, 'stalk': 2412, 'belov': 2413, 'pregnant': 2414, 'forgot': 2415, 'lay': 2416, 'outfit': 2417, 'midnight': 2418, 'integr': 2419, 'obnoxi': 2420, 'fourth': 2421, 'tongu': 2422, 'restor': 2423, 'slapstick': 2424, 'ticket': 2425, 'magazin': 2426, 'carol': 2427, 'inhabit': 2428, 'garden': 2429, '17': 2430, 'deeper': 2431, 'devot': 2432, 'shoe': 2433, 'brad': 2434, 'lincoln': 2435, 'incid': 2436, 'underground': 2437, 'divorc': 2438, 'disbelief': 2439, 'elizabeth': 2440, 'anticip': 2441, 'benefit': 2442, 'guarante': 2443, 'sandler': 2444, 'maria': 2445, 'lili': 2446, 'bbc': 2447, 'explod': 2448, 'mildli': 2449, 'capit': 2450, 'creation': 2451, 'amazingli': 2452, 'slave': 2453, 'princip': 2454, 'greater': 2455, 'cring': 2456, 'extraordinari': 2457, 'funnier': 2458, 'introduct': 2459, 'lesli': 2460, 'halfway': 2461, 'extent': 2462, 'wreck': 2463, 'advantag': 2464, 'tap': 2465, 'punish': 2466, 'enhanc': 2467, 'overwhelm': 2468, 'transfer': 2469, 'text': 2470, 'east': 2471, 'lo': 2472, 'jessica': 2473, 'plant': 2474, 'preview': 2475, 'error': 2476, 'horrif': 2477, 'deliber': 2478, 'lane': 2479, 'dynam': 2480, 'ensu': 2481, 'appli': 2482, 'miscast': 2483, 'basi': 2484, '2000': 2485, 'homosexu': 2486, 'vacat': 2487, 'sophist': 2488, 'vincent': 2489, 'miller': 2490, 'measur': 2491, 'uncomfort': 2492, 'spoken': 2493, 'bollywood': 2494, 'sleazi': 2495, 'elev': 2496, 'steel': 2497, 'mansion': 2498, 'extend': 2499, 'via': 2500, 'reed': 2501, 'blair': 2502, 'alter': 2503, 'goofi': 2504, 'beer': 2505, 'breathtak': 2506, 'daili': 2507, 'fix': 2508, 'conceiv': 2509, 'melt': 2510, 'cathol': 2511, 'overact': 2512, 'mous': 2513, 'savag': 2514, 'hippi': 2515, 'dentist': 2516, 'assign': 2517, 'stanley': 2518, 'sacrific': 2519, 'oppos': 2520, 'succe': 2521, 'burt': 2522, 'nowaday': 2523, 'subsequ': 2524, 'everyday': 2525, 'carpent': 2526, 'inspector': 2527, 'properli': 2528, 'massacr': 2529, 'neck': 2530, 'circl': 2531, 'laura': 2532, 'block': 2533, 'lesser': 2534, 'pool': 2535, 'christi': 2536, 'mob': 2537, 'concert': 2538, 'grey': 2539, 'access': 2540, 'fay': 2541, 'fallen': 2542, 'portrait': 2543, 'seagal': 2544, 'chees': 2545, 'react': 2546, 'usa': 2547, 'isol': 2548, 'sinist': 2549, 'jewish': 2550, 'jake': 2551, 'competit': 2552, 'relax': 2553, '2006': 2554, 'nine': 2555, 'stink': 2556, 'nonetheless': 2557, 'appal': 2558, 'immens': 2559, 'creep': 2560, 'chop': 2561, 'spiritu': 2562, 'lyric': 2563, 'suitabl': 2564, 'ironi': 2565, 'needless': 2566, 'retir': 2567, 'shirt': 2568, 'adopt': 2569, 'rage': 2570, 'reduc': 2571, 'user': 2572, 'navi': 2573, 'luci': 2574, 'showcas': 2575, 'franchis': 2576, 'spring': 2577, 'sold': 2578, 'nut': 2579, 'jay': 2580, 'stanwyck': 2581, 'bulli': 2582, 'nurs': 2583, 'bath': 2584, 'asham': 2585, 'zone': 2586, 'per': 2587, 'digit': 2588, 'uninspir': 2589, 'oddli': 2590, 'laid': 2591, 'illustr': 2592, 'upper': 2593, 'broadcast': 2594, '2001': 2595, 'amongst': 2596, '1940': 2597, 'sutherland': 2598, 'aspir': 2599, 'disguis': 2600, 'fulfil': 2601, 'throat': 2602, 'brando': 2603, 'stylish': 2604, 'baker': 2605, 'pound': 2606, 'neighborhood': 2607, '18': 2608, 'nobl': 2609, 'wwii': 2610, 'thief': 2611, 'em': 2612, 'endear': 2613, 'wanna': 2614, 'impli': 2615, 'pride': 2616, 'coher': 2617, 'tens': 2618, 'dinner': 2619, 'cinematograph': 2620, 'shoulder': 2621, 'bett': 2622, 'bo': 2623, 'dawn': 2624, 'diseas': 2625, 'prop': 2626, 'albeit': 2627, 'rochest': 2628, '16': 2629, 'shift': 2630, 'distribut': 2631, 'wash': 2632, 'function': 2633, 'forti': 2634, 'rebel': 2635, 'snow': 2636, 'silenc': 2637, 'poignant': 2638, 'matthau': 2639, 'surf': 2640, 'shout': 2641, 'knife': 2642, 'contract': 2643, 'duti': 2644, 'reunion': 2645, 'heat': 2646, 'silver': 2647, 'mindless': 2648, 'internet': 2649, 'eeri': 2650, 'instinct': 2651, 'henc': 2652, 'chuck': 2653, 'height': 2654, 'cancel': 2655, 'horrend': 2656, 'cannib': 2657, 'derek': 2658, 'widmark': 2659, 'proof': 2660, 'elvira': 2661, 'alik': 2662, 'incoher': 2663, 'mill': 2664, 'premier': 2665, 'greatli': 2666, 'pie': 2667, 'etern': 2668, 'absorb': 2669, 'neat': 2670, 'elvi': 2671, 'musician': 2672, 'spielberg': 2673, 'torn': 2674, 'innov': 2675, 'glori': 2676, 'repetit': 2677, 'wealthi': 2678, 'crisi': 2679, 'lovabl': 2680, 'announc': 2681, 'infam': 2682, 'trite': 2683, 'bang': 2684, 'nelson': 2685, 'blank': 2686, 'horrifi': 2687, 'precis': 2688, 'itali': 2689, 'burton': 2690, 'britain': 2691, 'racism': 2692, 'diamond': 2693, 'redempt': 2694, 'fbi': 2695, 'homag': 2696, 'dedic': 2697, 'chaplin': 2698, 'happili': 2699, 'ensembl': 2700, 'flop': 2701, 'helen': 2702, 'hammer': 2703, 'resolut': 2704, 'wilder': 2705, 'parallel': 2706, 'streisand': 2707, 'pat': 2708, 'oil': 2709, 'st': 2710, 'factori': 2711, 'triumph': 2712, 'broke': 2713, 'conclud': 2714, 'disagre': 2715, 'mar': 2716, 'plastic': 2717, 'carter': 2718, 'cube': 2719, 'bush': 2720, 'march': 2721, 'fighter': 2722, 'weight': 2723, 'vega': 2724, 'rocket': 2725, 'chuckl': 2726, 'row': 2727, 'climb': 2728, 'own': 2729, 'enorm': 2730, 'thug': 2731, 'unforgett': 2732, 'lust': 2733, 'dane': 2734, 'boot': 2735, 'sensibl': 2736, 'dump': 2737, 'meaning': 2738, 'spare': 2739, 'wherea': 2740, 'mst3k': 2741, 'kurt': 2742, 'luca': 2743, 'stress': 2744, 'difficulti': 2745, 'bobbi': 2746, 'butt': 2747, 'adequ': 2748, 'arnold': 2749, 'fifti': 2750, 'brand': 2751, 'caricatur': 2752, 'engin': 2753, 'dear': 2754, 'threat': 2755, 'rap': 2756, 'karloff': 2757, 'secretari': 2758, 'ego': 2759, 'homeless': 2760, 'polish': 2761, 'barri': 2762, 'hamlet': 2763, 'elabor': 2764, 'swing': 2765, 'arrog': 2766, 'fest': 2767, 'flynn': 2768, 'ralph': 2769, 'journalist': 2770, 'conspiraci': 2771, 'simpson': 2772, 'induc': 2773, 'unbear': 2774, 'fanci': 2775, 'tool': 2776, 'float': 2777, 'grate': 2778, 'puppet': 2779, 'arrang': 2780, 'resort': 2781, 'spike': 2782, 'guilt': 2783, 'tribut': 2784, 'phillip': 2785, 'basement': 2786, 'boll': 2787, 'exercis': 2788, 'choreograph': 2789, 'cruis': 2790, 'pig': 2791, 'muppet': 2792, 'fianc': 2793, 'babe': 2794, 'slip': 2795, 'medium': 2796, 'stan': 2797, 'document': 2798, 'toilet': 2799, 'ward': 2800, 'layer': 2801, 'korean': 2802, 'editor': 2803, 'file': 2804, 'puzzl': 2805, '24': 2806, 'ham': 2807, 'tower': 2808, 'item': 2809, 'scarecrow': 2810, 'larger': 2811, 'assur': 2812, 'inexplic': 2813, 'slaughter': 2814, 'glover': 2815, 'territori': 2816, 'superfici': 2817, 'portion': 2818, 'transit': 2819, 'spark': 2820, 'philosoph': 2821, 'denzel': 2822, 'librari': 2823, 'catherin': 2824, 'doc': 2825, 'persona': 2826, 'minim': 2827, 'orient': 2828, 'jeremi': 2829, 'owe': 2830, 'sneak': 2831, 'wolf': 2832, 'shi': 2833, 'financi': 2834, 'jet': 2835, 'dorothi': 2836, 'ban': 2837, 'curti': 2838, 'walken': 2839, 'pg': 2840, 'boredom': 2841, 'backdrop': 2842, 'metaphor': 2843, 'profound': 2844, 'hudson': 2845, 'ambigu': 2846, 'multi': 2847, 'whale': 2848, 'cusack': 2849, 'eleph': 2850, 'ultra': 2851, 'implaus': 2852, 'elsewher': 2853, 'birthday': 2854, 'stiff': 2855, 'notion': 2856, 'rave': 2857, 'viru': 2858, 'union': 2859, '2005': 2860, 'hack': 2861, 'gadget': 2862, 'pad': 2863, 'poison': 2864, 'disc': 2865, 'reader': 2866, 'distanc': 2867, 'hawk': 2868, 'slight': 2869, 'afford': 2870, 'eastwood': 2871, '1st': 2872, 'deriv': 2873, 'eva': 2874, 'canada': 2875, 'bibl': 2876, 'newspap': 2877, 'urg': 2878, 'squar': 2879, 'superhero': 2880, 'lloyd': 2881, 'cure': 2882, 'button': 2883, 'health': 2884, 'essenc': 2885, 'restaur': 2886, 'montag': 2887, 'huh': 2888, 'heston': 2889, 'skit': 2890, 'spread': 2891, 'charisma': 2892, 'drown': 2893, 'sadist': 2894, 'fetch': 2895, 'muslim': 2896, 'lab': 2897, 'gradual': 2898, 'companion': 2899, 'scoobi': 2900, 'invest': 2901, 'dealt': 2902, 'estat': 2903, 'peak': 2904, 'maniac': 2905, 'godfath': 2906, 'servant': 2907, 'gothic': 2908, 'miik': 2909, 'cup': 2910, 'tea': 2911, 'countless': 2912, 'subtleti': 2913, 'kane': 2914, 'ritter': 2915, 'alli': 2916, 'charismat': 2917, 'electr': 2918, 'elect': 2919, 'salli': 2920, 'briefli': 2921, 'heroic': 2922, 'iii': 2923, 'grandmoth': 2924, 'tender': 2925, 'ingredi': 2926, 'wannab': 2927, 'toss': 2928, 'bud': 2929, 'cole': 2930, 'resourc': 2931, 'admittedli': 2932, 'reel': 2933, 'nuanc': 2934, 'neil': 2935, 'gate': 2936, 'pauli': 2937, 'poverti': 2938, 'dawson': 2939, 'label': 2940, 'stronger': 2941, 'shall': 2942, 'mild': 2943, 'pit': 2944, 'reev': 2945, 'punk': 2946, 'carrey': 2947, 'kubrick': 2948, 'mafia': 2949, 'stood': 2950, 'astair': 2951, 'fond': 2952, 'cardboard': 2953, 'ian': 2954, 'burst': 2955, 'terri': 2956, 'smooth': 2957, 'bakshi': 2958, 'easier': 2959, 'assault': 2960, 'smash': 2961, 'useless': 2962, 'updat': 2963, 'outcom': 2964, 'cox': 2965, 'tag': 2966, 'vulner': 2967, 'exchang': 2968, 'divers': 2969, 'sketch': 2970, 'coincid': 2971, 'qualifi': 2972, 'vari': 2973, 'resolv': 2974, 'increasingli': 2975, 'melodramat': 2976, 'samurai': 2977, 'fist': 2978, 'rex': 2979, '2002': 2980, 'brillianc': 2981, 'be': 2982, 'tame': 2983, 'reynold': 2984, 'suspend': 2985, 'blast': 2986, 'insert': 2987, 'templ': 2988, 'conveni': 2989, 'luckili': 2990, 'scratch': 2991, 'fisher': 2992, 'hamilton': 2993, 'coach': 2994, 'seventi': 2995, 'farm': 2996, 'nuclear': 2997, 'pin': 2998, 'walker': 2999, 'strictli': 3000, 'jami': 3001, 'ambiti': 3002, 'meat': 3003, 'gotta': 3004, 'soprano': 3005, 'matthew': 3006, 'empir': 3007, 'timeless': 3008, 'discoveri': 3009, 'struck': 3010, 'ninja': 3011, 'revers': 3012, 'kudo': 3013, 'eccentr': 3014, 'instantli': 3015, 'brosnan': 3016, 'spooki': 3017, 'convolut': 3018, 'recreat': 3019, 'joey': 3020, 'butcher': 3021, 'clock': 3022, 'monk': 3023, 'worthless': 3024, 'closet': 3025, 'grasp': 3026, 'cave': 3027, 'inconsist': 3028, 'sidekick': 3029, 'declar': 3030, 'miracl': 3031, 'importantli': 3032, 'bleak': 3033, 'wipe': 3034, 'clown': 3035, 'partli': 3036, 'fifteen': 3037, 'gray': 3038, 'eighti': 3039, 'norman': 3040, 'pal': 3041, 'seller': 3042, 'cliff': 3043, 'evok': 3044, 'sloppi': 3045, 'selfish': 3046, 'mitchel': 3047, 'communist': 3048, 'psychiatrist': 3049, '45': 3050, 'australia': 3051, 'farc': 3052, 'enthusiast': 3053, 'seed': 3054, 'aforement': 3055, 'superbl': 3056, 'destin': 3057, 'flawless': 3058, 'stoog': 3059, 'ho': 3060, 'chew': 3061, 'debat': 3062, 'piano': 3063, 'lifestyl': 3064, 'websit': 3065, 'cheek': 3066, 'dash': 3067, 'kitchen': 3068, 'dire': 3069, 'directori': 3070, 'akshay': 3071, 'anni': 3072, 'slice': 3073, 'abc': 3074, 'splatter': 3075, 'regardless': 3076, 'wrestl': 3077, 'soviet': 3078, 'drivel': 3079, 'emili': 3080, 'bash': 3081, 'wick': 3082, 'pressur': 3083, 'incompet': 3084, 'cia': 3085, 'duo': 3086, 'chapter': 3087, 'recov': 3088, 'curios': 3089, 'helicopt': 3090, 'doo': 3091, 'seduc': 3092, 'increas': 3093, 'artifici': 3094, 'ken': 3095, 'lou': 3096, 'glow': 3097, 'pleasantli': 3098, 'prize': 3099, 'blob': 3100, 'distant': 3101, 'dave': 3102, 'boil': 3103, 'suppli': 3104, 'beaten': 3105, 'jar': 3106, 'flower': 3107, 'cameron': 3108, 'judi': 3109, 'mann': 3110, 'cagney': 3111, 'turner': 3112, 'drunken': 3113, 'craven': 3114, 'goldberg': 3115, 'craig': 3116, 'ellen': 3117, 'splendid': 3118, 'glenn': 3119, 'hop': 3120, 'favour': 3121, 'ranger': 3122, 'panic': 3123, 'eleg': 3124, 'perri': 3125, 'francisco': 3126, 'web': 3127, 'combat': 3128, 'psychot': 3129, 'laurel': 3130, 'ruth': 3131, 'philosophi': 3132, 'rid': 3133, 'alexand': 3134, 'gentl': 3135, 'flip': 3136, 'greek': 3137, '20th': 3138, 'plausibl': 3139, 'min': 3140, 'hatr': 3141, 'gandhi': 3142, 'slightest': 3143, 'graduat': 3144, 'fx': 3145, 'shortli': 3146, 'falk': 3147, 'wizard': 3148, 'modesti': 3149, 'we': 3150, 'jealou': 3151, 'preciou': 3152, 'knight': 3153, 'legal': 3154, 'unpleas': 3155, 'tall': 3156, 'manhattan': 3157, 'dracula': 3158, 'lend': 3159, 'harm': 3160, 'fund': 3161, 'futurist': 3162, 'felix': 3163, 'holi': 3164, 'ocean': 3165, 'digniti': 3166, 'bless': 3167, 'ami': 3168, 'reviv': 3169, 'childish': 3170, 'scientif': 3171, 'thread': 3172, 'overdon': 3173, 'forbidden': 3174, 'explicit': 3175, 'mock': 3176, 'tank': 3177, 'nod': 3178, 'giallo': 3179, 'eve': 3180, 'repeatedli': 3181, 'nerv': 3182, 'yesterday': 3183, 'elderli': 3184, 'awaken': 3185, '99': 3186, 'torment': 3187, 'pirat': 3188, '2004': 3189, 'thick': 3190, 'broad': 3191, 'unwatch': 3192, 'fever': 3193, 'margaret': 3194, 'mel': 3195, 'awe': 3196, 'verhoeven': 3197, 'rivet': 3198, 'ah': 3199, 'royal': 3200, 'bin': 3201, 'roman': 3202, 'eas': 3203, 'custom': 3204, 'romero': 3205, 'politician': 3206, 'acclaim': 3207, 'uniform': 3208, 'absenc': 3209, 'lean': 3210, 'launch': 3211, 'automat': 3212, 'griffith': 3213, 'timothi': 3214, 'publish': 3215, 'stiller': 3216, 'kay': 3217, 'ambit': 3218, 'crook': 3219, 'phrase': 3220, 'transport': 3221, 'wallac': 3222, 'darker': 3223, 'warren': 3224, 'tomato': 3225, 'sunshin': 3226, 'antic': 3227, 'purpl': 3228, 'pulp': 3229, 'foul': 3230, 'gabriel': 3231, 'bathroom': 3232, 'pierc': 3233, 'stinker': 3234, 'termin': 3235, 'homicid': 3236, 'marin': 3237, 'choreographi': 3238, 'horrid': 3239, 'pray': 3240, 'hollow': 3241, 'sixti': 3242, 'viciou': 3243, 'donna': 3244, 'awak': 3245, 'q': 3246, 'packag': 3247, '2003': 3248, 'revolutionari': 3249, 'coloni': 3250, 'saint': 3251, 'evolv': 3252, 'album': 3253, 'ought': 3254, 'brazil': 3255, 'juvenil': 3256, 'kenneth': 3257, 'prom': 3258, 'li': 3259, 'karen': 3260, 'eyr': 3261, 'contrari': 3262, 'rambo': 3263, 'kapoor': 3264, 'boast': 3265, 'ireland': 3266, 'nerd': 3267, 'dose': 3268, 'option': 3269, 'candid': 3270, 'conserv': 3271, 'blade': 3272, 'overr': 3273, 'defi': 3274, 'beatti': 3275, 'mildr': 3276, 'twelv': 3277, 'stole': 3278, 'mummi': 3279, 'ramon': 3280, 'protest': 3281, 'kirk': 3282, 'trio': 3283, 'astonish': 3284, 'fulci': 3285, 'funer': 3286, 'global': 3287, 'jazz': 3288, 'natali': 3289, 'flame': 3290, 'detract': 3291, 'altman': 3292, 'confirm': 3293, 'collabor': 3294, 'destini': 3295, 'bull': 3296, 'bottl': 3297, 'tommi': 3298, 'shade': 3299, 'mystic': 3300, 'delici': 3301, 'racial': 3302, 'spit': 3303, 'whip': 3304, 'audio': 3305, 'nicholson': 3306, 'leap': 3307, 'blake': 3308, 'yellow': 3309, 'enterpris': 3310, 'pseudo': 3311, 'adolesc': 3312, 'visibl': 3313, 'fonda': 3314, 'enchant': 3315, 'inherit': 3316, 'altogeth': 3317, 'merci': 3318, 'harder': 3319, 'meaningless': 3320, 'bedroom': 3321, 'threw': 3322, 'vivid': 3323, 'popcorn': 3324, 'reunit': 3325, 'staff': 3326, 'todd': 3327, 'swedish': 3328, 'neo': 3329, 'await': 3330, 'tip': 3331, 'lawrenc': 3332, 'synopsi': 3333, 'bust': 3334, 'kennedi': 3335, 'exhibit': 3336, 'moodi': 3337, 'crocodil': 3338, 'edi': 3339, 'voight': 3340, 'reserv': 3341, 'uneven': 3342, 'leonard': 3343, 'wire': 3344, 'respond': 3345, 'suspici': 3346, 'roommat': 3347, 'lemmon': 3348, 'atlanti': 3349, 'befriend': 3350, 'fanat': 3351, 'ruthless': 3352, 'decor': 3353, 'madonna': 3354, 'jew': 3355, 'chao': 3356, 'centr': 3357, 'ventur': 3358, 'bradi': 3359, 'clumsi': 3360, 'bargain': 3361, 'bold': 3362, 'dimens': 3363, 'holli': 3364, 'abysm': 3365, 'audit': 3366, 'incident': 3367, 'clint': 3368, 'unsettl': 3369, '2007': 3370, 'garner': 3371, 'rural': 3372, 'palma': 3373, 'carl': 3374, 'voyag': 3375, 'wealth': 3376, 'poetic': 3377, 'nearbi': 3378, 'immigr': 3379, 'troop': 3380, 'humili': 3381, 'daddi': 3382, 'hart': 3383, 'echo': 3384, 'versu': 3385, 'cari': 3386, 'lit': 3387, '2nd': 3388, 'trail': 3389, 'imperson': 3390, 'characterist': 3391, 'acknowledg': 3392, 'mall': 3393, 'cuba': 3394, 'neglect': 3395, 'cd': 3396, 'elimin': 3397, 'timon': 3398, 'tiger': 3399, 'ant': 3400, 'domest': 3401, 'jeffrey': 3402, 'collaps': 3403, 'marshal': 3404, 'homer': 3405, 'paus': 3406, 'prejudic': 3407, 'saga': 3408, 'celluloid': 3409, 'repuls': 3410, 'infect': 3411, 'mistaken': 3412, 'solo': 3413, 'mickey': 3414, 'pun': 3415, 'undoubtedli': 3416, 'harvey': 3417, 'gear': 3418, 'ginger': 3419, 'milk': 3420, 'inappropri': 3421, '1996': 3422, 'coat': 3423, 'chest': 3424, 'tribe': 3425, 'pant': 3426, 'sore': 3427, 'assembl': 3428, 'interrupt': 3429, 'promin': 3430, 'coffe': 3431, 'equip': 3432, 'apolog': 3433, 'leon': 3434, 'hbo': 3435, 'inan': 3436, 'olivi': 3437, 'cake': 3438, 'highest': 3439, 'embrac': 3440, 'exot': 3441, 'colleagu': 3442, 'instant': 3443, 'solut': 3444, 'primari': 3445, 'colonel': 3446, 'jenni': 3447, 'aveng': 3448, 'vulgar': 3449, 'devast': 3450, 'pen': 3451, 'polanski': 3452, 'trace': 3453, 'pot': 3454, 'consum': 3455, 'brooklyn': 3456, 'airplan': 3457, 'furthermor': 3458, 'institut': 3459, 'retain': 3460, 'maggi': 3461, 'humbl': 3462, 'florida': 3463, 'illog': 3464, 'principl': 3465, 'cope': 3466, 'smaller': 3467, 'bowl': 3468, 'strain': 3469, 'dian': 3470, 'descend': 3471, '1999': 3472, 'poke': 3473, 'godzilla': 3474, 'ya': 3475, 'outer': 3476, 'wive': 3477, 'gender': 3478, '3rd': 3479, 'sale': 3480, 'linda': 3481, 'dutch': 3482, 'seduct': 3483, 'disabl': 3484, 'rick': 3485, 'primarili': 3486, 'secondli': 3487, 'blatant': 3488, 'inferior': 3489, 'mixtur': 3490, 'scope': 3491, 'devoid': 3492, 'beneath': 3493, 'cue': 3494, 'yard': 3495, 'vast': 3496, 'glamor': 3497, 'dud': 3498, 'gloriou': 3499, 'bubbl': 3500, 'dive': 3501, 'hal': 3502, 'lol': 3503, 'predecessor': 3504, 'gundam': 3505, 'rabbit': 3506, 'april': 3507, 'alert': 3508, 'alfr': 3509, 'arab': 3510, 'disjoint': 3511, 'simplist': 3512, 'trademark': 3513, 'shelf': 3514, 'museum': 3515, 'countrysid': 3516, 'streep': 3517, 'invas': 3518, 'shirley': 3519, 'et': 3520, 'garbo': 3521, 'senseless': 3522, 'myer': 3523, 'aggress': 3524, 'pearl': 3525, 'talki': 3526, 'hideou': 3527, 'breed': 3528, 'domino': 3529, 'casual': 3530, 'z': 3531, 'grinch': 3532, 'acid': 3533, 'unhappi': 3534, 'robberi': 3535, 'disgrac': 3536, 'hopeless': 3537, 'khan': 3538, 'boom': 3539, 'robinson': 3540, 'sh': 3541, 'illeg': 3542, 'uwe': 3543, 'loyal': 3544, 'applaud': 3545, 'vanish': 3546, 'hardcor': 3547, 'maci': 3548, 'mail': 3549, 'experiment': 3550, 'rendit': 3551, 'obtain': 3552, 'oz': 3553, 'defens': 3554, 'mayor': 3555, 'stack': 3556, 'stellar': 3557, 'slide': 3558, 'stir': 3559, 'grandfath': 3560, 'fri': 3561, 'emphasi': 3562, 'dicken': 3563, 'diana': 3564, 'incomprehens': 3565, 'wont': 3566, 'hartley': 3567, 'berlin': 3568, 'amanda': 3569, 'tenant': 3570, 'craze': 3571, 'topless': 3572, 'psychic': 3573, 'tempt': 3574, 'rifl': 3575, 'counter': 3576, 'span': 3577, 'soccer': 3578, 'dismiss': 3579, 'blew': 3580, 'spider': 3581, 'recruit': 3582, 'declin': 3583, 'scroog': 3584, 'woo': 3585, 'riot': 3586, 'revolt': 3587, 'ration': 3588, 'lumet': 3589, 'parad': 3590, 'trashi': 3591, 'shed': 3592, 'intim': 3593, 'sympath': 3594, 'wet': 3595, 'porno': 3596, 'resurrect': 3597, 'ethnic': 3598, 'goer': 3599, 'faster': 3600, 'sibl': 3601, 'bitch': 3602, 'niro': 3603, 'justin': 3604, 'shaw': 3605, 'partial': 3606, 'slick': 3607, 'wheel': 3608, 'nephew': 3609, 'hesit': 3610, 'feminist': 3611, 'commend': 3612, 'farmer': 3613, 'dealer': 3614, '00': 3615, 'rider': 3616, 'ensur': 3617, 'biographi': 3618, 'steam': 3619, 'worm': 3620, 'andr': 3621, 'gap': 3622, 'unreal': 3623, 'wendi': 3624, 'choru': 3625, 'enlighten': 3626, 'immort': 3627, 'region': 3628, 'patriot': 3629, 'jonathan': 3630, 'lena': 3631, 'mario': 3632, 'eager': 3633, 'honesti': 3634, 'ballet': 3635, 'hopper': 3636, 'weakest': 3637, 'skull': 3638, 'snap': 3639, 'nostalg': 3640, 'morri': 3641, 'composit': 3642, 'hung': 3643, 'leo': 3644, 'owen': 3645, 'util': 3646, 'repress': 3647, 'wore': 3648, 'similarli': 3649, 'safeti': 3650, 'sandra': 3651, 'sappi': 3652, 'blunt': 3653, 'properti': 3654, 'mutant': 3655, 'charlott': 3656, 'psychopath': 3657, 'kingdom': 3658, 'vice': 3659, 'confin': 3660, 'prequel': 3661, 'victori': 3662, 'franco': 3663, 'macarthur': 3664, 'recycl': 3665, 'valuabl': 3666, 'montana': 3667, 'whoopi': 3668, 'hyde': 3669, 'tail': 3670, 'deed': 3671, 'exit': 3672, 'dust': 3673, 'rocki': 3674, 'bergman': 3675, 'strand': 3676, 'thru': 3677, 'drum': 3678, 'pattern': 3679, 'repli': 3680, 'despair': 3681, 'bonu': 3682, 'snl': 3683, 'compens': 3684, 'rope': 3685, '1972': 3686, 'tad': 3687, 'farrel': 3688, 'campbel': 3689, 'rambl': 3690, 'dalton': 3691, 'cg': 3692, 'heartbreak': 3693, 'del': 3694, 'nervou': 3695, 'drain': 3696, 'compass': 3697, 'kyle': 3698, 'speci': 3699, 'miseri': 3700, 'bow': 3701, 'bumbl': 3702, 'acquir': 3703, 'emperor': 3704, 'latin': 3705, 'contempl': 3706, 'olli': 3707, 'carradin': 3708, 'tonight': 3709, 'da': 3710, '35': 3711, 'bleed': 3712, 'gal': 3713, 'slug': 3714, 'roth': 3715, 'gimmick': 3716, 'downhil': 3717, 'chess': 3718, 'mistress': 3719, 'percept': 3720, 'rotten': 3721, 'radic': 3722, 'airport': 3723, 'pour': 3724, 'wacki': 3725, 'rapist': 3726, 'orson': 3727, 'martian': 3728, 'romp': 3729, 'oppress': 3730, 'pervers': 3731, 'champion': 3732, 'paltrow': 3733, 'attorney': 3734, 'arc': 3735, 'arguabl': 3736, 'banal': 3737, 'programm': 3738, 'tooth': 3739, 'melodi': 3740, 'mislead': 3741, 'tackl': 3742, 'pervert': 3743, 'heal': 3744, 'stilt': 3745, 'belt': 3746, 'slash': 3747, 'shelley': 3748, 'pursuit': 3749, '1983': 3750, 'preach': 3751, 'taught': 3752, 'dazzl': 3753, 'unpredict': 3754, 'edgar': 3755, 'closest': 3756, 'employe': 3757, 'gambl': 3758, 'franki': 3759, 'graham': 3760, 'marti': 3761, 'conneri': 3762, 'duval': 3763, 'sensat': 3764, 'poem': 3765, 'rubi': 3766, 'chicken': 3767, 'virginia': 3768, 'bela': 3769, 'plight': 3770, 'uplift': 3771, 'tiresom': 3772, 'maid': 3773, 'mesmer': 3774, 'cleverli': 3775, 'vengeanc': 3776, 'passeng': 3777, 'orang': 3778, 'raymond': 3779, 'vocal': 3780, 'dixon': 3781, 'calm': 3782, 'amitabh': 3783, 'extens': 3784, 'mute': 3785, 'habit': 3786, 'numb': 3787, 'secretli': 3788, 'clone': 3789, 'inject': 3790, 'profan': 3791, 'swallow': 3792, 'tube': 3793, 'giggl': 3794, 'lundgren': 3795, 'paranoia': 3796, 'monologu': 3797, 'climact': 3798, 'suffic': 3799, 'quarter': 3800, 'crystal': 3801, 'yawn': 3802, 'convincingli': 3803, 'whine': 3804, '1968': 3805, 'outing': 3806, 'iran': 3807, 'engross': 3808, 'gerard': 3809, 'sirk': 3810, 'volum': 3811, 'abraham': 3812, 'scottish': 3813, 'pokemon': 3814, 'bay': 3815, 'junior': 3816, 'spock': 3817, 'dispos': 3818, 'austen': 3819, 'ethan': 3820, 'linger': 3821, 'earl': 3822, 'taxi': 3823, 'underst': 3824, 'plod': 3825, 'chicago': 3826, 'lowest': 3827, 'meander': 3828, 'backward': 3829, 'franci': 3830, 'trend': 3831, 'richardson': 3832, 'fed': 3833, 'poetri': 3834, 'bend': 3835, 'grotesqu': 3836, 'expand': 3837, 'abort': 3838, 'septemb': 3839, 'surpass': 3840, 'frankenstein': 3841, 'nichola': 3842, 'profess': 3843, 'im': 3844, 'waitress': 3845, 'econom': 3846, 'catchi': 3847, 'lure': 3848, 'simplic': 3849, 'spoke': 3850, 'myth': 3851, 'eugen': 3852, 'instrument': 3853, 'literatur': 3854, 'dysfunct': 3855, 'sue': 3856, 'der': 3857, 'hum': 3858, 'descent': 3859, 'rant': 3860, 'mundan': 3861, 'compliment': 3862, 'nostalgia': 3863, 'household': 3864, 'muddl': 3865, 'tourist': 3866, 'cannon': 3867, 'rubber': 3868, 'greedi': 3869, 'stallon': 3870, 'equival': 3871, 'firstli': 3872, 'dictat': 3873, 'deaf': 3874, 'occupi': 3875, 'louis': 3876, 'dement': 3877, 'stale': 3878, 'recognis': 3879, 'recognit': 3880, 'june': 3881, 'hello': 3882, 'crucial': 3883, 'sissi': 3884, 'furi': 3885, 'phoni': 3886, 'alongsid': 3887, 'phantom': 3888, 'damon': 3889, 'molli': 3890, 'eaten': 3891, 'irrelev': 3892, 'map': 3893, 'mankind': 3894, 'randi': 3895, 'cent': 3896, 'lang': 3897, 'flee': 3898, 'insur': 3899, 'bacal': 3900, 'mortal': 3901, 'coast': 3902, 'carel': 3903, 'omen': 3904, 'duck': 3905, 'onlin': 3906, 'loyalti': 3907, 'likewis': 3908, 'damm': 3909, 'bump': 3910, 'cyborg': 3911, 'freez': 3912, 'bike': 3913, 'daisi': 3914, 'blackmail': 3915, 'grayson': 3916, 'twilight': 3917, 'ashley': 3918, 'wisdom': 3919, 'dreari': 3920, 'rude': 3921, 'buffalo': 3922, 'lengthi': 3923, '1973': 3924, 'distinguish': 3925, 'reign': 3926, 'newli': 3927, 'biko': 3928, 'drake': 3929, 'labor': 3930, 'heel': 3931, 'antwon': 3932, 'rooney': 3933, 'interior': 3934, 'emphas': 3935, 'startl': 3936, 'ridden': 3937, 'sailor': 3938, 'exposur': 3939, 'unorigin': 3940, 'vein': 3941, 'chronicl': 3942, 'tunnel': 3943, 'analysi': 3944, 'provoc': 3945, 'boxer': 3946, 'nineti': 3947, 'basketbal': 3948, 'proce': 3949, 'inher': 3950, 'barrymor': 3951, 'incorpor': 3952, 'butler': 3953, 'baddi': 3954, 'pink': 3955, 'attribut': 3956, 'keith': 3957, 'approv': 3958, 'prey': 3959, 'worn': 3960, 'nicol': 3961, 'fleet': 3962, 'er': 3963, 'mighti': 3964, 'substitut': 3965, 'unrel': 3966, 'improvis': 3967, 'condemn': 3968, 'belushi': 3969, 'undeni': 3970, 'underli': 3971, 'mormon': 3972, 'barrel': 3973, 'drift': 3974, 'bunni': 3975, 'stalker': 3976, 'othello': 3977, 'predat': 3978, 'elm': 3979, 'indiffer': 3980, 'degrad': 3981, 'hypnot': 3982, 'walsh': 3983, 'meyer': 3984, 'meg': 3985, 'robbin': 3986, 'julian': 3987, 'simmon': 3988, 'millionair': 3989, 'carla': 3990, 'palac': 3991, 'novak': 3992, 'unawar': 3993, 'firm': 3994, 'exquisit': 3995, 'shove': 3996, 'mtv': 3997, 'marion': 3998, 'dolph': 3999, 'hay': 4000, 'enthusiasm': 4001, 'nyc': 4002, 'agenda': 4003, 'reid': 4004, 'priceless': 4005, 'warmth': 4006, 'roof': 4007, 'edgi': 4008, 'errol': 4009, 'greed': 4010, 'vital': 4011, 'lampoon': 4012, 'alison': 4013, '3d': 4014, 'disord': 4015, 'watson': 4016, 'alarm': 4017, 'rukh': 4018, 'coup': 4019, 'petti': 4020, '1933': 4021, 'crown': 4022, 'gestur': 4023, 'campaign': 4024, 'spain': 4025, 'drip': 4026, '13th': 4027, 'profit': 4028, 'preserv': 4029, 'nun': 4030, 'unleash': 4031, 'session': 4032, 'iraq': 4033, 'angela': 4034, 'orlean': 4035, 'randomli': 4036, 'distort': 4037, 'showdown': 4038, 'glanc': 4039, 'minimum': 4040, 'what': 4041, 'cassidi': 4042, 'israel': 4043, 'simultan': 4044, 'championship': 4045, 'peril': 4046, 'thompson': 4047, 'ponder': 4048, 'peck': 4049, 'testament': 4050, 'eastern': 4051, 'pamela': 4052, 'valentin': 4053, 'beatl': 4054, 'sergeant': 4055, 'zizek': 4056, 'rout': 4057, 'unimagin': 4058, 'shootout': 4059, 'scotland': 4060, 'cooki': 4061, 'kurosawa': 4062, 'sabrina': 4063, 'climat': 4064, 'stake': 4065, 'han': 4066, 'buster': 4067, 'exposit': 4068, 'bro': 4069, 'restrain': 4070, 'miyazaki': 4071, '1984': 4072, 'gentleman': 4073, 'empathi': 4074, 'cream': 4075, 'represent': 4076, 'realm': 4077, 'quinn': 4078, 'stroke': 4079, 'regist': 4080, 'wig': 4081, 'reson': 4082, 'valley': 4083, 'crawl': 4084, 'travesti': 4085, 'mon': 4086, 'crow': 4087, 'calib': 4088, 'contradict': 4089, 'brenda': 4090, 'perpetu': 4091, 'jan': 4092, 'fido': 4093, 'din': 4094, 'sammi': 4095, 'mclaglen': 4096, 'demis': 4097, 'compromis': 4098, 'distress': 4099, 'delic': 4100, 'businessman': 4101, 'geek': 4102, 'painter': 4103, 'absent': 4104, 'shaki': 4105, 'wax': 4106, 'dana': 4107, 'tacki': 4108, 'unseen': 4109, 'cloud': 4110, '1997': 4111, 'meryl': 4112, 'monoton': 4113, 'warrant': 4114, 'pretens': 4115, 'perceiv': 4116, '1987': 4117, 'ross': 4118, 'shoddi': 4119, 'derang': 4120, 'unsatisfi': 4121, 'josh': 4122, 'crawford': 4123, 'darren': 4124, 'censor': 4125, 'pole': 4126, 'passabl': 4127, 'baldwin': 4128, 'ustinov': 4129, 'stargat': 4130, 'greg': 4131, 'femm': 4132, 'sucker': 4133, 'soderbergh': 4134, 'spacey': 4135, 'traumat': 4136, 'abomin': 4137, 'fuller': 4138, 'exclus': 4139, 'jewel': 4140, 'tech': 4141, 'uncov': 4142, 'accuraci': 4143, 'deniro': 4144, 'verbal': 4145, 'dee': 4146, 'anchor': 4147, 'primit': 4148, 'fenc': 4149, 'reluct': 4150, '1993': 4151, 'judgment': 4152, 'expedit': 4153, 'norm': 4154, 'click': 4155, 'furiou': 4156, 'polici': 4157, 'wholli': 4158, 'clash': 4159, 'seal': 4160, 'nathan': 4161, 'unravel': 4162, 'fog': 4163, 'valid': 4164, 'correctli': 4165, 'kumar': 4166, 'austin': 4167, 'deceas': 4168, 'tarantino': 4169, 'antonioni': 4170, 'sid': 4171, 'sand': 4172, 'murray': 4173, 'wang': 4174, 'fabric': 4175, '1995': 4176, 'darn': 4177, 'dreck': 4178, '1971': 4179, 'slam': 4180, 'crippl': 4181, 'seldom': 4182, 'nicola': 4183, 'behold': 4184, 'sustain': 4185, 'roller': 4186, 'hallucin': 4187, 'clerk': 4188, 'wretch': 4189, 'unfair': 4190, 'temper': 4191, 'joel': 4192, 'alec': 4193, 'mode': 4194, 'ritual': 4195, '3000': 4196, 'vanc': 4197, 'pocket': 4198, 'conduct': 4199, 'debt': 4200, 'patienc': 4201, 'sheet': 4202, 'enforc': 4203, 'malon': 4204, '2008': 4205, 'logan': 4206, 'sunni': 4207, 'fought': 4208, 'shanghai': 4209, 'fart': 4210, 'trait': 4211, 'bake': 4212, 'tax': 4213, 'conscious': 4214, 'divid': 4215, 'stuart': 4216, 'soup': 4217, 'canyon': 4218, 'helpless': 4219, 'scriptwrit': 4220, 'despis': 4221, 'fundament': 4222, 'critiqu': 4223, 'sweep': 4224, 'penni': 4225, 'rita': 4226, 'grief': 4227, 'outlin': 4228, 'clau': 4229, 'guitar': 4230, 'bias': 4231, 'legaci': 4232, 'preposter': 4233, 'tactic': 4234, 'exhaust': 4235, 'stark': 4236, 'phil': 4237, 'preston': 4238, 'technicolor': 4239, 'shell': 4240, 'robber': 4241, 'isabel': 4242, 'squad': 4243, 'pete': 4244, 'schedul': 4245, 'runner': 4246, 'bridget': 4247, 'sniper': 4248, 'consciou': 4249, 'downey': 4250, 'connor': 4251, 'implic': 4252, 'liberti': 4253, 'bloom': 4254, 'delv': 4255, 'jodi': 4256, 'sugar': 4257, 'invad': 4258, 'alley': 4259, 'jacket': 4260, 'unexpectedli': 4261, 'lacklust': 4262, 'palanc': 4263, 'vomit': 4264, 'sentinel': 4265, 'rear': 4266, 'agenc': 4267, 'marc': 4268, 'russia': 4269, 'drove': 4270, 'restrict': 4271, 'cigarett': 4272, 'newman': 4273, 'culmin': 4274, 'propos': 4275, 'boyl': 4276, 'gregori': 4277, 'rehash': 4278, 'passag': 4279, 'alicia': 4280, 'inabl': 4281, 'flair': 4282, 'kansa': 4283, 'mccoy': 4284, 'ladder': 4285, 'wrench': 4286, 'sharon': 4287, 'awhil': 4288, 'tendenc': 4289, 'lush': 4290, 'tripe': 4291, 'delet': 4292, '22': 4293, 'feat': 4294, 'asylum': 4295, 'karl': 4296, 'behaviour': 4297, 'horn': 4298, 'bacon': 4299, 'chainsaw': 4300, 'rehears': 4301, 'rod': 4302, 'foxx': 4303, 'pale': 4304, 'vet': 4305, 'cap': 4306, 'rampag': 4307, 'aesthet': 4308, 'arrow': 4309, '1936': 4310, 'improb': 4311, 'kolchak': 4312, 'yeti': 4313, 'elit': 4314, 'paradis': 4315, 'paramount': 4316, 'conscienc': 4317, 'weav': 4318, '1920': 4319, 'filler': 4320, 'underneath': 4321, 'suffici': 4322, 'el': 4323, 'suspicion': 4324, 'tomorrow': 4325, 'minu': 4326, 'rhythm': 4327, 'coaster': 4328, 'prank': 4329, 'thunderbird': 4330, 'financ': 4331, '1988': 4332, 'scoop': 4333, 'loneli': 4334, 'wildli': 4335, 'fright': 4336, 'rumor': 4337, 'globe': 4338, 'hungri': 4339, 'hulk': 4340, '1978': 4341, 'sung': 4342, 'lurk': 4343, 'spice': 4344, 'tasteless': 4345, 'shortcom': 4346, 'hackney': 4347, 'amazon': 4348, 'basing': 4349, '19th': 4350, 'newcom': 4351, 'aristocrat': 4352, 'stream': 4353, 'wagner': 4354, 'visitor': 4355, 'chavez': 4356, 'choppi': 4357, 'literari': 4358, 'abrupt': 4359, 'ingeni': 4360, 'secondari': 4361, 'couch': 4362, 'beverli': 4363, 'chamberlain': 4364, 'posey': 4365, 'iv': 4366, 'leigh': 4367, 'rub': 4368, 'tierney': 4369, 'smell': 4370, 'dirt': 4371, 'grudg': 4372, 'inmat': 4373, 'wwe': 4374, 'straightforward': 4375, 'impos': 4376, 'immers': 4377, 'curli': 4378, 'lectur': 4379, 'bread': 4380, 'entranc': 4381, 'recogniz': 4382, 'brit': 4383, 'penn': 4384, 'hopkin': 4385, '1989': 4386, 'en': 4387, 'atroc': 4388, '75': 4389, 'quietli': 4390, 'heist': 4391, 'teas': 4392, 'cancer': 4393, 'minist': 4394, 'paxton': 4395, 'standout': 4396, '1939': 4397, 'naughti': 4398, 'springer': 4399, 'worship': 4400, 'ram': 4401, 'counterpart': 4402, 'laurenc': 4403, 'cattl': 4404, 'net': 4405, 'yearn': 4406, 'morbid': 4407, 'entitl': 4408, 'watcher': 4409, 'convert': 4410, 'missil': 4411, 'ratso': 4412, 'moreov': 4413, 'quaid': 4414, 'clan': 4415, 'skeptic': 4416, 'nemesi': 4417, 'injuri': 4418, 'sassi': 4419, 'sublim': 4420, 'enthral': 4421, 'transcend': 4422, '1986': 4423, 'misguid': 4424, 'heartfelt': 4425, 'attenborough': 4426, 'variat': 4427, 'policeman': 4428, 'nolan': 4429, 'lindsay': 4430, 'duel': 4431, 'ace': 4432, 'geni': 4433, 'bernard': 4434, 'esther': 4435, 'enabl': 4436, 'uncut': 4437, 'out': 4438, 'brood': 4439, 'hopelessli': 4440, 'steadi': 4441, 'cruelti': 4442, 'puppi': 4443, 'tyler': 4444, 'facil': 4445, 'rosemari': 4446, 'kidman': 4447, 'setup': 4448, 'buzz': 4449, 'artsi': 4450, 'unexplain': 4451, 'characteris': 4452, 'graini': 4453, 'hk': 4454, 'kitti': 4455, 'carlito': 4456, 'bye': 4457, 'reliabl': 4458, 'poe': 4459, 'dont': 4460, 'grin': 4461, 'obstacl': 4462, '1979': 4463, 'youngest': 4464, 'moder': 4465, 'diari': 4466, 'mytholog': 4467, 'bean': 4468, 'egg': 4469, 'spiral': 4470, 'vader': 4471, 'bewar': 4472, 'kline': 4473, 'niec': 4474, 'bounc': 4475, 'spontan': 4476, 'despic': 4477, 'baffl': 4478, 'oblig': 4479, 'hain': 4480, 'fuel': 4481, 'weather': 4482, 'hammi': 4483, 'effici': 4484, 'decept': 4485, 'exterior': 4486, 'disastr': 4487, '1969': 4488, 'clueless': 4489, 'preming': 4490, 'narrow': 4491, 'patricia': 4492, 'heap': 4493, 'christin': 4494, 'underworld': 4495, 'martha': 4496, 'sweat': 4497, 'gina': 4498, 'athlet': 4499, 'brendan': 4500, 'gillian': 4501, 'bronson': 4502, 'acquaint': 4503, 'viewpoint': 4504, 'biker': 4505, 'fontain': 4506, 'scar': 4507, 'mermaid': 4508, 'sooner': 4509, 'tick': 4510, 'shatter': 4511, 'angst': 4512, 'goof': 4513, 'enlist': 4514, 'suprem': 4515, 'outlaw': 4516, 'dilemma': 4517, 'circu': 4518, 'loath': 4519, 'injur': 4520, 'virtu': 4521, 'astound': 4522, 'uh': 4523, 'preachi': 4524, 'lester': 4525, 'housewif': 4526, 'renaiss': 4527, 'trigger': 4528, 'analyz': 4529, '19': 4530, 'rome': 4531, 'insipid': 4532, 'taboo': 4533, 'headach': 4534, 'dandi': 4535, 'mayhem': 4536, 'hepburn': 4537, 'harmless': 4538, '73': 4539, 'sleepwalk': 4540, 'loi': 4541, 'candl': 4542, 'whore': 4543, 'contempt': 4544, 'intric': 4545, 'oldest': 4546, 'claustrophob': 4547, 'steer': 4548, 'amor': 4549, 'spade': 4550, 'redund': 4551, 'stair': 4552, 'slimi': 4553, 'boston': 4554, 'hooker': 4555, 'sox': 4556, 'idol': 4557, 'ebert': 4558, 'bent': 4559, 'guin': 4560, 'gere': 4561, 'fluff': 4562, 'ariel': 4563, 'phenomenon': 4564, 'hokey': 4565, 'camcord': 4566, 'immatur': 4567, 'stimul': 4568, 'hostag': 4569, 'surgeri': 4570, 'glorifi': 4571, 'foolish': 4572, 'overlong': 4573, 'corbett': 4574, 'macho': 4575, 'dismal': 4576, 'zoom': 4577, 'dish': 4578, 'cassavet': 4579, 'filth': 4580, 'salt': 4581, 'scorses': 4582, 'tripl': 4583, 'messi': 4584, 'remad': 4585, 'margin': 4586, 'schlock': 4587, 'flirt': 4588, 'antagonist': 4589, 'joker': 4590, 'beard': 4591, 'muscl': 4592, 'keen': 4593, 'rhyme': 4594, 'down': 4595, 'transplant': 4596, 'cush': 4597, 'frantic': 4598, '1976': 4599, 'flag': 4600, 'radiat': 4601, 'widescreen': 4602, 'cohen': 4603, 'harold': 4604, 'mutual': 4605, 'assert': 4606, 'strongest': 4607, 'flashi': 4608, 'faint': 4609, 'conquer': 4610, 'fascist': 4611, 'shred': 4612, 'obligatori': 4613, 'cow': 4614, 'spree': 4615, 'corman': 4616, 'trivia': 4617, 'gabl': 4618, 'spinal': 4619, 'preced': 4620, 'dwarf': 4621, 'perman': 4622, 'gasp': 4623, 'nolt': 4624, 'shield': 4625, 'proport': 4626, 'astronaut': 4627, '1981': 4628, 'zane': 4629, 'mount': 4630, 'alvin': 4631, 'naschi': 4632, 'resum': 4633, 'bachelor': 4634, 'barn': 4635, 'claud': 4636, 'brush': 4637, 'off': 4638, 'triangl': 4639, 'raj': 4640, '28': 4641, 'info': 4642, 'wield': 4643, 'mobil': 4644, 'sensual': 4645, 'boob': 4646, 'departur': 4647, 'www': 4648, 'neurot': 4649, 'flock': 4650, 'fishburn': 4651, 'discern': 4652, 'inflict': 4653, '1945': 4654, 'deer': 4655, 'archiv': 4656, 'strive': 4657, 'divin': 4658, 'danish': 4659, 'hara': 4660, 'vaniti': 4661, 'repris': 4662, 'interestingli': 4663, '95': 4664, 'scandal': 4665, 'aborigin': 4666, 'instruct': 4667, 'persuad': 4668, 'carey': 4669, 'someday': 4670, 'ritchi': 4671, 'mol': 4672, 'bitten': 4673, 'hug': 4674, 'prophet': 4675, 'biblic': 4676, 'hilar': 4677, 'heartwarm': 4678, 'hapless': 4679, 'cycl': 4680, 'proclaim': 4681, 'vibrant': 4682, 'dim': 4683, 'wendigo': 4684, 'axe': 4685, 'cb': 4686, 'cher': 4687, 'recit': 4688, 'melissa': 4689, 'pixar': 4690, 'miracul': 4691, 'neill': 4692, 'europa': 4693, 'banter': 4694, 'rot': 4695, 'loretta': 4696, 'casino': 4697, 'helm': 4698, 'cliffhang': 4699, 'submit': 4700, 'senior': 4701, 'clad': 4702, 'pacif': 4703, 'earnest': 4704, 'harrison': 4705, 'artwork': 4706, 'mobster': 4707, 'luka': 4708, 'dame': 4709, 'traffic': 4710, 'colin': 4711, 'fragil': 4712, 'dylan': 4713, 'ish': 4714, 'carlo': 4715, 'anton': 4716, 'timberlak': 4717, 'parson': 4718, 'frontier': 4719, 'jade': 4720, 'undermin': 4721, 'pickford': 4722, 'bate': 4723, 'kathryn': 4724, 'mathieu': 4725, 'bondag': 4726, 'flavor': 4727, 'foil': 4728, 'breakfast': 4729, 'jo': 4730, 'toronto': 4731, 'cerebr': 4732, 'eli': 4733, 'isra': 4734, 'antholog': 4735, 'estrang': 4736, 'vile': 4737, 'rooki': 4738, 'marlon': 4739, 'razor': 4740, 'seedi': 4741, 'http': 4742, 'choke': 4743, 'lucil': 4744, 'redneck': 4745, 'pc': 4746, 'trier': 4747, 'feast': 4748, 'legitim': 4749, 'holocaust': 4750, 'illus': 4751, 'sicken': 4752, 'orphan': 4753, 'blatantli': 4754, 'static': 4755, 'vanessa': 4756, 'electron': 4757, 'articl': 4758, 'akin': 4759, 'venom': 4760, 'winchest': 4761, 'northern': 4762, 'aris': 4763, 'bikini': 4764, 'misfortun': 4765, 'mason': 4766, 'milo': 4767, 'shepherd': 4768, 'token': 4769, 'nope': 4770, 'lui': 4771, 'wardrob': 4772, 'jordan': 4773, 'uma': 4774, 'alexandr': 4775, 'disregard': 4776, 'oppon': 4777, 'ceremoni': 4778, 'feminin': 4779, 'linear': 4780, 'styliz': 4781, 'charlton': 4782, 'clinic': 4783, 'highway': 4784, 'outdat': 4785, 'glare': 4786, 'comprehend': 4787, 'cartoonish': 4788, 'fifth': 4789, 'gilbert': 4790, 'deem': 4791, 'ideolog': 4792, 'howl': 4793, 'smack': 4794, 'dudley': 4795, 'tack': 4796, 'frog': 4797, 'swept': 4798, 'turd': 4799, 'shorter': 4800, 'huston': 4801, 'magician': 4802, 'leather': 4803, 'abund': 4804, 'psych': 4805, 'audrey': 4806, 'affleck': 4807, 'wrestler': 4808, 'nightclub': 4809, 'retriev': 4810, 'peer': 4811, 'boyer': 4812, 'knightley': 4813, 'gunga': 4814, 'breakdown': 4815, '1994': 4816, 'salman': 4817, 'uniformli': 4818, 'whack': 4819, 'lighter': 4820, 'plate': 4821, 'btw': 4822, '4th': 4823, 'monument': 4824, 'snatch': 4825, 'cemeteri': 4826, 'greet': 4827, 'tara': 4828, 'bastard': 4829, 'boo': 4830, 'summar': 4831, '1991': 4832, 'phenomen': 4833, 'moe': 4834, 'toe': 4835, 'newer': 4836, 'corn': 4837, 'compris': 4838, 'lavish': 4839, 'lifeless': 4840, 'bogu': 4841, 'deliver': 4842, 'durat': 4843, 'potter': 4844, 'spine': 4845, 'mitch': 4846, 'einstein': 4847, 'chip': 4848, 'cuban': 4849, 'conrad': 4850, 'energet': 4851, 'goldsworthi': 4852, 'sleaz': 4853, 'collector': 4854, 'client': 4855, 'senat': 4856, 'braveheart': 4857, 'spawn': 4858, 'evolut': 4859, 'kent': 4860, 'pronounc': 4861, 'replay': 4862, 'wtf': 4863, 'sorrow': 4864, 'historian': 4865, 'judd': 4866, 'signal': 4867, 'creek': 4868, 'luxuri': 4869, 'appl': 4870, 'constitut': 4871, 'mcqueen': 4872, 'fluid': 4873, 'nina': 4874, 'ol': 4875, 'spectacl': 4876, 'cecil': 4877, 'kazan': 4878, 'firmli': 4879, 'randolph': 4880, 'outright': 4881, 'jule': 4882, 'eleven': 4883, 'belli': 4884, 'alleg': 4885, 'inaccuraci': 4886, 'embark': 4887, 'jedi': 4888, 'jam': 4889, 'undead': 4890, 'clara': 4891, 'neatli': 4892, 'lex': 4893, 'bori': 4894, 'bulk': 4895, 'ie': 4896, 'trauma': 4897, '1974': 4898, 'occup': 4899, 'healthi': 4900, 'jare': 4901, 'evelyn': 4902, '1977': 4903, 'armstrong': 4904, 'capot': 4905, 'undertak': 4906, 'liu': 4907, 'gilliam': 4908, 'meal': 4909, 'unsuspect': 4910, 'mum': 4911, 'inclus': 4912, 'inaccur': 4913, 'pepper': 4914, 'conan': 4915, '1985': 4916, 'sidewalk': 4917, 'goldblum': 4918, 'propheci': 4919, 'vain': 4920, 'abound': 4921, 'sacrif': 4922, 'pioneer': 4923, 'porter': 4924, 'antonio': 4925, 'groan': 4926, 'roar': 4927, 'id': 4928, 'blur': 4929, 'spray': 4930, 'walt': 4931, 'fruit': 4932, 'genet': 4933, 'tokyo': 4934, 'comprehens': 4935, 'decapit': 4936, 'relentless': 4937, 'cape': 4938, 'knee': 4939, 'poker': 4940, 'forgiven': 4941, 'lauren': 4942, 'kiddi': 4943, 'miami': 4944, 'congratul': 4945, 'rosario': 4946, 'comb': 4947, 'palm': 4948, 'unattract': 4949, 'aussi': 4950, 'vignett': 4951, 'carmen': 4952, 'bsg': 4953, 'ash': 4954, 'miniseri': 4955, 'subtli': 4956, 'lanc': 4957, 'truman': 4958, 'basket': 4959, 'curtain': 4960, 'galaxi': 4961, 'paula': 4962, 'bait': 4963, '21st': 4964, 'modest': 4965, 'asset': 4966, 'spill': 4967, 'frontal': 4968, 'mice': 4969, 'handicap': 4970, 'vastli': 4971, 'scarfac': 4972, 'omin': 4973, 'orchestr': 4974, 'incorrect': 4975, 'ingrid': 4976, 'sparkl': 4977, 'optimist': 4978, 'rapidli': 4979, 'cypher': 4980, 'weaker': 4981, 'growth': 4982, 'weari': 4983, 'playboy': 4984, 'macabr': 4985, 'profil': 4986, 'hackman': 4987, 'turtl': 4988, 'bravo': 4989, 'epitom': 4990, 'sophi': 4991, 'hostil': 4992, 'motorcycl': 4993, 'assort': 4994, 'scariest': 4995, 'monti': 4996, 'verg': 4997, 'masterson': 4998, 'substanti': 4999}\n"
     ]
    }
   ],
   "source": [
    "# TODO: Use this space to determine the five most frequently appearing words in the training set.\n",
    "print(list(word_dict.keys())[:5])\n",
    "print(word_dict)"
   ]
  },
  {
   "cell_type": "markdown",
   "metadata": {},
   "source": [
    "### Save `word_dict`\n",
    "\n",
    "Later on when we construct an endpoint which processes a submitted review we will need to make use of the `word_dict` which we have created. As such, we will save it to a file now for future use."
   ]
  },
  {
   "cell_type": "code",
   "execution_count": 14,
   "metadata": {},
   "outputs": [],
   "source": [
    "data_dir = '../data/pytorch' # The folder we will use for storing data\n",
    "if not os.path.exists(data_dir): # Make sure that the folder exists\n",
    "    os.makedirs(data_dir)"
   ]
  },
  {
   "cell_type": "code",
   "execution_count": 15,
   "metadata": {},
   "outputs": [],
   "source": [
    "with open(os.path.join(data_dir, 'word_dict.pkl'), \"wb\") as f:\n",
    "    pickle.dump(word_dict, f)"
   ]
  },
  {
   "cell_type": "markdown",
   "metadata": {},
   "source": [
    "### Transform the reviews\n",
    "\n",
    "Now that we have our word dictionary which allows us to transform the words appearing in the reviews into integers, it is time to make use of it and convert our reviews to their integer sequence representation, making sure to pad or truncate to a fixed length, which in our case is `500`."
   ]
  },
  {
   "cell_type": "code",
   "execution_count": 16,
   "metadata": {},
   "outputs": [],
   "source": [
    "def convert_and_pad(word_dict, sentence, pad=500):\n",
    "    NOWORD = 0 # We will use 0 to represent the 'no word' category\n",
    "    INFREQ = 1 # and we use 1 to represent the infrequent words, i.e., words not appearing in word_dict\n",
    "    \n",
    "    working_sentence = [NOWORD] * pad\n",
    "    \n",
    "    for word_index, word in enumerate(sentence[:pad]):\n",
    "        if word in word_dict:\n",
    "            working_sentence[word_index] = word_dict[word]\n",
    "        else:\n",
    "            working_sentence[word_index] = INFREQ\n",
    "            \n",
    "    return working_sentence, min(len(sentence), pad)\n",
    "\n",
    "def convert_and_pad_data(word_dict, data, pad=500):\n",
    "    result = []\n",
    "    lengths = []\n",
    "    \n",
    "    for sentence in data:\n",
    "        converted, leng = convert_and_pad(word_dict, sentence, pad)\n",
    "        result.append(converted)\n",
    "        lengths.append(leng)\n",
    "        \n",
    "    return np.array(result), np.array(lengths)"
   ]
  },
  {
   "cell_type": "code",
   "execution_count": 17,
   "metadata": {},
   "outputs": [],
   "source": [
    "train_X, train_X_len = convert_and_pad_data(word_dict, train_X)\n",
    "test_X, test_X_len = convert_and_pad_data(word_dict, test_X)"
   ]
  },
  {
   "cell_type": "markdown",
   "metadata": {},
   "source": [
    "As a quick check to make sure that things are working as intended, check to see what one of the reviews in the training set looks like after having been processeed. Does this look reasonable? What is the length of a review in the training set?"
   ]
  },
  {
   "cell_type": "code",
   "execution_count": 18,
   "metadata": {},
   "outputs": [
    {
     "name": "stdout",
     "output_type": "stream",
     "text": [
      "[  11 2186    3    1  635   75    4    1    3  365    8   50   48  232\n",
      "  115  372 2869    1    2 1046   73   99   25 1483    2  357  109    1\n",
      "  396    2    1   53   38  766    1  343   78    1 1480   66  533  153\n",
      "  310  251    2  312  625  497  351  532  155   14   12    3 1103 1046\n",
      "   73 2162  367  304  224  116  398 1149  268    5 4824 2138    1  233\n",
      "   23  121   30  484 3470 1578    1  115 1008  683  222   60  765  877\n",
      " 1113    3    5 3072 1903  729 3539    1    8   53  527   60    9  396\n",
      "  343  494  153    1    1  245    7  386 1046   60    3  729    1    1\n",
      "  115    9 1678  363   27    8    7  527  974  151  170  310 1997    5\n",
      "  565    3    5    7   89  318  515   15    5   11    4 1997    2  235\n",
      "   32    1 4444  699  462 2162  367   43  224  174  376    1  304  186\n",
      " 1774  766   82  968  370   18  462   47  438 1989  439  151  170 1888\n",
      "  105    0    0    0    0    0    0    0    0    0    0    0    0    0\n",
      "    0    0    0    0    0    0    0    0    0    0    0    0    0    0\n",
      "    0    0    0    0    0    0    0    0    0    0    0    0    0    0\n",
      "    0    0    0    0    0    0    0    0    0    0    0    0    0    0\n",
      "    0    0    0    0    0    0    0    0    0    0    0    0    0    0\n",
      "    0    0    0    0    0    0    0    0    0    0    0    0    0    0\n",
      "    0    0    0    0    0    0    0    0    0    0    0    0    0    0\n",
      "    0    0    0    0    0    0    0    0    0    0    0    0    0    0\n",
      "    0    0    0    0    0    0    0    0    0    0    0    0    0    0\n",
      "    0    0    0    0    0    0    0    0    0    0    0    0    0    0\n",
      "    0    0    0    0    0    0    0    0    0    0    0    0    0    0\n",
      "    0    0    0    0    0    0    0    0    0    0    0    0    0    0\n",
      "    0    0    0    0    0    0    0    0    0    0    0    0    0    0\n",
      "    0    0    0    0    0    0    0    0    0    0    0    0    0    0\n",
      "    0    0    0    0    0    0    0    0    0    0    0    0    0    0\n",
      "    0    0    0    0    0    0    0    0    0    0    0    0    0    0\n",
      "    0    0    0    0    0    0    0    0    0    0    0    0    0    0\n",
      "    0    0    0    0    0    0    0    0    0    0    0    0    0    0\n",
      "    0    0    0    0    0    0    0    0    0    0    0    0    0    0\n",
      "    0    0    0    0    0    0    0    0    0    0    0    0    0    0\n",
      "    0    0    0    0    0    0    0    0    0    0    0    0    0    0\n",
      "    0    0    0    0    0    0    0    0    0    0    0    0    0    0\n",
      "    0    0    0    0    0    0    0    0    0    0    0    0    0    0\n",
      "    0    0    0    0    0    0    0    0    0    0]\n",
      "169\n"
     ]
    }
   ],
   "source": [
    "# Use this cell to examine one of the processed reviews to make sure everything is working as intended.\n",
    "print(train_X[100])\n",
    "print(train_X_len[100])"
   ]
  },
  {
   "cell_type": "markdown",
   "metadata": {},
   "source": [
    "**Question:** In the cells above we use the `preprocess_data` and `convert_and_pad_data` methods to process both the training and testing set. Why or why not might this be a problem?"
   ]
  },
  {
   "cell_type": "markdown",
   "metadata": {},
   "source": [
    "**Answer:**\n",
    "\n",
    "这个处理没有问题，因为training set和testing set都同样先做了preprocess_data这个处理，然后做了convert_and_pad_data这个处理，训练集和测试集做了相同的处理，因此没有问题。"
   ]
  },
  {
   "cell_type": "markdown",
   "metadata": {},
   "source": [
    "## Step 3: Upload the data to S3\n",
    "\n",
    "As in the XGBoost notebook, we will need to upload the training dataset to S3 in order for our training code to access it. For now we will save it locally and we will upload to S3 later on.\n",
    "\n",
    "### Save the processed training dataset locally\n",
    "\n",
    "It is important to note the format of the data that we are saving as we will need to know it when we write the training code. In our case, each row of the dataset has the form `label`, `length`, `review[500]` where `review[500]` is a sequence of `500` integers representing the words in the review."
   ]
  },
  {
   "cell_type": "code",
   "execution_count": 19,
   "metadata": {},
   "outputs": [],
   "source": [
    "import pandas as pd\n",
    "    \n",
    "pd.concat([pd.DataFrame(train_y), pd.DataFrame(train_X_len), pd.DataFrame(train_X)], axis=1) \\\n",
    "        .to_csv(os.path.join(data_dir, 'train.csv'), header=False, index=False)"
   ]
  },
  {
   "cell_type": "markdown",
   "metadata": {},
   "source": [
    "### Uploading the training data\n",
    "\n",
    "\n",
    "Next, we need to upload the training data to the SageMaker default S3 bucket so that we can provide access to it while training our model."
   ]
  },
  {
   "cell_type": "code",
   "execution_count": 20,
   "metadata": {},
   "outputs": [],
   "source": [
    "import sagemaker\n",
    "\n",
    "sagemaker_session = sagemaker.Session()\n",
    "\n",
    "bucket = sagemaker_session.default_bucket()\n",
    "prefix = 'sagemaker/sentiment_rnn'\n",
    "\n",
    "role = sagemaker.get_execution_role()"
   ]
  },
  {
   "cell_type": "code",
   "execution_count": 21,
   "metadata": {},
   "outputs": [],
   "source": [
    "input_data = sagemaker_session.upload_data(path=data_dir, bucket=bucket, key_prefix=prefix)"
   ]
  },
  {
   "cell_type": "markdown",
   "metadata": {},
   "source": [
    "**NOTE:** The cell above uploads the entire contents of our data directory. This includes the `word_dict.pkl` file. This is fortunate as we will need this later on when we create an endpoint that accepts an arbitrary review. For now, we will just take note of the fact that it resides in the data directory (and so also in the S3 training bucket) and that we will need to make sure it gets saved in the model directory."
   ]
  },
  {
   "cell_type": "markdown",
   "metadata": {},
   "source": [
    "## Step 4: Build and Train the PyTorch Model\n",
    "\n",
    "In the XGBoost notebook we discussed what a model is in the SageMaker framework. In particular, a model comprises three objects\n",
    "\n",
    " - Model Artifacts,\n",
    " - Training Code, and\n",
    " - Inference Code,\n",
    " \n",
    "each of which interact with one another. In the XGBoost example we used training and inference code that was provided by Amazon. Here we will still be using containers provided by Amazon with the added benefit of being able to include our own custom code.\n",
    "\n",
    "We will start by implementing our own neural network in PyTorch along with a training script. For the purposes of this project we have provided the necessary model object in the `model.py` file, inside of the `train` folder. You can see the provided implementation by running the cell below."
   ]
  },
  {
   "cell_type": "code",
   "execution_count": 22,
   "metadata": {},
   "outputs": [
    {
     "name": "stdout",
     "output_type": "stream",
     "text": [
      "\u001b[34mimport\u001b[39;49;00m \u001b[04m\u001b[36mtorch.nn\u001b[39;49;00m \u001b[34mas\u001b[39;49;00m \u001b[04m\u001b[36mnn\u001b[39;49;00m\n",
      "\n",
      "\u001b[34mclass\u001b[39;49;00m \u001b[04m\u001b[32mLSTMClassifier\u001b[39;49;00m(nn.Module):\n",
      "    \u001b[33m\"\"\"\u001b[39;49;00m\n",
      "\u001b[33m    This is the simple RNN model we will be using to perform Sentiment Analysis.\u001b[39;49;00m\n",
      "\u001b[33m    \"\"\"\u001b[39;49;00m\n",
      "\n",
      "    \u001b[34mdef\u001b[39;49;00m \u001b[32m__init__\u001b[39;49;00m(\u001b[36mself\u001b[39;49;00m, embedding_dim, hidden_dim, vocab_size):\n",
      "        \u001b[33m\"\"\"\u001b[39;49;00m\n",
      "\u001b[33m        Initialize the model by settingg up the various layers.\u001b[39;49;00m\n",
      "\u001b[33m        \"\"\"\u001b[39;49;00m\n",
      "        \u001b[36msuper\u001b[39;49;00m(LSTMClassifier, \u001b[36mself\u001b[39;49;00m).\u001b[32m__init__\u001b[39;49;00m()\n",
      "\n",
      "        \u001b[36mself\u001b[39;49;00m.embedding = nn.Embedding(vocab_size, embedding_dim, padding_idx=\u001b[34m0\u001b[39;49;00m)\n",
      "        \u001b[36mself\u001b[39;49;00m.lstm = nn.LSTM(embedding_dim, hidden_dim)\n",
      "        \u001b[36mself\u001b[39;49;00m.dense = nn.Linear(in_features=hidden_dim, out_features=\u001b[34m1\u001b[39;49;00m)\n",
      "        \u001b[36mself\u001b[39;49;00m.sig = nn.Sigmoid()\n",
      "        \n",
      "        \u001b[36mself\u001b[39;49;00m.word_dict = \u001b[36mNone\u001b[39;49;00m\n",
      "\n",
      "    \u001b[34mdef\u001b[39;49;00m \u001b[32mforward\u001b[39;49;00m(\u001b[36mself\u001b[39;49;00m, x):\n",
      "        \u001b[33m\"\"\"\u001b[39;49;00m\n",
      "\u001b[33m        Perform a forward pass of our model on some input.\u001b[39;49;00m\n",
      "\u001b[33m        \"\"\"\u001b[39;49;00m\n",
      "        x = x.t()\n",
      "        lengths = x[\u001b[34m0\u001b[39;49;00m,:]\n",
      "        reviews = x[\u001b[34m1\u001b[39;49;00m:,:]\n",
      "        embeds = \u001b[36mself\u001b[39;49;00m.embedding(reviews)\n",
      "        lstm_out, _ = \u001b[36mself\u001b[39;49;00m.lstm(embeds)\n",
      "        out = \u001b[36mself\u001b[39;49;00m.dense(lstm_out)\n",
      "        out = out[lengths - \u001b[34m1\u001b[39;49;00m, \u001b[36mrange\u001b[39;49;00m(\u001b[36mlen\u001b[39;49;00m(lengths))]\n",
      "        \u001b[34mreturn\u001b[39;49;00m \u001b[36mself\u001b[39;49;00m.sig(out.squeeze())\n"
     ]
    }
   ],
   "source": [
    "!pygmentize train/model.py"
   ]
  },
  {
   "cell_type": "markdown",
   "metadata": {},
   "source": [
    "The important takeaway from the implementation provided is that there are three parameters that we may wish to tweak to improve the performance of our model. These are the embedding dimension, the hidden dimension and the size of the vocabulary. We will likely want to make these parameters configurable in the training script so that if we wish to modify them we do not need to modify the script itself. We will see how to do this later on. To start we will write some of the training code in the notebook so that we can more easily diagnose any issues that arise.\n",
    "\n",
    "First we will load a small portion of the training data set to use as a sample. It would be very time consuming to try and train the model completely in the notebook as we do not have access to a gpu and the compute instance that we are using is not particularly powerful. However, we can work on a small bit of the data to get a feel for how our training script is behaving."
   ]
  },
  {
   "cell_type": "code",
   "execution_count": 23,
   "metadata": {},
   "outputs": [],
   "source": [
    "import torch\n",
    "import torch.utils.data\n",
    "\n",
    "# Read in only the first 250 rows\n",
    "train_sample = pd.read_csv(os.path.join(data_dir, 'train.csv'), header=None, names=None, nrows=250)\n",
    "\n",
    "# Turn the input pandas dataframe into tensors\n",
    "train_sample_y = torch.from_numpy(train_sample[[0]].values).float().squeeze()\n",
    "train_sample_X = torch.from_numpy(train_sample.drop([0], axis=1).values).long()\n",
    "\n",
    "# Build the dataset\n",
    "train_sample_ds = torch.utils.data.TensorDataset(train_sample_X, train_sample_y)\n",
    "# Build the dataloader\n",
    "train_sample_dl = torch.utils.data.DataLoader(train_sample_ds, batch_size=50)"
   ]
  },
  {
   "cell_type": "markdown",
   "metadata": {},
   "source": [
    "### (TODO) Writing the training method\n",
    "\n",
    "Next we need to write the training code itself. This should be very similar to training methods that you have written before to train PyTorch models. We will leave any difficult aspects such as model saving / loading and parameter loading until a little later."
   ]
  },
  {
   "cell_type": "code",
   "execution_count": 24,
   "metadata": {},
   "outputs": [],
   "source": [
    "def train(model, train_loader, epochs, optimizer, loss_fn, device):\n",
    "    for epoch in range(1, epochs + 1):\n",
    "        model.train()\n",
    "        total_loss = 0\n",
    "        for batch in train_loader:         \n",
    "            batch_X, batch_y = batch\n",
    "            \n",
    "            batch_X = batch_X.to(device)\n",
    "            batch_y = batch_y.to(device)\n",
    "            \n",
    "            # TODO: Complete this train method to train the model provided.\n",
    "            optimizer.zero_grad()\n",
    "            loss = loss_fn(model(batch_X), batch_y)\n",
    "            loss.backward()\n",
    "            optimizer.step()\n",
    "            \n",
    "            total_loss += loss.data.item()\n",
    "        print(\"Epoch: {}, BCELoss: {}\".format(epoch, total_loss / len(train_loader)))"
   ]
  },
  {
   "cell_type": "markdown",
   "metadata": {},
   "source": [
    "Supposing we have the training method above, we will test that it is working by writing a bit of code in the notebook that executes our training method on the small sample training set that we loaded earlier. The reason for doing this in the notebook is so that we have an opportunity to fix any errors that arise early when they are easier to diagnose."
   ]
  },
  {
   "cell_type": "code",
   "execution_count": 25,
   "metadata": {},
   "outputs": [
    {
     "name": "stdout",
     "output_type": "stream",
     "text": [
      "Epoch: 1, BCELoss: 0.6949976444244385\n",
      "Epoch: 2, BCELoss: 0.6860747814178467\n",
      "Epoch: 3, BCELoss: 0.6795052886009216\n",
      "Epoch: 4, BCELoss: 0.6726864218711853\n",
      "Epoch: 5, BCELoss: 0.6648797631263733\n"
     ]
    }
   ],
   "source": [
    "import torch.optim as optim\n",
    "from train.model import LSTMClassifier\n",
    "\n",
    "device = torch.device(\"cuda\" if torch.cuda.is_available() else \"cpu\")\n",
    "model = LSTMClassifier(32, 100, 5000).to(device)\n",
    "optimizer = optim.Adam(model.parameters())\n",
    "loss_fn = torch.nn.BCELoss()\n",
    "\n",
    "train(model, train_sample_dl, 5, optimizer, loss_fn, device)"
   ]
  },
  {
   "cell_type": "markdown",
   "metadata": {},
   "source": [
    "In order to construct a PyTorch model using SageMaker we must provide SageMaker with a training script. We may optionally include a directory which will be copied to the container and from which our training code will be run. When the training container is executed it will check the uploaded directory (if there is one) for a `requirements.txt` file and install any required Python libraries, after which the training script will be run."
   ]
  },
  {
   "cell_type": "markdown",
   "metadata": {},
   "source": [
    "### (TODO) Training the model\n",
    "\n",
    "When a PyTorch model is constructed in SageMaker, an entry point must be specified. This is the Python file which will be executed when the model is trained. Inside of the `train` directory is a file called `train.py` which has been provided and which contains most of the necessary code to train our model. The only thing that is missing is the implementation of the `train()` method which you wrote earlier in this notebook.\n",
    "\n",
    "**TODO**: Copy the `train()` method written above and paste it into the `train/train.py` file where required.\n",
    "\n",
    "The way that SageMaker passes hyperparameters to the training script is by way of arguments. These arguments can then be parsed and used in the training script. To see how this is done take a look at the provided `train/train.py` file."
   ]
  },
  {
   "cell_type": "code",
   "execution_count": 30,
   "metadata": {},
   "outputs": [],
   "source": [
    "from sagemaker.pytorch import PyTorch\n",
    "\n",
    "estimator = PyTorch(entry_point=\"train.py\",\n",
    "                    source_dir=\"train\",\n",
    "                    role=role,\n",
    "                    framework_version='0.4.0',\n",
    "                    train_instance_count=1,\n",
    "                    train_instance_type='ml.m4.xlarge',\n",
    "                    hyperparameters={\n",
    "                        'epochs': 10,\n",
    "                        'hidden_dim': 200,\n",
    "                    })"
   ]
  },
  {
   "cell_type": "code",
   "execution_count": 31,
   "metadata": {},
   "outputs": [
    {
     "name": "stdout",
     "output_type": "stream",
     "text": [
      "2019-12-04 15:52:16 Starting - Starting the training job...\n",
      "2019-12-04 15:52:17 Starting - Launching requested ML instances...\n",
      "2019-12-04 15:53:11 Starting - Preparing the instances for training......\n",
      "2019-12-04 15:54:08 Downloading - Downloading input data...\n",
      "2019-12-04 15:54:35 Training - Downloading the training image..\u001b[31mbash: cannot set terminal process group (-1): Inappropriate ioctl for device\u001b[0m\n",
      "\u001b[31mbash: no job control in this shell\u001b[0m\n",
      "\u001b[31m2019-12-04 15:54:54,696 sagemaker-containers INFO     Imported framework sagemaker_pytorch_container.training\u001b[0m\n",
      "\u001b[31m2019-12-04 15:54:54,698 sagemaker-containers INFO     No GPUs detected (normal if no gpus installed)\u001b[0m\n",
      "\u001b[31m2019-12-04 15:54:54,711 sagemaker_pytorch_container.training INFO     Block until all host DNS lookups succeed.\u001b[0m\n",
      "\u001b[31m2019-12-04 15:54:54,715 sagemaker_pytorch_container.training INFO     Invoking user training script.\u001b[0m\n",
      "\u001b[31m2019-12-04 15:54:55,036 sagemaker-containers INFO     Module train does not provide a setup.py. \u001b[0m\n",
      "\u001b[31mGenerating setup.py\u001b[0m\n",
      "\u001b[31m2019-12-04 15:54:55,036 sagemaker-containers INFO     Generating setup.cfg\u001b[0m\n",
      "\u001b[31m2019-12-04 15:54:55,036 sagemaker-containers INFO     Generating MANIFEST.in\u001b[0m\n",
      "\u001b[31m2019-12-04 15:54:55,036 sagemaker-containers INFO     Installing module with the following command:\u001b[0m\n",
      "\u001b[31m/usr/bin/python -m pip install -U . -r requirements.txt\u001b[0m\n",
      "\u001b[31mProcessing /opt/ml/code\u001b[0m\n",
      "\u001b[31mCollecting pandas (from -r requirements.txt (line 1))\n",
      "  Downloading https://files.pythonhosted.org/packages/74/24/0cdbf8907e1e3bc5a8da03345c23cbed7044330bb8f73bb12e711a640a00/pandas-0.24.2-cp35-cp35m-manylinux1_x86_64.whl (10.0MB)\u001b[0m\n",
      "\u001b[31mCollecting numpy (from -r requirements.txt (line 2))\n",
      "  Downloading https://files.pythonhosted.org/packages/ab/e9/2561dbfbc05146bffa02167e09b9902e273decb2dc4cd5c43314ede20312/numpy-1.17.4-cp35-cp35m-manylinux1_x86_64.whl (19.8MB)\u001b[0m\n",
      "\u001b[31mCollecting nltk (from -r requirements.txt (line 3))\n",
      "  Downloading https://files.pythonhosted.org/packages/f6/1d/d925cfb4f324ede997f6d47bea4d9babba51b49e87a767c170b77005889d/nltk-3.4.5.zip (1.5MB)\u001b[0m\n",
      "\u001b[31mCollecting beautifulsoup4 (from -r requirements.txt (line 4))\n",
      "  Downloading https://files.pythonhosted.org/packages/3b/c8/a55eb6ea11cd7e5ac4bacdf92bac4693b90d3ba79268be16527555e186f0/beautifulsoup4-4.8.1-py3-none-any.whl (101kB)\u001b[0m\n",
      "\u001b[31mCollecting html5lib (from -r requirements.txt (line 5))\n",
      "  Downloading https://files.pythonhosted.org/packages/a5/62/bbd2be0e7943ec8504b517e62bab011b4946e1258842bc159e5dfde15b96/html5lib-1.0.1-py2.py3-none-any.whl (117kB)\u001b[0m\n",
      "\u001b[31mRequirement already satisfied, skipping upgrade: python-dateutil>=2.5.0 in /usr/local/lib/python3.5/dist-packages (from pandas->-r requirements.txt (line 1)) (2.7.5)\u001b[0m\n",
      "\u001b[31mCollecting pytz>=2011k (from pandas->-r requirements.txt (line 1))\n",
      "  Downloading https://files.pythonhosted.org/packages/e7/f9/f0b53f88060247251bf481fa6ea62cd0d25bf1b11a87888e53ce5b7c8ad2/pytz-2019.3-py2.py3-none-any.whl (509kB)\u001b[0m\n",
      "\u001b[31mRequirement already satisfied, skipping upgrade: six in /usr/local/lib/python3.5/dist-packages (from nltk->-r requirements.txt (line 3)) (1.11.0)\u001b[0m\n",
      "\u001b[31mCollecting soupsieve>=1.2 (from beautifulsoup4->-r requirements.txt (line 4))\n",
      "  Downloading https://files.pythonhosted.org/packages/81/94/03c0f04471fc245d08d0a99f7946ac228ca98da4fa75796c507f61e688c2/soupsieve-1.9.5-py2.py3-none-any.whl\u001b[0m\n",
      "\u001b[31mCollecting webencodings (from html5lib->-r requirements.txt (line 5))\n",
      "  Downloading https://files.pythonhosted.org/packages/f4/24/2a3e3df732393fed8b3ebf2ec078f05546de641fe1b667ee316ec1dcf3b7/webencodings-0.5.1-py2.py3-none-any.whl\u001b[0m\n",
      "\u001b[31mBuilding wheels for collected packages: nltk, train\n",
      "  Running setup.py bdist_wheel for nltk: started\u001b[0m\n",
      "\u001b[31m  Running setup.py bdist_wheel for nltk: finished with status 'done'\n",
      "  Stored in directory: /root/.cache/pip/wheels/96/86/f6/68ab24c23f207c0077381a5e3904b2815136b879538a24b483\n",
      "  Running setup.py bdist_wheel for train: started\n",
      "  Running setup.py bdist_wheel for train: finished with status 'done'\n",
      "  Stored in directory: /tmp/pip-ephem-wheel-cache-s5_3q930/wheels/35/24/16/37574d11bf9bde50616c67372a334f94fa8356bc7164af8ca3\u001b[0m\n",
      "\u001b[31mSuccessfully built nltk train\u001b[0m\n",
      "\u001b[31mInstalling collected packages: numpy, pytz, pandas, nltk, soupsieve, beautifulsoup4, webencodings, html5lib, train\n",
      "  Found existing installation: numpy 1.15.4\u001b[0m\n",
      "\u001b[31m    Uninstalling numpy-1.15.4:\u001b[0m\n",
      "\u001b[31m      Successfully uninstalled numpy-1.15.4\u001b[0m\n",
      "\n",
      "2019-12-04 15:54:53 Training - Training image download completed. Training in progress.\u001b[31mSuccessfully installed beautifulsoup4-4.8.1 html5lib-1.0.1 nltk-3.4.5 numpy-1.17.4 pandas-0.24.2 pytz-2019.3 soupsieve-1.9.5 train-1.0.0 webencodings-0.5.1\u001b[0m\n",
      "\u001b[31mYou are using pip version 18.1, however version 19.3.1 is available.\u001b[0m\n",
      "\u001b[31mYou should consider upgrading via the 'pip install --upgrade pip' command.\u001b[0m\n",
      "\u001b[31m2019-12-04 15:55:07,372 sagemaker-containers INFO     No GPUs detected (normal if no gpus installed)\u001b[0m\n",
      "\u001b[31m2019-12-04 15:55:07,386 sagemaker-containers INFO     Invoking user script\n",
      "\u001b[0m\n",
      "\u001b[31mTraining Env:\n",
      "\u001b[0m\n",
      "\u001b[31m{\n",
      "    \"module_name\": \"train\",\n",
      "    \"num_gpus\": 0,\n",
      "    \"input_config_dir\": \"/opt/ml/input/config\",\n",
      "    \"output_data_dir\": \"/opt/ml/output/data\",\n",
      "    \"resource_config\": {\n",
      "        \"network_interface_name\": \"eth0\",\n",
      "        \"current_host\": \"algo-1\",\n",
      "        \"hosts\": [\n",
      "            \"algo-1\"\n",
      "        ]\n",
      "    },\n",
      "    \"channel_input_dirs\": {\n",
      "        \"training\": \"/opt/ml/input/data/training\"\n",
      "    },\n",
      "    \"user_entry_point\": \"train.py\",\n",
      "    \"hosts\": [\n",
      "        \"algo-1\"\n",
      "    ],\n",
      "    \"log_level\": 20,\n",
      "    \"module_dir\": \"s3://sagemaker-us-east-2-167251554632/sagemaker-pytorch-2019-12-04-15-52-16-351/source/sourcedir.tar.gz\",\n",
      "    \"output_intermediate_dir\": \"/opt/ml/output/intermediate\",\n",
      "    \"network_interface_name\": \"eth0\",\n",
      "    \"input_dir\": \"/opt/ml/input\",\n",
      "    \"output_dir\": \"/opt/ml/output\",\n",
      "    \"hyperparameters\": {\n",
      "        \"epochs\": 10,\n",
      "        \"hidden_dim\": 200\n",
      "    },\n",
      "    \"input_data_config\": {\n",
      "        \"training\": {\n",
      "            \"S3DistributionType\": \"FullyReplicated\",\n",
      "            \"RecordWrapperType\": \"None\",\n",
      "            \"TrainingInputMode\": \"File\"\n",
      "        }\n",
      "    },\n",
      "    \"framework_module\": \"sagemaker_pytorch_container.training:main\",\n",
      "    \"model_dir\": \"/opt/ml/model\",\n",
      "    \"num_cpus\": 4,\n",
      "    \"job_name\": \"sagemaker-pytorch-2019-12-04-15-52-16-351\",\n",
      "    \"current_host\": \"algo-1\",\n",
      "    \"additional_framework_parameters\": {}\u001b[0m\n",
      "\u001b[31m}\n",
      "\u001b[0m\n",
      "\u001b[31mEnvironment variables:\n",
      "\u001b[0m\n",
      "\u001b[31mSM_INPUT_DIR=/opt/ml/input\u001b[0m\n",
      "\u001b[31mSM_HOSTS=[\"algo-1\"]\u001b[0m\n",
      "\u001b[31mSM_INPUT_CONFIG_DIR=/opt/ml/input/config\u001b[0m\n",
      "\u001b[31mSM_INPUT_DATA_CONFIG={\"training\":{\"RecordWrapperType\":\"None\",\"S3DistributionType\":\"FullyReplicated\",\"TrainingInputMode\":\"File\"}}\u001b[0m\n",
      "\u001b[31mSM_MODULE_NAME=train\u001b[0m\n",
      "\u001b[31mSM_RESOURCE_CONFIG={\"current_host\":\"algo-1\",\"hosts\":[\"algo-1\"],\"network_interface_name\":\"eth0\"}\u001b[0m\n",
      "\u001b[31mPYTHONPATH=/usr/local/bin:/usr/lib/python35.zip:/usr/lib/python3.5:/usr/lib/python3.5/plat-x86_64-linux-gnu:/usr/lib/python3.5/lib-dynload:/usr/local/lib/python3.5/dist-packages:/usr/lib/python3/dist-packages\u001b[0m\n",
      "\u001b[31mSM_USER_ENTRY_POINT=train.py\u001b[0m\n",
      "\u001b[31mSM_CURRENT_HOST=algo-1\u001b[0m\n",
      "\u001b[31mSM_HP_HIDDEN_DIM=200\u001b[0m\n",
      "\u001b[31mSM_FRAMEWORK_MODULE=sagemaker_pytorch_container.training:main\u001b[0m\n",
      "\u001b[31mSM_OUTPUT_DIR=/opt/ml/output\u001b[0m\n",
      "\u001b[31mSM_OUTPUT_DATA_DIR=/opt/ml/output/data\u001b[0m\n",
      "\u001b[31mSM_MODEL_DIR=/opt/ml/model\u001b[0m\n",
      "\u001b[31mSM_HP_EPOCHS=10\u001b[0m\n",
      "\u001b[31mSM_HPS={\"epochs\":10,\"hidden_dim\":200}\u001b[0m\n",
      "\u001b[31mSM_NUM_GPUS=0\u001b[0m\n",
      "\u001b[31mSM_TRAINING_ENV={\"additional_framework_parameters\":{},\"channel_input_dirs\":{\"training\":\"/opt/ml/input/data/training\"},\"current_host\":\"algo-1\",\"framework_module\":\"sagemaker_pytorch_container.training:main\",\"hosts\":[\"algo-1\"],\"hyperparameters\":{\"epochs\":10,\"hidden_dim\":200},\"input_config_dir\":\"/opt/ml/input/config\",\"input_data_config\":{\"training\":{\"RecordWrapperType\":\"None\",\"S3DistributionType\":\"FullyReplicated\",\"TrainingInputMode\":\"File\"}},\"input_dir\":\"/opt/ml/input\",\"job_name\":\"sagemaker-pytorch-2019-12-04-15-52-16-351\",\"log_level\":20,\"model_dir\":\"/opt/ml/model\",\"module_dir\":\"s3://sagemaker-us-east-2-167251554632/sagemaker-pytorch-2019-12-04-15-52-16-351/source/sourcedir.tar.gz\",\"module_name\":\"train\",\"network_interface_name\":\"eth0\",\"num_cpus\":4,\"num_gpus\":0,\"output_data_dir\":\"/opt/ml/output/data\",\"output_dir\":\"/opt/ml/output\",\"output_intermediate_dir\":\"/opt/ml/output/intermediate\",\"resource_config\":{\"current_host\":\"algo-1\",\"hosts\":[\"algo-1\"],\"network_interface_name\":\"eth0\"},\"user_entry_point\":\"train.py\"}\u001b[0m\n",
      "\u001b[31mSM_USER_ARGS=[\"--epochs\",\"10\",\"--hidden_dim\",\"200\"]\u001b[0m\n",
      "\u001b[31mSM_NUM_CPUS=4\u001b[0m\n",
      "\u001b[31mSM_NETWORK_INTERFACE_NAME=eth0\u001b[0m\n",
      "\u001b[31mSM_CHANNEL_TRAINING=/opt/ml/input/data/training\u001b[0m\n",
      "\u001b[31mSM_FRAMEWORK_PARAMS={}\u001b[0m\n",
      "\u001b[31mSM_MODULE_DIR=s3://sagemaker-us-east-2-167251554632/sagemaker-pytorch-2019-12-04-15-52-16-351/source/sourcedir.tar.gz\u001b[0m\n",
      "\u001b[31mSM_OUTPUT_INTERMEDIATE_DIR=/opt/ml/output/intermediate\u001b[0m\n",
      "\u001b[31mSM_LOG_LEVEL=20\u001b[0m\n",
      "\u001b[31mSM_CHANNELS=[\"training\"]\n",
      "\u001b[0m\n",
      "\u001b[31mInvoking script with the following command:\n",
      "\u001b[0m\n",
      "\u001b[31m/usr/bin/python -m train --epochs 10 --hidden_dim 200\n",
      "\n",
      "\u001b[0m\n",
      "\u001b[31mUsing device cpu.\u001b[0m\n",
      "\u001b[31mGet train data loader.\u001b[0m\n",
      "\u001b[31mModel loaded with embedding_dim 32, hidden_dim 200, vocab_size 5000.\u001b[0m\n"
     ]
    },
    {
     "name": "stdout",
     "output_type": "stream",
     "text": [
      "\u001b[31mEpoch: 1, BCELoss: 0.6697565949693018\u001b[0m\n",
      "\u001b[31mEpoch: 2, BCELoss: 0.5918009840712255\u001b[0m\n",
      "\u001b[31mEpoch: 3, BCELoss: 0.4957714731595954\u001b[0m\n",
      "\u001b[31mEpoch: 4, BCELoss: 0.43728503098293225\u001b[0m\n",
      "\u001b[31mEpoch: 5, BCELoss: 0.4062816117491041\u001b[0m\n",
      "\u001b[31mEpoch: 6, BCELoss: 0.35908936237802314\u001b[0m\n",
      "\u001b[31mEpoch: 7, BCELoss: 0.33804681653879126\u001b[0m\n",
      "\u001b[31mEpoch: 8, BCELoss: 0.313391629530459\u001b[0m\n",
      "\u001b[31mEpoch: 9, BCELoss: 0.29745272805496137\u001b[0m\n",
      "\u001b[31mEpoch: 10, BCELoss: 0.2817088858205445\u001b[0m\n",
      "\u001b[31m2019-12-04 17:40:06,659 sagemaker-containers INFO     Reporting training SUCCESS\u001b[0m\n",
      "\n",
      "2019-12-04 17:41:10 Uploading - Uploading generated training model\n",
      "2019-12-04 17:41:10 Completed - Training job completed\n",
      "Training seconds: 6422\n",
      "Billable seconds: 6422\n"
     ]
    }
   ],
   "source": [
    "estimator.fit({'training': input_data})"
   ]
  },
  {
   "cell_type": "markdown",
   "metadata": {},
   "source": [
    "## Step 5: Testing the model\n",
    "\n",
    "As mentioned at the top of this notebook, we will be testing this model by first deploying it and then sending the testing data to the deployed endpoint. We will do this so that we can make sure that the deployed model is working correctly.\n",
    "\n",
    "## Step 6: Deploy the model for testing\n",
    "\n",
    "Now that we have trained our model, we would like to test it to see how it performs. Currently our model takes input of the form `review_length, review[500]` where `review[500]` is a sequence of `500` integers which describe the words present in the review, encoded using `word_dict`. Fortunately for us, SageMaker provides built-in inference code for models with simple inputs such as this.\n",
    "\n",
    "There is one thing that we need to provide, however, and that is a function which loads the saved model. This function must be called `model_fn()` and takes as its only parameter a path to the directory where the model artifacts are stored. This function must also be present in the python file which we specified as the entry point. In our case the model loading function has been provided and so no changes need to be made.\n",
    "\n",
    "**NOTE**: When the built-in inference code is run it must import the `model_fn()` method from the `train.py` file. This is why the training code is wrapped in a main guard ( ie, `if __name__ == '__main__':` )\n",
    "\n",
    "Since we don't need to change anything in the code that was uploaded during training, we can simply deploy the current model as-is.\n",
    "\n",
    "**NOTE:** When deploying a model you are asking SageMaker to launch an compute instance that will wait for data to be sent to it. As a result, this compute instance will continue to run until *you* shut it down. This is important to know since the cost of a deployed endpoint depends on how long it has been running for.\n",
    "\n",
    "In other words **If you are no longer using a deployed endpoint, shut it down!**\n",
    "\n",
    "**TODO:** Deploy the trained model."
   ]
  },
  {
   "cell_type": "code",
   "execution_count": 32,
   "metadata": {},
   "outputs": [
    {
     "name": "stdout",
     "output_type": "stream",
     "text": [
      "-------------------------------------------------------------------------------------!"
     ]
    }
   ],
   "source": [
    "# TODO: Deploy the trained model\n",
    "#predictor = estimator.deploy(initial_instance_count=1, instance_type='ml.p2.xlarge')\n",
    "predictor = estimator.deploy(initial_instance_count=1, instance_type='ml.m4.xlarge')"
   ]
  },
  {
   "cell_type": "markdown",
   "metadata": {},
   "source": [
    "## Step 7 - Use the model for testing\n",
    "\n",
    "Once deployed, we can read in the test data and send it off to our deployed model to get some results. Once we collect all of the results we can determine how accurate our model is."
   ]
  },
  {
   "cell_type": "code",
   "execution_count": 33,
   "metadata": {},
   "outputs": [],
   "source": [
    "test_X = pd.concat([pd.DataFrame(test_X_len), pd.DataFrame(test_X)], axis=1)"
   ]
  },
  {
   "cell_type": "code",
   "execution_count": 34,
   "metadata": {},
   "outputs": [],
   "source": [
    "# We split the data into chunks and send each chunk seperately, accumulating the results.\n",
    "\n",
    "def predict(data, rows=512):\n",
    "    split_array = np.array_split(data, int(data.shape[0] / float(rows) + 1))\n",
    "    predictions = np.array([])\n",
    "    for array in split_array:\n",
    "        predictions = np.append(predictions, predictor.predict(array))\n",
    "    \n",
    "    return predictions"
   ]
  },
  {
   "cell_type": "code",
   "execution_count": 35,
   "metadata": {},
   "outputs": [],
   "source": [
    "predictions = predict(test_X.values)\n",
    "predictions = [round(num) for num in predictions]"
   ]
  },
  {
   "cell_type": "code",
   "execution_count": 36,
   "metadata": {},
   "outputs": [
    {
     "data": {
      "text/plain": [
       "0.84092"
      ]
     },
     "execution_count": 36,
     "metadata": {},
     "output_type": "execute_result"
    }
   ],
   "source": [
    "from sklearn.metrics import accuracy_score\n",
    "accuracy_score(test_y, predictions)"
   ]
  },
  {
   "cell_type": "markdown",
   "metadata": {},
   "source": [
    "**Question:** How does this model compare to the XGBoost model you created earlier? Why might these two models perform differently on this dataset? Which do *you* think is better for sentiment analysis?"
   ]
  },
  {
   "cell_type": "markdown",
   "metadata": {},
   "source": [
    "**Answer:** \n",
    "\n",
    "相比XGBoost模型，XGBoost模型表现的更好。这个模型是LSTM模型，是一种RNN模型，是一系列能够处理序列数据的神经网络的总称。LSTM模型在数据量较大的时候会有更加精确的预测，可能在这个项目中数据数量有限，所以XGBoost模型表现的更好。对于情感分析，可以根据数据量大小选择模型，当数据量较大的时候，可以选择LSTM模型，当数据量较小的时候，可以选择XGBoost模型。"
   ]
  },
  {
   "cell_type": "markdown",
   "metadata": {},
   "source": [
    "### (TODO) More testing\n",
    "\n",
    "We now have a trained model which has been deployed and which we can send processed reviews to and which returns the predicted sentiment. However, ultimately we would like to be able to send our model an unprocessed review. That is, we would like to send the review itself as a string. For example, suppose we wish to send the following review to our model."
   ]
  },
  {
   "cell_type": "code",
   "execution_count": 37,
   "metadata": {},
   "outputs": [],
   "source": [
    "test_review = 'The simplest pleasures in life are the best, and this film is one of them. Combining a rather basic storyline of love and adventure this movie transcends the usual weekend fair with wit and unmitigated charm.'"
   ]
  },
  {
   "cell_type": "markdown",
   "metadata": {},
   "source": [
    "The question we now need to answer is, how do we send this review to our model?\n",
    "\n",
    "Recall in the first section of this notebook we did a bunch of data processing to the IMDb dataset. In particular, we did two specific things to the provided reviews.\n",
    " - Removed any html tags and stemmed the input\n",
    " - Encoded the review as a sequence of integers using `word_dict`\n",
    " \n",
    "In order process the review we will need to repeat these two steps.\n",
    "\n",
    "**TODO**: Using the `review_to_words` and `convert_and_pad` methods from section one, convert `test_review` into a numpy array `test_data` suitable to send to our model. Remember that our model expects input of the form `review_length, review[500]`."
   ]
  },
  {
   "cell_type": "code",
   "execution_count": 40,
   "metadata": {},
   "outputs": [],
   "source": [
    "# TODO: Convert test_review into a form usable by the model and save the results in test_data\n",
    "test_review_data = review_to_words(test_review)\n",
    "test_convert_data, data_len = convert_and_pad(word_dict, test_review_data)\n",
    "data_pack = np.hstack((data_len, test_convert_data))\n",
    "data_pack = data_pack.reshape(1, -1)\n",
    "test_data = torch.from_numpy(data_pack)"
   ]
  },
  {
   "cell_type": "markdown",
   "metadata": {},
   "source": [
    "Now that we have processed the review, we can send the resulting array to our model to predict the sentiment of the review."
   ]
  },
  {
   "cell_type": "code",
   "execution_count": 41,
   "metadata": {},
   "outputs": [
    {
     "data": {
      "text/plain": [
       "array(0.8575451, dtype=float32)"
      ]
     },
     "execution_count": 41,
     "metadata": {},
     "output_type": "execute_result"
    }
   ],
   "source": [
    "predictor.predict(test_data)"
   ]
  },
  {
   "cell_type": "markdown",
   "metadata": {},
   "source": [
    "Since the return value of our model is close to `1`, we can be certain that the review we submitted is positive."
   ]
  },
  {
   "cell_type": "markdown",
   "metadata": {},
   "source": [
    "### Delete the endpoint\n",
    "\n",
    "Of course, just like in the XGBoost notebook, once we've deployed an endpoint it continues to run until we tell it to shut down. Since we are done using our endpoint for now, we can delete it."
   ]
  },
  {
   "cell_type": "code",
   "execution_count": 42,
   "metadata": {},
   "outputs": [],
   "source": [
    "estimator.delete_endpoint()"
   ]
  },
  {
   "cell_type": "markdown",
   "metadata": {},
   "source": [
    "## Step 6 (again) - Deploy the model for the web app\n",
    "\n",
    "Now that we know that our model is working, it's time to create some custom inference code so that we can send the model a review which has not been processed and have it determine the sentiment of the review.\n",
    "\n",
    "As we saw above, by default the estimator which we created, when deployed, will use the entry script and directory which we provided when creating the model. However, since we now wish to accept a string as input and our model expects a processed review, we need to write some custom inference code.\n",
    "\n",
    "We will store the code that we write in the `serve` directory. Provided in this directory is the `model.py` file that we used to construct our model, a `utils.py` file which contains the `review_to_words` and `convert_and_pad` pre-processing functions which we used during the initial data processing, and `predict.py`, the file which will contain our custom inference code. Note also that `requirements.txt` is present which will tell SageMaker what Python libraries are required by our custom inference code.\n",
    "\n",
    "When deploying a PyTorch model in SageMaker, you are expected to provide four functions which the SageMaker inference container will use.\n",
    " - `model_fn`: This function is the same function that we used in the training script and it tells SageMaker how to load our model.\n",
    " - `input_fn`: This function receives the raw serialized input that has been sent to the model's endpoint and its job is to de-serialize and make the input available for the inference code.\n",
    " - `output_fn`: This function takes the output of the inference code and its job is to serialize this output and return it to the caller of the model's endpoint.\n",
    " - `predict_fn`: The heart of the inference script, this is where the actual prediction is done and is the function which you will need to complete.\n",
    "\n",
    "For the simple website that we are constructing during this project, the `input_fn` and `output_fn` methods are relatively straightforward. We only require being able to accept a string as input and we expect to return a single value as output. You might imagine though that in a more complex application the input or output may be image data or some other binary data which would require some effort to serialize.\n",
    "\n",
    "### (TODO) Writing inference code\n",
    "\n",
    "Before writing our custom inference code, we will begin by taking a look at the code which has been provided."
   ]
  },
  {
   "cell_type": "code",
   "execution_count": 43,
   "metadata": {},
   "outputs": [
    {
     "name": "stdout",
     "output_type": "stream",
     "text": [
      "\u001b[34mimport\u001b[39;49;00m \u001b[04m\u001b[36margparse\u001b[39;49;00m\r\n",
      "\u001b[34mimport\u001b[39;49;00m \u001b[04m\u001b[36mjson\u001b[39;49;00m\r\n",
      "\u001b[34mimport\u001b[39;49;00m \u001b[04m\u001b[36mos\u001b[39;49;00m\r\n",
      "\u001b[34mimport\u001b[39;49;00m \u001b[04m\u001b[36mpickle\u001b[39;49;00m\r\n",
      "\u001b[34mimport\u001b[39;49;00m \u001b[04m\u001b[36msys\u001b[39;49;00m\r\n",
      "\u001b[34mimport\u001b[39;49;00m \u001b[04m\u001b[36msagemaker_containers\u001b[39;49;00m\r\n",
      "\u001b[34mimport\u001b[39;49;00m \u001b[04m\u001b[36mpandas\u001b[39;49;00m \u001b[34mas\u001b[39;49;00m \u001b[04m\u001b[36mpd\u001b[39;49;00m\r\n",
      "\u001b[34mimport\u001b[39;49;00m \u001b[04m\u001b[36mnumpy\u001b[39;49;00m \u001b[34mas\u001b[39;49;00m \u001b[04m\u001b[36mnp\u001b[39;49;00m\r\n",
      "\u001b[34mimport\u001b[39;49;00m \u001b[04m\u001b[36mtorch\u001b[39;49;00m\r\n",
      "\u001b[34mimport\u001b[39;49;00m \u001b[04m\u001b[36mtorch.nn\u001b[39;49;00m \u001b[34mas\u001b[39;49;00m \u001b[04m\u001b[36mnn\u001b[39;49;00m\r\n",
      "\u001b[34mimport\u001b[39;49;00m \u001b[04m\u001b[36mtorch.optim\u001b[39;49;00m \u001b[34mas\u001b[39;49;00m \u001b[04m\u001b[36moptim\u001b[39;49;00m\r\n",
      "\u001b[34mimport\u001b[39;49;00m \u001b[04m\u001b[36mtorch.utils.data\u001b[39;49;00m\r\n",
      "\r\n",
      "\u001b[34mfrom\u001b[39;49;00m \u001b[04m\u001b[36mmodel\u001b[39;49;00m \u001b[34mimport\u001b[39;49;00m LSTMClassifier\r\n",
      "\r\n",
      "\u001b[34mfrom\u001b[39;49;00m \u001b[04m\u001b[36mutils\u001b[39;49;00m \u001b[34mimport\u001b[39;49;00m review_to_words, convert_and_pad\r\n",
      "\r\n",
      "\u001b[34mdef\u001b[39;49;00m \u001b[32mmodel_fn\u001b[39;49;00m(model_dir):\r\n",
      "    \u001b[33m\"\"\"Load the PyTorch model from the `model_dir` directory.\"\"\"\u001b[39;49;00m\r\n",
      "    \u001b[34mprint\u001b[39;49;00m(\u001b[33m\"\u001b[39;49;00m\u001b[33mLoading model.\u001b[39;49;00m\u001b[33m\"\u001b[39;49;00m)\r\n",
      "\r\n",
      "    \u001b[37m# First, load the parameters used to create the model.\u001b[39;49;00m\r\n",
      "    model_info = {}\r\n",
      "    model_info_path = os.path.join(model_dir, \u001b[33m'\u001b[39;49;00m\u001b[33mmodel_info.pth\u001b[39;49;00m\u001b[33m'\u001b[39;49;00m)\r\n",
      "    \u001b[34mwith\u001b[39;49;00m \u001b[36mopen\u001b[39;49;00m(model_info_path, \u001b[33m'\u001b[39;49;00m\u001b[33mrb\u001b[39;49;00m\u001b[33m'\u001b[39;49;00m) \u001b[34mas\u001b[39;49;00m f:\r\n",
      "        model_info = torch.load(f)\r\n",
      "\r\n",
      "    \u001b[34mprint\u001b[39;49;00m(\u001b[33m\"\u001b[39;49;00m\u001b[33mmodel_info: {}\u001b[39;49;00m\u001b[33m\"\u001b[39;49;00m.format(model_info))\r\n",
      "\r\n",
      "    \u001b[37m# Determine the device and construct the model.\u001b[39;49;00m\r\n",
      "    device = torch.device(\u001b[33m\"\u001b[39;49;00m\u001b[33mcuda\u001b[39;49;00m\u001b[33m\"\u001b[39;49;00m \u001b[34mif\u001b[39;49;00m torch.cuda.is_available() \u001b[34melse\u001b[39;49;00m \u001b[33m\"\u001b[39;49;00m\u001b[33mcpu\u001b[39;49;00m\u001b[33m\"\u001b[39;49;00m)\r\n",
      "    model = LSTMClassifier(model_info[\u001b[33m'\u001b[39;49;00m\u001b[33membedding_dim\u001b[39;49;00m\u001b[33m'\u001b[39;49;00m], model_info[\u001b[33m'\u001b[39;49;00m\u001b[33mhidden_dim\u001b[39;49;00m\u001b[33m'\u001b[39;49;00m], model_info[\u001b[33m'\u001b[39;49;00m\u001b[33mvocab_size\u001b[39;49;00m\u001b[33m'\u001b[39;49;00m])\r\n",
      "\r\n",
      "    \u001b[37m# Load the store model parameters.\u001b[39;49;00m\r\n",
      "    model_path = os.path.join(model_dir, \u001b[33m'\u001b[39;49;00m\u001b[33mmodel.pth\u001b[39;49;00m\u001b[33m'\u001b[39;49;00m)\r\n",
      "    \u001b[34mwith\u001b[39;49;00m \u001b[36mopen\u001b[39;49;00m(model_path, \u001b[33m'\u001b[39;49;00m\u001b[33mrb\u001b[39;49;00m\u001b[33m'\u001b[39;49;00m) \u001b[34mas\u001b[39;49;00m f:\r\n",
      "        model.load_state_dict(torch.load(f))\r\n",
      "\r\n",
      "    \u001b[37m# Load the saved word_dict.\u001b[39;49;00m\r\n",
      "    word_dict_path = os.path.join(model_dir, \u001b[33m'\u001b[39;49;00m\u001b[33mword_dict.pkl\u001b[39;49;00m\u001b[33m'\u001b[39;49;00m)\r\n",
      "    \u001b[34mwith\u001b[39;49;00m \u001b[36mopen\u001b[39;49;00m(word_dict_path, \u001b[33m'\u001b[39;49;00m\u001b[33mrb\u001b[39;49;00m\u001b[33m'\u001b[39;49;00m) \u001b[34mas\u001b[39;49;00m f:\r\n",
      "        model.word_dict = pickle.load(f)\r\n",
      "\r\n",
      "    model.to(device).eval()\r\n",
      "\r\n",
      "    \u001b[34mprint\u001b[39;49;00m(\u001b[33m\"\u001b[39;49;00m\u001b[33mDone loading model.\u001b[39;49;00m\u001b[33m\"\u001b[39;49;00m)\r\n",
      "    \u001b[34mreturn\u001b[39;49;00m model\r\n",
      "\r\n",
      "\u001b[34mdef\u001b[39;49;00m \u001b[32minput_fn\u001b[39;49;00m(serialized_input_data, content_type):\r\n",
      "    \u001b[34mprint\u001b[39;49;00m(\u001b[33m'\u001b[39;49;00m\u001b[33mDeserializing the input data.\u001b[39;49;00m\u001b[33m'\u001b[39;49;00m)\r\n",
      "    \u001b[34mif\u001b[39;49;00m content_type == \u001b[33m'\u001b[39;49;00m\u001b[33mtext/plain\u001b[39;49;00m\u001b[33m'\u001b[39;49;00m:\r\n",
      "        data = serialized_input_data.decode(\u001b[33m'\u001b[39;49;00m\u001b[33mutf-8\u001b[39;49;00m\u001b[33m'\u001b[39;49;00m)\r\n",
      "        \u001b[34mreturn\u001b[39;49;00m data\r\n",
      "    \u001b[34mraise\u001b[39;49;00m \u001b[36mException\u001b[39;49;00m(\u001b[33m'\u001b[39;49;00m\u001b[33mRequested unsupported ContentType in content_type: \u001b[39;49;00m\u001b[33m'\u001b[39;49;00m + content_type)\r\n",
      "\r\n",
      "\u001b[34mdef\u001b[39;49;00m \u001b[32moutput_fn\u001b[39;49;00m(prediction_output, accept):\r\n",
      "    \u001b[34mprint\u001b[39;49;00m(\u001b[33m'\u001b[39;49;00m\u001b[33mSerializing the generated output.\u001b[39;49;00m\u001b[33m'\u001b[39;49;00m)\r\n",
      "    \u001b[34mreturn\u001b[39;49;00m \u001b[36mstr\u001b[39;49;00m(prediction_output)\r\n",
      "\r\n",
      "\u001b[34mdef\u001b[39;49;00m \u001b[32mpredict_fn\u001b[39;49;00m(input_data, model):\r\n",
      "    \u001b[34mprint\u001b[39;49;00m(\u001b[33m'\u001b[39;49;00m\u001b[33mInferring sentiment of input data.\u001b[39;49;00m\u001b[33m'\u001b[39;49;00m)\r\n",
      "\r\n",
      "    device = torch.device(\u001b[33m\"\u001b[39;49;00m\u001b[33mcuda\u001b[39;49;00m\u001b[33m\"\u001b[39;49;00m \u001b[34mif\u001b[39;49;00m torch.cuda.is_available() \u001b[34melse\u001b[39;49;00m \u001b[33m\"\u001b[39;49;00m\u001b[33mcpu\u001b[39;49;00m\u001b[33m\"\u001b[39;49;00m)\r\n",
      "    \r\n",
      "    \u001b[34mif\u001b[39;49;00m model.word_dict \u001b[35mis\u001b[39;49;00m \u001b[36mNone\u001b[39;49;00m:\r\n",
      "        \u001b[34mraise\u001b[39;49;00m \u001b[36mException\u001b[39;49;00m(\u001b[33m'\u001b[39;49;00m\u001b[33mModel has not been loaded properly, no word_dict.\u001b[39;49;00m\u001b[33m'\u001b[39;49;00m)\r\n",
      "    \r\n",
      "    \u001b[37m# TODO: Process input_data so that it is ready to be sent to our model.\u001b[39;49;00m\r\n",
      "    \u001b[37m#       You should produce two variables:\u001b[39;49;00m\r\n",
      "    \u001b[37m#         data_X   - A sequence of length 500 which represents the converted review\u001b[39;49;00m\r\n",
      "    \u001b[37m#         data_len - The length of the review\u001b[39;49;00m\r\n",
      "     \r\n",
      "    data_X, data_len = convert_and_pad(model.word_dict, review_to_words(input_data))\r\n",
      "\r\n",
      "    \u001b[37m# Using data_X and data_len we construct an appropriate input tensor. Remember\u001b[39;49;00m\r\n",
      "    \u001b[37m# that our model expects input data of the form 'len, review[500]'.\u001b[39;49;00m\r\n",
      "    data_pack = np.hstack((data_len, data_X))\r\n",
      "    data_pack = data_pack.reshape(\u001b[34m1\u001b[39;49;00m, -\u001b[34m1\u001b[39;49;00m)\r\n",
      "    \r\n",
      "    data = torch.from_numpy(data_pack)\r\n",
      "    data = data.to(device)\r\n",
      "\r\n",
      "    \u001b[37m# Make sure to put the model into evaluation mode\u001b[39;49;00m\r\n",
      "    model.eval()\r\n",
      "\r\n",
      "    \u001b[37m# TODO: Compute the result of applying the model to the input data. The variable `result` should\u001b[39;49;00m\r\n",
      "    \u001b[37m#       be a numpy array which contains a single integer which is either 1 or 0\u001b[39;49;00m\r\n",
      "    \r\n",
      "    \u001b[34mwith\u001b[39;49;00m torch.no_grad():\r\n",
      "        output = model.forward(data)\r\n",
      "        \r\n",
      "    result = np.round(output.numpy)\r\n",
      "\r\n",
      "    \u001b[34mreturn\u001b[39;49;00m result\r\n"
     ]
    }
   ],
   "source": [
    "!pygmentize serve/predict.py"
   ]
  },
  {
   "cell_type": "markdown",
   "metadata": {},
   "source": [
    "As mentioned earlier, the `model_fn` method is the same as the one provided in the training code and the `input_fn` and `output_fn` methods are very simple and your task will be to complete the `predict_fn` method. Make sure that you save the completed file as `predict.py` in the `serve` directory.\n",
    "\n",
    "**TODO**: Complete the `predict_fn()` method in the `serve/predict.py` file."
   ]
  },
  {
   "cell_type": "markdown",
   "metadata": {},
   "source": [
    "### Deploying the model\n",
    "\n",
    "Now that the custom inference code has been written, we will create and deploy our model. To begin with, we need to construct a new PyTorchModel object which points to the model artifacts created during training and also points to the inference code that we wish to use. Then we can call the deploy method to launch the deployment container.\n",
    "\n",
    "**NOTE**: The default behaviour for a deployed PyTorch model is to assume that any input passed to the predictor is a `numpy` array. In our case we want to send a string so we need to construct a simple wrapper around the `RealTimePredictor` class to accomodate simple strings. In a more complicated situation you may want to provide a serialization object, for example if you wanted to sent image data."
   ]
  },
  {
   "cell_type": "code",
   "execution_count": 59,
   "metadata": {},
   "outputs": [
    {
     "name": "stdout",
     "output_type": "stream",
     "text": [
      "--------------------------------------------------------------------------------------!"
     ]
    }
   ],
   "source": [
    "from sagemaker.predictor import RealTimePredictor\n",
    "from sagemaker.pytorch import PyTorchModel\n",
    "\n",
    "class StringPredictor(RealTimePredictor):\n",
    "    def __init__(self, endpoint_name, sagemaker_session):\n",
    "        super(StringPredictor, self).__init__(endpoint_name, sagemaker_session, content_type='text/plain')\n",
    "\n",
    "model = PyTorchModel(model_data=estimator.model_data,\n",
    "                     role = role,\n",
    "                     framework_version='0.4.0',\n",
    "                     entry_point='predict.py',\n",
    "                     source_dir='serve',\n",
    "                     predictor_cls=StringPredictor)\n",
    "predictor = model.deploy(initial_instance_count=1, instance_type='ml.m4.xlarge')"
   ]
  },
  {
   "cell_type": "markdown",
   "metadata": {},
   "source": [
    "### Testing the model\n",
    "\n",
    "Now that we have deployed our model with the custom inference code, we should test to see if everything is working. Here we test our model by loading the first `250` positive and negative reviews and send them to the endpoint, then collect the results. The reason for only sending some of the data is that the amount of time it takes for our model to process the input and then perform inference is quite long and so testing the entire data set would be prohibitive."
   ]
  },
  {
   "cell_type": "code",
   "execution_count": 60,
   "metadata": {},
   "outputs": [],
   "source": [
    "import glob\n",
    "\n",
    "def test_reviews(data_dir='../data/aclImdb', stop=250):\n",
    "    \n",
    "    results = []\n",
    "    ground = []\n",
    "    \n",
    "    # We make sure to test both positive and negative reviews    \n",
    "    for sentiment in ['pos', 'neg']:\n",
    "        \n",
    "        path = os.path.join(data_dir, 'test', sentiment, '*.txt')\n",
    "        files = glob.glob(path)\n",
    "        \n",
    "        files_read = 0\n",
    "        \n",
    "        print('Starting ', sentiment, ' files')\n",
    "        \n",
    "        # Iterate through the files and send them to the predictor\n",
    "        for f in files:\n",
    "            with open(f) as review:\n",
    "                # First, we store the ground truth (was the review positive or negative)\n",
    "                if sentiment == 'pos':\n",
    "                    ground.append(1)\n",
    "                else:\n",
    "                    ground.append(0)\n",
    "                # Read in the review and convert to 'utf-8' for transmission via HTTP\n",
    "                review_input = review.read().encode('utf-8')\n",
    "                # Send the review to the predictor and store the results\n",
    "                results.append(int(predictor.predict(review_input)))\n",
    "                \n",
    "            # Sending reviews to our endpoint one at a time takes a while so we\n",
    "            # only send a small number of reviews\n",
    "            files_read += 1\n",
    "            if files_read == stop:\n",
    "                break\n",
    "            \n",
    "    return ground, results"
   ]
  },
  {
   "cell_type": "code",
   "execution_count": 61,
   "metadata": {},
   "outputs": [
    {
     "name": "stdout",
     "output_type": "stream",
     "text": [
      "Starting  pos  files\n",
      "Starting  neg  files\n"
     ]
    }
   ],
   "source": [
    "ground, results = test_reviews()"
   ]
  },
  {
   "cell_type": "code",
   "execution_count": 62,
   "metadata": {},
   "outputs": [
    {
     "data": {
      "text/plain": [
       "0.848"
      ]
     },
     "execution_count": 62,
     "metadata": {},
     "output_type": "execute_result"
    }
   ],
   "source": [
    "from sklearn.metrics import accuracy_score\n",
    "accuracy_score(ground, results)"
   ]
  },
  {
   "cell_type": "markdown",
   "metadata": {},
   "source": [
    "As an additional test, we can try sending the `test_review` that we looked at earlier."
   ]
  },
  {
   "cell_type": "code",
   "execution_count": 63,
   "metadata": {},
   "outputs": [
    {
     "data": {
      "text/plain": [
       "b'1'"
      ]
     },
     "execution_count": 63,
     "metadata": {},
     "output_type": "execute_result"
    }
   ],
   "source": [
    "predictor.predict(test_review)"
   ]
  },
  {
   "cell_type": "markdown",
   "metadata": {},
   "source": [
    "Now that we know our endpoint is working as expected, we can set up the web page that will interact with it. If you don't have time to finish the project now, make sure to skip down to the end of this notebook and shut down your endpoint. You can deploy it again when you come back."
   ]
  },
  {
   "cell_type": "markdown",
   "metadata": {},
   "source": [
    "## Step 7 (again): Use the model for the web app\n",
    "\n",
    "> **TODO:** This entire section and the next contain tasks for you to complete, mostly using the AWS console.\n",
    "\n",
    "So far we have been accessing our model endpoint by constructing a predictor object which uses the endpoint and then just using the predictor object to perform inference. What if we wanted to create a web app which accessed our model? The way things are set up currently makes that not possible since in order to access a SageMaker endpoint the app would first have to authenticate with AWS using an IAM role which included access to SageMaker endpoints. However, there is an easier way! We just need to use some additional AWS services.\n",
    "\n",
    "<img src=\"Web App Diagram.svg\">\n",
    "\n",
    "The diagram above gives an overview of how the various services will work together. On the far right is the model which we trained above and which is deployed using SageMaker. On the far left is our web app that collects a user's movie review, sends it off and expects a positive or negative sentiment in return.\n",
    "\n",
    "In the middle is where some of the magic happens. We will construct a Lambda function, which you can think of as a straightforward Python function that can be executed whenever a specified event occurs. We will give this function permission to send and recieve data from a SageMaker endpoint.\n",
    "\n",
    "Lastly, the method we will use to execute the Lambda function is a new endpoint that we will create using API Gateway. This endpoint will be a url that listens for data to be sent to it. Once it gets some data it will pass that data on to the Lambda function and then return whatever the Lambda function returns. Essentially it will act as an interface that lets our web app communicate with the Lambda function.\n",
    "\n",
    "### Setting up a Lambda function\n",
    "\n",
    "The first thing we are going to do is set up a Lambda function. This Lambda function will be executed whenever our public API has data sent to it. When it is executed it will receive the data, perform any sort of processing that is required, send the data (the review) to the SageMaker endpoint we've created and then return the result.\n",
    "\n",
    "#### Part A: Create an IAM Role for the Lambda function\n",
    "\n",
    "Since we want the Lambda function to call a SageMaker endpoint, we need to make sure that it has permission to do so. To do this, we will construct a role that we can later give the Lambda function.\n",
    "\n",
    "Using the AWS Console, navigate to the **IAM** page and click on **Roles**. Then, click on **Create role**. Make sure that the **AWS service** is the type of trusted entity selected and choose **Lambda** as the service that will use this role, then click **Next: Permissions**.\n",
    "\n",
    "In the search box type `sagemaker` and select the check box next to the **AmazonSageMakerFullAccess** policy. Then, click on **Next: Review**.\n",
    "\n",
    "Lastly, give this role a name. Make sure you use a name that you will remember later on, for example `LambdaSageMakerRole`. Then, click on **Create role**.\n",
    "\n",
    "#### Part B: Create a Lambda function\n",
    "\n",
    "Now it is time to actually create the Lambda function.\n",
    "\n",
    "Using the AWS Console, navigate to the AWS Lambda page and click on **Create a function**. When you get to the next page, make sure that **Author from scratch** is selected. Now, name your Lambda function, using a name that you will remember later on, for example `sentiment_analysis_func`. Make sure that the **Python 3.6** runtime is selected and then choose the role that you created in the previous part. Then, click on **Create Function**.\n",
    "\n",
    "On the next page you will see some information about the Lambda function you've just created. If you scroll down you should see an editor in which you can write the code that will be executed when your Lambda function is triggered. In our example, we will use the code below. \n",
    "\n",
    "```python\n",
    "# We need to use the low-level library to interact with SageMaker since the SageMaker API\n",
    "# is not available natively through Lambda.\n",
    "import boto3\n",
    "\n",
    "def lambda_handler(event, context):\n",
    "\n",
    "    # The SageMaker runtime is what allows us to invoke the endpoint that we've created.\n",
    "    runtime = boto3.Session().client('sagemaker-runtime')\n",
    "\n",
    "    # Now we use the SageMaker runtime to invoke our endpoint, sending the review we were given\n",
    "    response = runtime.invoke_endpoint(EndpointName = '**ENDPOINT NAME HERE**',    # The name of the endpoint we created\n",
    "                                       ContentType = 'text/plain',                 # The data format that is expected\n",
    "                                       Body = event['body'])                       # The actual review\n",
    "\n",
    "    # The response is an HTTP response whose body contains the result of our inference\n",
    "    result = response['Body'].read().decode('utf-8')\n",
    "\n",
    "    return {\n",
    "        'statusCode' : 200,\n",
    "        'headers' : { 'Content-Type' : 'text/plain', 'Access-Control-Allow-Origin' : '*' },\n",
    "        'body' : result\n",
    "    }\n",
    "```\n",
    "\n",
    "Once you have copy and pasted the code above into the Lambda code editor, replace the `**ENDPOINT NAME HERE**` portion with the name of the endpoint that we deployed earlier. You can determine the name of the endpoint using the code cell below."
   ]
  },
  {
   "cell_type": "code",
   "execution_count": 64,
   "metadata": {},
   "outputs": [
    {
     "data": {
      "text/plain": [
       "'sagemaker-pytorch-2019-12-05-13-28-59-289'"
      ]
     },
     "execution_count": 64,
     "metadata": {},
     "output_type": "execute_result"
    }
   ],
   "source": [
    "predictor.endpoint"
   ]
  },
  {
   "cell_type": "markdown",
   "metadata": {},
   "source": [
    "Once you have added the endpoint name to the Lambda function, click on **Save**. Your Lambda function is now up and running. Next we need to create a way for our web app to execute the Lambda function.\n",
    "\n",
    "### Setting up API Gateway\n",
    "\n",
    "Now that our Lambda function is set up, it is time to create a new API using API Gateway that will trigger the Lambda function we have just created.\n",
    "\n",
    "Using AWS Console, navigate to **Amazon API Gateway** and then click on **Get started**.\n",
    "\n",
    "On the next page, make sure that **New API** is selected and give the new api a name, for example, `sentiment_analysis_api`. Then, click on **Create API**.\n",
    "\n",
    "Now we have created an API, however it doesn't currently do anything. What we want it to do is to trigger the Lambda function that we created earlier.\n",
    "\n",
    "Select the **Actions** dropdown menu and click **Create Method**. A new blank method will be created, select its dropdown menu and select **POST**, then click on the check mark beside it.\n",
    "\n",
    "For the integration point, make sure that **Lambda Function** is selected and click on the **Use Lambda Proxy integration**. This option makes sure that the data that is sent to the API is then sent directly to the Lambda function with no processing. It also means that the return value must be a proper response object as it will also not be processed by API Gateway.\n",
    "\n",
    "Type the name of the Lambda function you created earlier into the **Lambda Function** text entry box and then click on **Save**. Click on **OK** in the pop-up box that then appears, giving permission to API Gateway to invoke the Lambda function you created.\n",
    "\n",
    "The last step in creating the API Gateway is to select the **Actions** dropdown and click on **Deploy API**. You will need to create a new Deployment stage and name it anything you like, for example `prod`.\n",
    "\n",
    "You have now successfully set up a public API to access your SageMaker model. Make sure to copy or write down the URL provided to invoke your newly created public API as this will be needed in the next step. This URL can be found at the top of the page, highlighted in blue next to the text **Invoke URL**."
   ]
  },
  {
   "cell_type": "markdown",
   "metadata": {},
   "source": [
    "## Step 4: Deploying our web app\n",
    "\n",
    "Now that we have a publicly available API, we can start using it in a web app. For our purposes, we have provided a simple static html file which can make use of the public api you created earlier.\n",
    "\n",
    "In the `website` folder there should be a file called `index.html`. Download the file to your computer and open that file up in a text editor of your choice. There should be a line which contains **\\*\\*REPLACE WITH PUBLIC API URL\\*\\***. Replace this string with the url that you wrote down in the last step and then save the file.\n",
    "\n",
    "Now, if you open `index.html` on your local computer, your browser will behave as a local web server and you can use the provided site to interact with your SageMaker model.\n",
    "\n",
    "If you'd like to go further, you can host this html file anywhere you'd like, for example using github or hosting a static site on Amazon's S3. Once you have done this you can share the link with anyone you'd like and have them play with it too!\n",
    "\n",
    "> **Important Note** In order for the web app to communicate with the SageMaker endpoint, the endpoint has to actually be deployed and running. This means that you are paying for it. Make sure that the endpoint is running when you want to use the web app but that you shut it down when you don't need it, otherwise you will end up with a surprisingly large AWS bill.\n",
    "\n",
    "**TODO:** Make sure that you include the edited `index.html` file in your project submission."
   ]
  },
  {
   "cell_type": "markdown",
   "metadata": {},
   "source": [
    "Now that your web app is working, trying playing around with it and see how well it works.\n",
    "\n",
    "**Question**: Give an example of a review that you entered into your web app. What was the predicted sentiment of your example review?"
   ]
  },
  {
   "cell_type": "markdown",
   "metadata": {},
   "source": [
    "**Answer:**\n",
    "\n",
    "The movie tells story in a clear logic and shares us with an integrated story. A good movie!\n",
    "\n",
    "The predicted sentiment of my example review is POSITIVE."
   ]
  },
  {
   "cell_type": "markdown",
   "metadata": {},
   "source": [
    "### Delete the endpoint\n",
    "\n",
    "Remember to always shut down your endpoint if you are no longer using it. You are charged for the length of time that the endpoint is running so if you forget and leave it on you could end up with an unexpectedly large bill."
   ]
  },
  {
   "cell_type": "code",
   "execution_count": 65,
   "metadata": {},
   "outputs": [],
   "source": [
    "predictor.delete_endpoint()"
   ]
  },
  {
   "cell_type": "code",
   "execution_count": null,
   "metadata": {},
   "outputs": [],
   "source": []
  }
 ],
 "metadata": {
  "kernelspec": {
   "display_name": "conda_pytorch_p36",
   "language": "python",
   "name": "conda_pytorch_p36"
  },
  "language_info": {
   "codemirror_mode": {
    "name": "ipython",
    "version": 3
   },
   "file_extension": ".py",
   "mimetype": "text/x-python",
   "name": "python",
   "nbconvert_exporter": "python",
   "pygments_lexer": "ipython3",
   "version": "3.6.5"
  }
 },
 "nbformat": 4,
 "nbformat_minor": 2
}
